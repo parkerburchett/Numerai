{
 "cells": [
  {
   "cell_type": "markdown",
   "metadata": {},
   "source": [
    "# Exploring the stats on the leaderboard\r\n",
    "\r\n",
    "# REWRITE THIS TO BE CLEARER\r\n",
    "\r\n",
    "This note book does the following:\r\n",
    "\r\n",
    "1. Ping the Leaderboard and cast it as a Pandas Dataframe\r\n",
    "2. Show some graphs of the distribtion and corrilation between some varibles. \r\n",
    "3. Print the results of OLS regression on between some of the variables. \r\n",
    "4. A SQL table you can run queires againes using temp table in python"
   ]
  },
  {
   "cell_type": "markdown",
   "metadata": {},
   "source": [
    "# Install Dependencies\r\n",
    "\r\n"
   ]
  },
  {
   "cell_type": "code",
   "execution_count": 42,
   "metadata": {},
   "outputs": [
    {
     "name": "stdout",
     "output_type": "stream",
     "text": [
      "Requirement already satisfied: numpy in c:\\users\\parke\\appdata\\local\\packages\\pythonsoftwarefoundation.python.3.9_qbz5n2kfra8p0\\localcache\\local-packages\\python39\\site-packages (1.20.1)\n"
     ]
    },
    {
     "name": "stderr",
     "output_type": "stream",
     "text": [
      "WARNING: You are using pip version 20.2.3; however, version 21.0.1 is available.\n",
      "You should consider upgrading via the 'C:\\Users\\parke\\AppData\\Local\\Microsoft\\WindowsApps\\PythonSoftwareFoundation.Python.3.9_qbz5n2kfra8p0\\python.exe -m pip install --upgrade pip' command.\n"
     ]
    },
    {
     "name": "stdout",
     "output_type": "stream",
     "text": [
      "Requirement already satisfied: pandas in c:\\users\\parke\\appdata\\local\\packages\\pythonsoftwarefoundation.python.3.9_qbz5n2kfra8p0\\localcache\\local-packages\\python39\\site-packages (1.2.3)\n",
      "Requirement already satisfied: numpy>=1.16.5 in c:\\users\\parke\\appdata\\local\\packages\\pythonsoftwarefoundation.python.3.9_qbz5n2kfra8p0\\localcache\\local-packages\\python39\\site-packages (from pandas) (1.20.1)\n",
      "Requirement already satisfied: python-dateutil>=2.7.3 in c:\\users\\parke\\appdata\\local\\packages\\pythonsoftwarefoundation.python.3.9_qbz5n2kfra8p0\\localcache\\local-packages\\python39\\site-packages (from pandas) (2.8.1)\n",
      "Requirement already satisfied: pytz>=2017.3 in c:\\users\\parke\\appdata\\local\\packages\\pythonsoftwarefoundation.python.3.9_qbz5n2kfra8p0\\localcache\\local-packages\\python39\\site-packages (from pandas) (2021.1)\n",
      "Requirement already satisfied: six>=1.5 in c:\\users\\parke\\appdata\\local\\packages\\pythonsoftwarefoundation.python.3.9_qbz5n2kfra8p0\\localcache\\local-packages\\python39\\site-packages (from python-dateutil>=2.7.3->pandas) (1.15.0)\n"
     ]
    },
    {
     "name": "stderr",
     "output_type": "stream",
     "text": [
      "WARNING: You are using pip version 20.2.3; however, version 21.0.1 is available.\n",
      "You should consider upgrading via the 'C:\\Users\\parke\\AppData\\Local\\Microsoft\\WindowsApps\\PythonSoftwareFoundation.Python.3.9_qbz5n2kfra8p0\\python.exe -m pip install --upgrade pip' command.\n",
      "ERROR: Could not find a version that satisfies the requirement json (from versions: none)\n",
      "ERROR: No matching distribution found for json\n",
      "WARNING: You are using pip version 20.2.3; however, version 21.0.1 is available.\n",
      "You should consider upgrading via the 'C:\\Users\\parke\\AppData\\Local\\Microsoft\\WindowsApps\\PythonSoftwareFoundation.Python.3.9_qbz5n2kfra8p0\\python.exe -m pip install --upgrade pip' command.\n"
     ]
    },
    {
     "name": "stdout",
     "output_type": "stream",
     "text": [
      "Requirement already satisfied: requests in c:\\users\\parke\\appdata\\local\\packages\\pythonsoftwarefoundation.python.3.9_qbz5n2kfra8p0\\localcache\\local-packages\\python39\\site-packages (2.25.1)\n",
      "Requirement already satisfied: chardet<5,>=3.0.2 in c:\\users\\parke\\appdata\\local\\packages\\pythonsoftwarefoundation.python.3.9_qbz5n2kfra8p0\\localcache\\local-packages\\python39\\site-packages (from requests) (4.0.0)\n",
      "Requirement already satisfied: idna<3,>=2.5 in c:\\users\\parke\\appdata\\local\\packages\\pythonsoftwarefoundation.python.3.9_qbz5n2kfra8p0\\localcache\\local-packages\\python39\\site-packages (from requests) (2.10)\n",
      "Requirement already satisfied: certifi>=2017.4.17 in c:\\users\\parke\\appdata\\local\\packages\\pythonsoftwarefoundation.python.3.9_qbz5n2kfra8p0\\localcache\\local-packages\\python39\\site-packages (from requests) (2020.12.5)\n",
      "Requirement already satisfied: urllib3<1.27,>=1.21.1 in c:\\users\\parke\\appdata\\local\\packages\\pythonsoftwarefoundation.python.3.9_qbz5n2kfra8p0\\localcache\\local-packages\\python39\\site-packages (from requests) (1.26.3)\n"
     ]
    },
    {
     "name": "stderr",
     "output_type": "stream",
     "text": [
      "WARNING: You are using pip version 20.2.3; however, version 21.0.1 is available.\n",
      "You should consider upgrading via the 'C:\\Users\\parke\\AppData\\Local\\Microsoft\\WindowsApps\\PythonSoftwareFoundation.Python.3.9_qbz5n2kfra8p0\\python.exe -m pip install --upgrade pip' command.\n",
      "ERROR: Could not find a version that satisfies the requirement matplotlit (from versions: none)\n",
      "ERROR: No matching distribution found for matplotlit\n",
      "WARNING: You are using pip version 20.2.3; however, version 21.0.1 is available.\n",
      "You should consider upgrading via the 'C:\\Users\\parke\\AppData\\Local\\Microsoft\\WindowsApps\\PythonSoftwareFoundation.Python.3.9_qbz5n2kfra8p0\\python.exe -m pip install --upgrade pip' command.\n"
     ]
    },
    {
     "name": "stdout",
     "output_type": "stream",
     "text": [
      "Requirement already satisfied: statsmodels in c:\\users\\parke\\appdata\\local\\packages\\pythonsoftwarefoundation.python.3.9_qbz5n2kfra8p0\\localcache\\local-packages\\python39\\site-packages (0.12.2)\n",
      "Requirement already satisfied: numpy>=1.15 in c:\\users\\parke\\appdata\\local\\packages\\pythonsoftwarefoundation.python.3.9_qbz5n2kfra8p0\\localcache\\local-packages\\python39\\site-packages (from statsmodels) (1.20.1)\n",
      "Requirement already satisfied: scipy>=1.1 in c:\\users\\parke\\appdata\\local\\packages\\pythonsoftwarefoundation.python.3.9_qbz5n2kfra8p0\\localcache\\local-packages\\python39\\site-packages (from statsmodels) (1.6.1)\n",
      "Requirement already satisfied: pandas>=0.21 in c:\\users\\parke\\appdata\\local\\packages\\pythonsoftwarefoundation.python.3.9_qbz5n2kfra8p0\\localcache\\local-packages\\python39\\site-packages (from statsmodels) (1.2.3)\n",
      "Requirement already satisfied: patsy>=0.5 in c:\\users\\parke\\appdata\\local\\packages\\pythonsoftwarefoundation.python.3.9_qbz5n2kfra8p0\\localcache\\local-packages\\python39\\site-packages (from statsmodels) (0.5.1)\n",
      "Requirement already satisfied: pytz>=2017.3 in c:\\users\\parke\\appdata\\local\\packages\\pythonsoftwarefoundation.python.3.9_qbz5n2kfra8p0\\localcache\\local-packages\\python39\\site-packages (from pandas>=0.21->statsmodels) (2021.1)\n",
      "Requirement already satisfied: python-dateutil>=2.7.3 in c:\\users\\parke\\appdata\\local\\packages\\pythonsoftwarefoundation.python.3.9_qbz5n2kfra8p0\\localcache\\local-packages\\python39\\site-packages (from pandas>=0.21->statsmodels) (2.8.1)\n",
      "Requirement already satisfied: six in c:\\users\\parke\\appdata\\local\\packages\\pythonsoftwarefoundation.python.3.9_qbz5n2kfra8p0\\localcache\\local-packages\\python39\\site-packages (from patsy>=0.5->statsmodels) (1.15.0)\n"
     ]
    },
    {
     "name": "stderr",
     "output_type": "stream",
     "text": [
      "WARNING: You are using pip version 20.2.3; however, version 21.0.1 is available.\n",
      "You should consider upgrading via the 'C:\\Users\\parke\\AppData\\Local\\Microsoft\\WindowsApps\\PythonSoftwareFoundation.Python.3.9_qbz5n2kfra8p0\\python.exe -m pip install --upgrade pip' command.\n"
     ]
    }
   ],
   "source": [
    "!pip install numpy\r\n",
    "!pip install pandas \r\n",
    "!pip install json \r\n",
    "!pip install requests \r\n",
    "!pip install matplotlit\r\n",
    "!pip install statsmodels "
   ]
  },
  {
   "cell_type": "markdown",
   "metadata": {},
   "source": [
    "# Import packages"
   ]
  },
  {
   "cell_type": "code",
   "execution_count": 43,
   "metadata": {},
   "outputs": [],
   "source": [
    "import requests\r\n",
    "import json\r\n",
    "import numpy as np\r\n",
    "import pandas as pd\r\n",
    "import matplotlib.pyplot as plt\r\n",
    "import statsmodels.api as sm"
   ]
  },
  {
   "cell_type": "markdown",
   "metadata": {},
   "source": [
    "# Ping the Leaderboard"
   ]
  },
  {
   "cell_type": "code",
   "execution_count": 44,
   "metadata": {},
   "outputs": [
    {
     "name": "stdout",
     "output_type": "stream",
     "text": [
      "corrRep       5126\n",
      "fncRep        5126\n",
      "mmcRep        5126\n",
      "nmrStaked     5126\n",
      "rank          5126\n",
      "3M_returns    1871\n",
      "1Y_returns     398\n",
      "1D_returns    2395\n",
      "username      5126\n",
      "dtype: int64\n"
     ]
    },
    {
     "data": {
      "text/html": "<div>\n<style scoped>\n    .dataframe tbody tr th:only-of-type {\n        vertical-align: middle;\n    }\n\n    .dataframe tbody tr th {\n        vertical-align: top;\n    }\n\n    .dataframe thead th {\n        text-align: right;\n    }\n</style>\n<table border=\"1\" class=\"dataframe\">\n  <thead>\n    <tr style=\"text-align: right;\">\n      <th></th>\n      <th>corrRep</th>\n      <th>fncRep</th>\n      <th>mmcRep</th>\n      <th>nmrStaked</th>\n      <th>rank</th>\n      <th>3M_returns</th>\n      <th>1Y_returns</th>\n      <th>1D_returns</th>\n      <th>username</th>\n    </tr>\n  </thead>\n  <tbody>\n    <tr>\n      <th>0</th>\n      <td>0.051299</td>\n      <td>0.013977</td>\n      <td>0.023419</td>\n      <td>775.855097</td>\n      <td>1</td>\n      <td>161.226172</td>\n      <td>NaN</td>\n      <td>-2.208261</td>\n      <td>quantyquant</td>\n    </tr>\n    <tr>\n      <th>1</th>\n      <td>0.048649</td>\n      <td>0.008177</td>\n      <td>0.021808</td>\n      <td>931.557869</td>\n      <td>2</td>\n      <td>156.947646</td>\n      <td>509.068926</td>\n      <td>-3.127175</td>\n      <td>benben11</td>\n    </tr>\n    <tr>\n      <th>2</th>\n      <td>0.048194</td>\n      <td>0.025251</td>\n      <td>0.019872</td>\n      <td>95.382757</td>\n      <td>3</td>\n      <td>55.924323</td>\n      <td>217.778678</td>\n      <td>-2.875499</td>\n      <td>labrat</td>\n    </tr>\n    <tr>\n      <th>3</th>\n      <td>0.042151</td>\n      <td>0.018633</td>\n      <td>0.014259</td>\n      <td>0.000000</td>\n      <td>4</td>\n      <td>NaN</td>\n      <td>NaN</td>\n      <td>NaN</td>\n      <td>ezekiel_47_v12</td>\n    </tr>\n    <tr>\n      <th>4</th>\n      <td>0.041467</td>\n      <td>0.015879</td>\n      <td>0.016793</td>\n      <td>0.000000</td>\n      <td>5</td>\n      <td>NaN</td>\n      <td>NaN</td>\n      <td>0.912701</td>\n      <td>uuazed4</td>\n    </tr>\n  </tbody>\n</table>\n</div>",
      "text/plain": "    corrRep    fncRep    mmcRep   nmrStaked  rank  3M_returns  1Y_returns  \\\n0  0.051299  0.013977  0.023419  775.855097     1  161.226172         NaN   \n1  0.048649  0.008177  0.021808  931.557869     2  156.947646  509.068926   \n2  0.048194  0.025251  0.019872   95.382757     3   55.924323  217.778678   \n3  0.042151  0.018633  0.014259    0.000000     4         NaN         NaN   \n4  0.041467  0.015879  0.016793    0.000000     5         NaN         NaN   \n\n   1D_returns        username  \n0   -2.208261     quantyquant  \n1   -3.127175        benben11  \n2   -2.875499          labrat  \n3         NaN  ezekiel_47_v12  \n4    0.912701         uuazed4  "
     },
     "execution_count": 44,
     "metadata": {},
     "output_type": "execute_result"
    }
   ],
   "source": [
    "def get_leaderboard() -> pd.DataFrame:\r\n",
    "    \"\"\"\r\n",
    "        Ping the Numerai leaderboard and return a Pandas DataFrame of the contents.\r\n",
    "        https://numer.ai/tournament\r\n",
    "\r\n",
    "    \"\"\"\r\n",
    "    url = 'https://api-tournament.numer.ai/'\r\n",
    "    query = \"\"\"{ \r\n",
    "\tv2Leaderboard {\r\n",
    "\t    returns\r\n",
    "        corrRep\r\n",
    "        fncRep\r\n",
    "        mmcRep\r\n",
    "        username\r\n",
    "        nmrStaked\r\n",
    "        returns \r\n",
    "        return_52Weeks\r\n",
    "        return_13Weeks\r\n",
    "        rank\r\n",
    "\t    }  \r\n",
    "    }\"\"\"\r\n",
    "    r = requests.post(url=url, json={'query': query})\r\n",
    "    json_data = json.loads(r.text)\r\n",
    "    df_data = json_data['data']['v2Leaderboard']\r\n",
    "    df = pd.DataFrame(df_data)\r\n",
    "    df.convert_dtypes() # the auto casts the columns into what it thinks is the most appropriate \r\n",
    "    df['nmrStaked'] = pd.to_numeric(df['nmrStaked'])\r\n",
    "    df = df.rename(columns={'returns': '1D_returns', 'return_13Weeks': '3M_returns', 'return_52Weeks': '1Y_returns'})\r\n",
    "    return df\r\n",
    "\r\n",
    "df =  get_leaderboard()\r\n",
    "print(df.count())\r\n",
    "df.head()\r\n"
   ]
  },
  {
   "cell_type": "markdown",
   "metadata": {},
   "source": [
    "# Look at some of the distributions\r\n"
   ]
  },
  {
   "cell_type": "markdown",
   "metadata": {},
   "source": [
    "Some methods to create different types of plots. \r\n",
    "\r\n",
    "You can either use the default variables in defined in the method or you can substitute your own.\r\n",
    "\r\n",
    "Every chart creater has the optional parmater min_stake. This refers to how the minimum stake size to filter by.The default is 0.\r\n"
   ]
  },
  {
   "cell_type": "code",
   "execution_count": 50,
   "metadata": {},
   "outputs": [],
   "source": [
    "def create_box_plot(df, col='corrRep', min_stake=0):\r\n",
    "    x = df[(df[col].notnull()) & (df['nmrStaked'] > min_stake)][col]\r\n",
    "    is_null = df[(df[col].notnull() == False)][col]\r\n",
    "    print(is_null.head())\r\n",
    "    plt.boxplot(x, vert=False)\r\n",
    "    num_elements = x.count()\r\n",
    "    plt.title(\r\n",
    "        f'Distribution of {col} nmrStaked>{min_stake}\\n Number of Elements:{num_elements}'\r\n",
    "    )\r\n",
    "    plt.xlabel(col)\r\n",
    "    plt.show()\r\n",
    "\r\n",
    "\r\n",
    "def create_scatter_plot(df, x_name='corrRep', y_name='fncRep', min_stake=0):\r\n",
    "    x = df[(df[x_name].notnull()) & (df['nmrStaked'] > min_stake)][x_name]\r\n",
    "    y = df[(df[x_name].notnull()) & (df['nmrStaked'] > min_stake)][y_name]\r\n",
    "    plt.scatter(x, y, s=.5)\r\n",
    "    plt.xlabel(x_name)\r\n",
    "    plt.ylabel(y_name)\r\n",
    "    num_elements = x.count()\r\n",
    "    plt.title(\r\n",
    "        f'{y_name} v {x_name} when nmrStaked>{min_stake}\\n Number of Elements:{num_elements}'\r\n",
    "    )\r\n",
    "    plt.show()\r\n",
    "\r\n",
    "\r\n",
    "def create_histogram(df, col='corrRep', bins=50, min_stake=0):\r\n",
    "    x = df[(df[col].notnull()) & (df['nmrStaked'] > min_stake)][col]\r\n",
    "    plt.hist(x, bins)\r\n",
    "    plt.xlabel(col)\r\n",
    "    plt.ylabel('Count')\r\n",
    "    num_elements = x.count()\r\n",
    "    plt.title(\r\n",
    "        f'Histogram of {col} when nmrStaked>{min_stake}\\n Number of Elements:{num_elements}'\r\n",
    "    )\r\n",
    "    plt.show()\r\n",
    "\r\n",
    "\r\n",
    "# Change the plot sizes\r\n",
    "plt.rcParams[\"figure.figsize\"] = (20,3)"
   ]
  },
  {
   "cell_type": "code",
   "execution_count": 51,
   "metadata": {},
   "outputs": [
    {
     "name": "stdout",
     "output_type": "stream",
     "text": [
      "Series([], Name: corrRep, dtype: float64)\n"
     ]
    },
    {
     "data": {
      "image/png": "[encoded data removed]",
      "text/plain": "<Figure size 432x288 with 1 Axes>"
     },
     "metadata": {
      "needs_background": "light"
     },
     "output_type": "display_data"
    },
    {
     "data": {
      "image/png": "[encoded data removed]",
      "text/plain": "<Figure size 432x288 with 1 Axes>"
     },
     "metadata": {
      "needs_background": "light"
     },
     "output_type": "display_data"
    },
    {
     "data": {
      "image/png": "[encoded data removed]",
      "text/plain": "<Figure size 432x288 with 1 Axes>"
     },
     "metadata": {
      "needs_background": "light"
     },
     "output_type": "display_data"
    }
   ],
   "source": [
    "create_box_plot(df, min_stake=1)\r\n",
    "create_histogram(df, min_stake=1)\r\n",
    "create_scatter_plot(df, min_stake=1)"
   ]
  }
 ],
 "metadata": {
  "kernelspec": {
   "display_name": "Python 3.9.2 64-bit",
   "metadata": {
    "interpreter": {
     "hash": "6f6d64a7ba9cd062c59eea959ce2d8fc2832d4e9d0b0a9d5e546a142dd474f01"
    }
   },
   "name": "python3"
  },
  "language_info": {
   "codemirror_mode": {
    "name": "ipython",
    "version": 3
   },
   "file_extension": ".py",
   "mimetype": "text/x-python",
   "name": "python",
   "nbconvert_exporter": "python",
   "pygments_lexer": "ipython3",
   "version": "3.9.2"
  },
  "orig_nbformat": 2
 },
 "nbformat": 4,
 "nbformat_minor": 2
}