{
 "cells": [
  {
   "cell_type": "markdown",
   "metadata": {},
   "source": [
    "# Data Vis and Analysis on the LeaderBoard\r\n",
    "## OR: Why is there a negative relationship between FNC and 3M, 1Y returns?\r\n",
    "\r\n",
    "Hi everybody I'm MRQUANTSALOT and created this notebook in order to figure out if participating in this tournement the type of challenge I had a reasonable shot at being successful at. Towards that end, I looked at the characteristics and distribution of successful users. My conclusion is yes, I think I have a reasonable shot at being profitable.\r\n",
    "\r\n",
    "If you have any feedback or suggestions please let me know in this forum post \"link to forum\". I am still a novice at this kind of anaylsis and I am sure there are things that I missed or misinterperated. In particicular, I don't know why there is a negative coefficent on the FNC->3M_returns regression. \r\n",
    "\r\n",
    "This notebook does the following when you run it.\r\n",
    "\r\n",
    "1. Query the [Leaderboard](https://numer.ai/tournament) and cast it as a Pandas Dataframe.\r\n",
    "2. Visualize the relationship between the stake size, the performace performace metrics and returns. \r\n",
    "3. OLS Regression on Returns. \r\n",
    "\r\n",
    "All of the methods are written such that you can change the dependent and independent varibles. I included the visualizations I thought were the interestign but you can check out the other variables yourself."
   ]
  },
  {
   "cell_type": "code",
   "execution_count": 12,
   "metadata": {},
   "outputs": [
    {
     "name": "stdout",
     "output_type": "stream",
     "text": [
      "Requirement already satisfied: numpy in c:\\users\\parke\\appdata\\local\\packages\\pythonsoftwarefoundation.python.3.9_qbz5n2kfra8p0\\localcache\\local-packages\\python39\\site-packages (1.20.1)\n"
     ]
    },
    {
     "name": "stderr",
     "output_type": "stream",
     "text": [
      "WARNING: You are using pip version 20.2.3; however, version 21.0.1 is available.\n",
      "You should consider upgrading via the 'C:\\Users\\parke\\AppData\\Local\\Microsoft\\WindowsApps\\PythonSoftwareFoundation.Python.3.9_qbz5n2kfra8p0\\python.exe -m pip install --upgrade pip' command.\n"
     ]
    },
    {
     "name": "stdout",
     "output_type": "stream",
     "text": [
      "Requirement already satisfied: pandas in c:\\users\\parke\\appdata\\local\\packages\\pythonsoftwarefoundation.python.3.9_qbz5n2kfra8p0\\localcache\\local-packages\\python39\\site-packages (1.2.3)\n",
      "Requirement already satisfied: pytz>=2017.3 in c:\\users\\parke\\appdata\\local\\packages\\pythonsoftwarefoundation.python.3.9_qbz5n2kfra8p0\\localcache\\local-packages\\python39\\site-packages (from pandas) (2021.1)\n",
      "Requirement already satisfied: python-dateutil>=2.7.3 in c:\\users\\parke\\appdata\\local\\packages\\pythonsoftwarefoundation.python.3.9_qbz5n2kfra8p0\\localcache\\local-packages\\python39\\site-packages (from pandas) (2.8.1)\n",
      "Requirement already satisfied: numpy>=1.16.5 in c:\\users\\parke\\appdata\\local\\packages\\pythonsoftwarefoundation.python.3.9_qbz5n2kfra8p0\\localcache\\local-packages\\python39\\site-packages (from pandas) (1.20.1)\n",
      "Requirement already satisfied: six>=1.5 in c:\\users\\parke\\appdata\\local\\packages\\pythonsoftwarefoundation.python.3.9_qbz5n2kfra8p0\\localcache\\local-packages\\python39\\site-packages (from python-dateutil>=2.7.3->pandas) (1.15.0)\n"
     ]
    },
    {
     "name": "stderr",
     "output_type": "stream",
     "text": [
      "WARNING: You are using pip version 20.2.3; however, version 21.0.1 is available.\n",
      "You should consider upgrading via the 'C:\\Users\\parke\\AppData\\Local\\Microsoft\\WindowsApps\\PythonSoftwareFoundation.Python.3.9_qbz5n2kfra8p0\\python.exe -m pip install --upgrade pip' command.\n",
      "ERROR: Could not find a version that satisfies the requirement json (from versions: none)\n",
      "ERROR: No matching distribution found for json\n",
      "WARNING: You are using pip version 20.2.3; however, version 21.0.1 is available.\n",
      "You should consider upgrading via the 'C:\\Users\\parke\\AppData\\Local\\Microsoft\\WindowsApps\\PythonSoftwareFoundation.Python.3.9_qbz5n2kfra8p0\\python.exe -m pip install --upgrade pip' command.\n"
     ]
    },
    {
     "name": "stdout",
     "output_type": "stream",
     "text": [
      "Requirement already satisfied: requests in c:\\users\\parke\\appdata\\local\\packages\\pythonsoftwarefoundation.python.3.9_qbz5n2kfra8p0\\localcache\\local-packages\\python39\\site-packages (2.25.1)\n",
      "Requirement already satisfied: chardet<5,>=3.0.2 in c:\\users\\parke\\appdata\\local\\packages\\pythonsoftwarefoundation.python.3.9_qbz5n2kfra8p0\\localcache\\local-packages\\python39\\site-packages (from requests) (4.0.0)\n",
      "Requirement already satisfied: idna<3,>=2.5 in c:\\users\\parke\\appdata\\local\\packages\\pythonsoftwarefoundation.python.3.9_qbz5n2kfra8p0\\localcache\\local-packages\\python39\\site-packages (from requests) (2.10)\n",
      "Requirement already satisfied: certifi>=2017.4.17 in c:\\users\\parke\\appdata\\local\\packages\\pythonsoftwarefoundation.python.3.9_qbz5n2kfra8p0\\localcache\\local-packages\\python39\\site-packages (from requests) (2020.12.5)\n",
      "Requirement already satisfied: urllib3<1.27,>=1.21.1 in c:\\users\\parke\\appdata\\local\\packages\\pythonsoftwarefoundation.python.3.9_qbz5n2kfra8p0\\localcache\\local-packages\\python39\\site-packages (from requests) (1.26.3)\n"
     ]
    },
    {
     "name": "stderr",
     "output_type": "stream",
     "text": [
      "WARNING: You are using pip version 20.2.3; however, version 21.0.1 is available.\n",
      "You should consider upgrading via the 'C:\\Users\\parke\\AppData\\Local\\Microsoft\\WindowsApps\\PythonSoftwareFoundation.Python.3.9_qbz5n2kfra8p0\\python.exe -m pip install --upgrade pip' command.\n"
     ]
    },
    {
     "name": "stdout",
     "output_type": "stream",
     "text": [
      "Requirement already satisfied: matplotlib in c:\\users\\parke\\appdata\\local\\packages\\pythonsoftwarefoundation.python.3.9_qbz5n2kfra8p0\\localcache\\local-packages\\python39\\site-packages (3.3.4)\n",
      "Requirement already satisfied: cycler>=0.10 in c:\\users\\parke\\appdata\\local\\packages\\pythonsoftwarefoundation.python.3.9_qbz5n2kfra8p0\\localcache\\local-packages\\python39\\site-packages (from matplotlib) (0.10.0)\n",
      "Requirement already satisfied: pillow>=6.2.0 in c:\\users\\parke\\appdata\\local\\packages\\pythonsoftwarefoundation.python.3.9_qbz5n2kfra8p0\\localcache\\local-packages\\python39\\site-packages (from matplotlib) (8.1.0)\n",
      "Requirement already satisfied: kiwisolver>=1.0.1 in c:\\users\\parke\\appdata\\local\\packages\\pythonsoftwarefoundation.python.3.9_qbz5n2kfra8p0\\localcache\\local-packages\\python39\\site-packages (from matplotlib) (1.3.1)\n",
      "Requirement already satisfied: pyparsing!=2.0.4,!=2.1.2,!=2.1.6,>=2.0.3 in c:\\users\\parke\\appdata\\local\\packages\\pythonsoftwarefoundation.python.3.9_qbz5n2kfra8p0\\localcache\\local-packages\\python39\\site-packages (from matplotlib) (2.4.7)\n",
      "Requirement already satisfied: python-dateutil>=2.1 in c:\\users\\parke\\appdata\\local\\packages\\pythonsoftwarefoundation.python.3.9_qbz5n2kfra8p0\\localcache\\local-packages\\python39\\site-packages (from matplotlib) (2.8.1)\n",
      "Requirement already satisfied: numpy>=1.15 in c:\\users\\parke\\appdata\\local\\packages\\pythonsoftwarefoundation.python.3.9_qbz5n2kfra8p0\\localcache\\local-packages\\python39\\site-packages (from matplotlib) (1.20.1)\n",
      "Requirement already satisfied: six in c:\\users\\parke\\appdata\\local\\packages\\pythonsoftwarefoundation.python.3.9_qbz5n2kfra8p0\\localcache\\local-packages\\python39\\site-packages (from cycler>=0.10->matplotlib) (1.15.0)\n"
     ]
    },
    {
     "name": "stderr",
     "output_type": "stream",
     "text": [
      "WARNING: You are using pip version 20.2.3; however, version 21.0.1 is available.\n",
      "You should consider upgrading via the 'C:\\Users\\parke\\AppData\\Local\\Microsoft\\WindowsApps\\PythonSoftwareFoundation.Python.3.9_qbz5n2kfra8p0\\python.exe -m pip install --upgrade pip' command.\n"
     ]
    },
    {
     "name": "stdout",
     "output_type": "stream",
     "text": [
      "Requirement already satisfied: statsmodels in c:\\users\\parke\\appdata\\local\\packages\\pythonsoftwarefoundation.python.3.9_qbz5n2kfra8p0\\localcache\\local-packages\\python39\\site-packages (0.12.2)\n",
      "Requirement already satisfied: pandas>=0.21 in c:\\users\\parke\\appdata\\local\\packages\\pythonsoftwarefoundation.python.3.9_qbz5n2kfra8p0\\localcache\\local-packages\\python39\\site-packages (from statsmodels) (1.2.3)\n",
      "Requirement already satisfied: numpy>=1.15 in c:\\users\\parke\\appdata\\local\\packages\\pythonsoftwarefoundation.python.3.9_qbz5n2kfra8p0\\localcache\\local-packages\\python39\\site-packages (from statsmodels) (1.20.1)\n",
      "Requirement already satisfied: scipy>=1.1 in c:\\users\\parke\\appdata\\local\\packages\\pythonsoftwarefoundation.python.3.9_qbz5n2kfra8p0\\localcache\\local-packages\\python39\\site-packages (from statsmodels) (1.6.1)\n",
      "Requirement already satisfied: patsy>=0.5 in c:\\users\\parke\\appdata\\local\\packages\\pythonsoftwarefoundation.python.3.9_qbz5n2kfra8p0\\localcache\\local-packages\\python39\\site-packages (from statsmodels) (0.5.1)\n",
      "Requirement already satisfied: pytz>=2017.3 in c:\\users\\parke\\appdata\\local\\packages\\pythonsoftwarefoundation.python.3.9_qbz5n2kfra8p0\\localcache\\local-packages\\python39\\site-packages (from pandas>=0.21->statsmodels) (2021.1)\n",
      "Requirement already satisfied: python-dateutil>=2.7.3 in c:\\users\\parke\\appdata\\local\\packages\\pythonsoftwarefoundation.python.3.9_qbz5n2kfra8p0\\localcache\\local-packages\\python39\\site-packages (from pandas>=0.21->statsmodels) (2.8.1)\n"
     ]
    },
    {
     "name": "stderr",
     "output_type": "stream",
     "text": [
      "WARNING: You are using pip version 20.2.3; however, version 21.0.1 is available.\n",
      "You should consider upgrading via the 'C:\\Users\\parke\\AppData\\Local\\Microsoft\\WindowsApps\\PythonSoftwareFoundation.Python.3.9_qbz5n2kfra8p0\\python.exe -m pip install --upgrade pip' command.\n"
     ]
    },
    {
     "name": "stdout",
     "output_type": "stream",
     "text": [
      "Requirement already satisfied: six in c:\\users\\parke\\appdata\\local\\packages\\pythonsoftwarefoundation.python.3.9_qbz5n2kfra8p0\\localcache\\local-packages\\python39\\site-packages (from patsy>=0.5->statsmodels) (1.15.0)\n"
     ]
    }
   ],
   "source": [
    "!pip install numpy\r\n",
    "!pip install pandas \r\n",
    "!pip install json \r\n",
    "!pip install requests \r\n",
    "!pip install matplotlib\r\n",
    "!pip install statsmodels \r\n",
    "%matplotlib inline"
   ]
  },
  {
   "cell_type": "markdown",
   "metadata": {},
   "source": [
    "# Import packages"
   ]
  },
  {
   "cell_type": "code",
   "execution_count": 13,
   "metadata": {},
   "outputs": [],
   "source": [
    "import requests\r\n",
    "import json\r\n",
    "import numpy as np\r\n",
    "import pandas as pd\r\n",
    "import matplotlib.pyplot as plt\r\n",
    "import statsmodels.api as sm"
   ]
  },
  {
   "cell_type": "markdown",
   "metadata": {},
   "source": [
    "# Ping the Leaderboard"
   ]
  },
  {
   "cell_type": "code",
   "execution_count": 14,
   "metadata": {},
   "outputs": [
    {
     "name": "stdout",
     "output_type": "stream",
     "text": [
      "corrRep       5126\n",
      "fncRep        5126\n",
      "mmcRep        5126\n",
      "nmrStaked     5126\n",
      "rank          5126\n",
      "3M_returns    1871\n",
      "1Y_returns     398\n",
      "1D_returns    2395\n",
      "username      5126\n",
      "dtype: int64\n"
     ]
    },
    {
     "data": {
      "text/html": "<div>\n<style scoped>\n    .dataframe tbody tr th:only-of-type {\n        vertical-align: middle;\n    }\n\n    .dataframe tbody tr th {\n        vertical-align: top;\n    }\n\n    .dataframe thead th {\n        text-align: right;\n    }\n</style>\n<table border=\"1\" class=\"dataframe\">\n  <thead>\n    <tr style=\"text-align: right;\">\n      <th></th>\n      <th>corrRep</th>\n      <th>fncRep</th>\n      <th>mmcRep</th>\n      <th>nmrStaked</th>\n      <th>rank</th>\n      <th>3M_returns</th>\n      <th>1Y_returns</th>\n      <th>1D_returns</th>\n      <th>username</th>\n    </tr>\n  </thead>\n  <tbody>\n    <tr>\n      <th>0</th>\n      <td>0.051317</td>\n      <td>0.012655</td>\n      <td>0.023534</td>\n      <td>775.855097</td>\n      <td>1</td>\n      <td>154.676723</td>\n      <td>NaN</td>\n      <td>-3.529810</td>\n      <td>quantyquant</td>\n    </tr>\n    <tr>\n      <th>1</th>\n      <td>0.049374</td>\n      <td>0.007667</td>\n      <td>0.022452</td>\n      <td>931.557869</td>\n      <td>2</td>\n      <td>161.393898</td>\n      <td>519.608612</td>\n      <td>2.731775</td>\n      <td>benben11</td>\n    </tr>\n    <tr>\n      <th>2</th>\n      <td>0.046950</td>\n      <td>0.023869</td>\n      <td>0.019093</td>\n      <td>95.382757</td>\n      <td>3</td>\n      <td>49.330328</td>\n      <td>204.339806</td>\n      <td>-4.489362</td>\n      <td>labrat</td>\n    </tr>\n    <tr>\n      <th>3</th>\n      <td>0.042120</td>\n      <td>0.016383</td>\n      <td>0.023607</td>\n      <td>0.012556</td>\n      <td>4</td>\n      <td>NaN</td>\n      <td>NaN</td>\n      <td>-1.832958</td>\n      <td>hb_falcon</td>\n    </tr>\n    <tr>\n      <th>4</th>\n      <td>0.041836</td>\n      <td>0.015358</td>\n      <td>0.017292</td>\n      <td>0.000000</td>\n      <td>5</td>\n      <td>NaN</td>\n      <td>NaN</td>\n      <td>1.043646</td>\n      <td>uuazed4</td>\n    </tr>\n  </tbody>\n</table>\n</div>",
      "text/plain": "    corrRep    fncRep    mmcRep   nmrStaked  rank  3M_returns  1Y_returns  \\\n0  0.051317  0.012655  0.023534  775.855097     1  154.676723         NaN   \n1  0.049374  0.007667  0.022452  931.557869     2  161.393898  519.608612   \n2  0.046950  0.023869  0.019093   95.382757     3   49.330328  204.339806   \n3  0.042120  0.016383  0.023607    0.012556     4         NaN         NaN   \n4  0.041836  0.015358  0.017292    0.000000     5         NaN         NaN   \n\n   1D_returns     username  \n0   -3.529810  quantyquant  \n1    2.731775     benben11  \n2   -4.489362       labrat  \n3   -1.832958    hb_falcon  \n4    1.043646      uuazed4  "
     },
     "execution_count": 14,
     "metadata": {},
     "output_type": "execute_result"
    }
   ],
   "source": [
    "def get_leaderboard() -> pd.DataFrame:\r\n",
    "    \"\"\"\r\n",
    "        Ping the Numerai leaderboard and return a Pandas DataFrame of the contents.\r\n",
    "        https://numer.ai/tournament\r\n",
    "\r\n",
    "    \"\"\"\r\n",
    "    url = 'https://api-tournament.numer.ai/'\r\n",
    "    # this is a Qraph QL query, that lets me get exaclty and only the data I want. \r\n",
    "    query = \"\"\"{ \r\n",
    "\tv2Leaderboard {\r\n",
    "\t    returns\r\n",
    "        corrRep\r\n",
    "        fncRep\r\n",
    "        mmcRep\r\n",
    "        username\r\n",
    "        nmrStaked\r\n",
    "        returns \r\n",
    "        return_52Weeks\r\n",
    "        return_13Weeks\r\n",
    "        rank\r\n",
    "\t    }  \r\n",
    "    }\"\"\"\r\n",
    "    r = requests.post(url=url, json={'query': query})\r\n",
    "    json_data = json.loads(r.text)\r\n",
    "    df_data = json_data['data']['v2Leaderboard']\r\n",
    "    df = pd.DataFrame(df_data)\r\n",
    "    df.convert_dtypes() # the auto casts the columns into what it thinks is the most appropriate \r\n",
    "    df['nmrStaked'] = pd.to_numeric(df['nmrStaked'])\r\n",
    "\r\n",
    "    # I am renaming the columns\r\n",
    "    df = df.rename(columns={'returns': '1D_returns', 'return_13Weeks': '3M_returns', 'return_52Weeks': '1Y_returns'})\r\n",
    "    return df\r\n",
    "\r\n",
    "df =  get_leaderboard()\r\n",
    "print(df.count())\r\n",
    "df.head()\r\n"
   ]
  },
  {
   "cell_type": "markdown",
   "metadata": {},
   "source": [
    "# Methods to create plots\r\n",
    "\r\n",
    "### Each method has the optional param min_stake. Use it to exclude smaller stakeing users. \r\n"
   ]
  },
  {
   "cell_type": "code",
   "execution_count": 64,
   "metadata": {},
   "outputs": [],
   "source": [
    "def create_box_plot(df, col='corrRep', min_stake=0):\r\n",
    "    x = df[(df[col].notnull()) & (df['nmrStaked'] > min_stake)][col]\r\n",
    "    plt.boxplot(x, vert=False)\r\n",
    "    num_elements = x.count()\r\n",
    "    plt.title(\r\n",
    "        f'Distribution of {col} nmrStaked>{min_stake}\\n Number of Elements:{num_elements}'\r\n",
    "    )\r\n",
    "    plt.xlabel(col)\r\n",
    "    return plt\r\n",
    "\r\n",
    "\r\n",
    "def create_scatter_plot(df, x_name='corrRep', y_name='fncRep', min_stake=0, max_stake=1000000):\r\n",
    "    x = df[((df[x_name].notnull()) & (df['nmrStaked'] > min_stake)) & (df['nmrStaked'] < max_stake)][x_name]\r\n",
    "    y = df[((df[y_name].notnull()) & (df['nmrStaked'] > min_stake)) & (df['nmrStaked'] < max_stake)][y_name]\r\n",
    "    plt.scatter(x, y, s=.5)\r\n",
    "    plt.xlabel(x_name)\r\n",
    "    plt.ylabel(y_name)\r\n",
    "    num_elements = x.count()\r\n",
    "    plt.title(\r\n",
    "        f'{y_name} v {x_name} when nmrStaked>{min_stake}\\n Number of Elements:{num_elements}'\r\n",
    "    )\r\n",
    "    return plt\r\n",
    "\r\n",
    "\r\n",
    "def create_histogram(df, col='corrRep', bins=20, min_stake=0, max_stake=1000000):\r\n",
    "    x = df[((df[col].notnull()) & (df['nmrStaked'] > min_stake)) & (df['nmrStaked'] < max_stake)][col]\r\n",
    "    plt.hist(x, bins, label=f'{col} when nmrStaked>{min_stake}', alpha=.5)\r\n",
    "    plt.xlabel(col)\r\n",
    "    plt.ylabel('Count')\r\n",
    "    num_elements = x.count()\r\n",
    "    # plt.title(\r\n",
    "    #     f'Histogram of {col} when nmrStaked>{min_stake}\\n Number of Elements:{num_elements}'\r\n",
    "    # )\r\n",
    "    \r\n",
    "    return plt\r\n",
    "\r\n",
    "plt.rcParams[\"figure.figsize\"] = (6,6)"
   ]
  },
  {
   "cell_type": "markdown",
   "metadata": {},
   "source": [
    "## Histogram of 3 Month Returns by Stake Size"
   ]
  },
  {
   "cell_type": "code",
   "execution_count": 61,
   "metadata": {},
   "outputs": [
    {
     "data": {
      "image/png": "[encoded data removed]",
      "text/plain": "<Figure size 432x432 with 1 Axes>"
     },
     "metadata": {
      "needs_background": "light"
     },
     "output_type": "display_data"
    }
   ],
   "source": [
    "col = '3M_returns' # change this to be '1D_returns' or '1Y_returns' or 'corrRep', 'fncRep' to see other distributions\r\n",
    "\r\n",
    "create_histogram(df,col=col, min_stake=0, max_stake=.1)\r\n",
    "create_histogram(df,col=col, min_stake=.1, max_stake=100)\r\n",
    "create_histogram(df, col=col,min_stake=100, max_stake=1000000)\r\n",
    "\r\n",
    "plt.legend(['0 to .1','.1 to 100','100+'])\r\n",
    "plt.title(f'Histogram of {col} by stake size')\r\n",
    "plt.show()"
   ]
  },
  {
   "cell_type": "markdown",
   "metadata": {},
   "source": [
    "## Histogram of 3 Month returns excluding where stake is >.1\r\n",
    "\r\n",
    "### This excludes everyone that is only betting the free .01 NMR given out. Staking .1 NMR is only about \r\n",
    "\r\n"
   ]
  },
  {
   "cell_type": "code",
   "execution_count": 42,
   "metadata": {},
   "outputs": [
    {
     "data": {
      "image/png": "[encoded data removed]",
      "text/plain": "<Figure size 432x432 with 1 Axes>"
     },
     "metadata": {
      "needs_background": "light"
     },
     "output_type": "display_data"
    }
   ],
   "source": [
    "col = '3M_returns'\r\n",
    "\r\n",
    "create_histogram(df,col=col, min_stake=0.1, max_stake=1)\r\n",
    "create_histogram(df,col=col, min_stake=1, max_stake=100)\r\n",
    "create_histogram(df, col=col,min_stake=100, max_stake=1000000)\r\n",
    "\r\n",
    "plt.legend(['.1 to 1','1 to 100','100+'])\r\n",
    "plt.show()"
   ]
  },
  {
   "cell_type": "markdown",
   "metadata": {},
   "source": [
    "# Scatter Plots\r\n"
   ]
  },
  {
   "cell_type": "code",
   "execution_count": 63,
   "metadata": {},
   "outputs": [
    {
     "data": {
      "text/plain": "<module 'matplotlib.pyplot' from 'C:\\\\Users\\\\parke\\\\AppData\\\\Local\\\\Packages\\\\PythonSoftwareFoundation.Python.3.9_qbz5n2kfra8p0\\\\LocalCache\\\\local-packages\\\\Python39\\\\site-packages\\\\matplotlib\\\\pyplot.py'>"
     },
     "execution_count": 63,
     "metadata": {},
     "output_type": "execute_result"
    },
    {
     "data": {
      "image/png": "[encoded data removed]",
      "text/plain": "<Figure size 432x432 with 1 Axes>"
     },
     "metadata": {
      "needs_background": "light"
     },
     "output_type": "display_data"
    }
   ],
   "source": [
    "create_scatter_plot(df, x_name='corrRep', y_name='nmrStaked')"
   ]
  },
  {
   "cell_type": "markdown",
   "metadata": {},
   "source": [
    "# Methods to for Ordinary Least Squares Regresssion\r\n",
    "\r\n",
    "### I am primairly interested in the relationship between stake size and returns. From an Economics perspective one would expect people to bet more money on models that have a better higher corrilation score. This would mean a positive corrilation between stake size and returns. "
   ]
  },
  {
   "cell_type": "code",
   "execution_count": 44,
   "metadata": {},
   "outputs": [],
   "source": [
    "def compute_single_regression(df,\r\n",
    "                              independent_variable='corrRep',\r\n",
    "                              dependent_variable='3M_returns',\r\n",
    "                              min_stake=0):\r\n",
    "\r\n",
    "    x = df[(df[dependent_variable].notnull())\r\n",
    "           & (df['nmrStaked'] > min_stake)][independent_variable]\r\n",
    "    y = df[(df[dependent_variable].notnull())\r\n",
    "           & (df['nmrStaked'] > min_stake)][dependent_variable]\r\n",
    "    model = sm.OLS(y, x)\r\n",
    "    results = model.fit()\r\n",
    "    return results\r\n",
    "\r\n",
    "\r\n",
    "def compute_multiple_regression(\r\n",
    "        df,\r\n",
    "        indepenent_variables=['corrRep', 'fncRep', 'mmcRep', 'nmrStaked'],\r\n",
    "        dependent_variable='3M_returns',\r\n",
    "        min_stake=0):\r\n",
    "    x = df[(df[dependent_variable].notnull())\r\n",
    "           & (df['nmrStaked'] > min_stake)][indepenent_variables]\r\n",
    "    y = df[(df[dependent_variable].notnull())\r\n",
    "           & (df['nmrStaked'] > min_stake)][dependent_variable]\r\n",
    "    model = sm.OLS(y, x)\r\n",
    "    results = model.fit()\r\n",
    "    return results\r\n"
   ]
  },
  {
   "cell_type": "markdown",
   "metadata": {},
   "source": [
    "## Single Regression Stake Size and 3 Month Returns"
   ]
  },
  {
   "cell_type": "code",
   "execution_count": 46,
   "metadata": {},
   "outputs": [
    {
     "data": {
      "text/html": "<table class=\"simpletable\">\n<caption>OLS Regression Results</caption>\n<tr>\n  <th>Dep. Variable:</th>       <td>3M_returns</td>    <th>  R-squared (uncentered):</th>      <td>   0.027</td> \n</tr>\n<tr>\n  <th>Model:</th>                   <td>OLS</td>       <th>  Adj. R-squared (uncentered):</th> <td>   0.026</td> \n</tr>\n<tr>\n  <th>Method:</th>             <td>Least Squares</td>  <th>  F-statistic:       </th>          <td>   50.92</td> \n</tr>\n<tr>\n  <th>Date:</th>             <td>Sat, 06 Mar 2021</td> <th>  Prob (F-statistic):</th>          <td>1.37e-12</td> \n</tr>\n<tr>\n  <th>Time:</th>                 <td>09:55:15</td>     <th>  Log-Likelihood:    </th>          <td> -8971.9</td> \n</tr>\n<tr>\n  <th>No. Observations:</th>      <td>  1870</td>      <th>  AIC:               </th>          <td>1.795e+04</td>\n</tr>\n<tr>\n  <th>Df Residuals:</th>          <td>  1869</td>      <th>  BIC:               </th>          <td>1.795e+04</td>\n</tr>\n<tr>\n  <th>Df Model:</th>              <td>     1</td>      <th>                     </th>              <td> </td>    \n</tr>\n<tr>\n  <th>Covariance Type:</th>      <td>nonrobust</td>    <th>                     </th>              <td> </td>    \n</tr>\n</table>\n<table class=\"simpletable\">\n<tr>\n      <td></td>         <th>coef</th>     <th>std err</th>      <th>t</th>      <th>P>|t|</th>  <th>[0.025</th>    <th>0.975]</th>  \n</tr>\n<tr>\n  <th>nmrStaked</th> <td>    0.0089</td> <td>    0.001</td> <td>    7.136</td> <td> 0.000</td> <td>    0.006</td> <td>    0.011</td>\n</tr>\n</table>\n<table class=\"simpletable\">\n<tr>\n  <th>Omnibus:</th>       <td>539.981</td> <th>  Durbin-Watson:     </th> <td>   0.740</td>\n</tr>\n<tr>\n  <th>Prob(Omnibus):</th> <td> 0.000</td>  <th>  Jarque-Bera (JB):  </th> <td>2061.050</td>\n</tr>\n<tr>\n  <th>Skew:</th>          <td> 1.370</td>  <th>  Prob(JB):          </th> <td>    0.00</td>\n</tr>\n<tr>\n  <th>Kurtosis:</th>      <td> 7.353</td>  <th>  Cond. No.          </th> <td>    1.00</td>\n</tr>\n</table><br/><br/>Notes:<br/>[1] R² is computed without centering (uncentered) since the model does not contain a constant.<br/>[2] Standard Errors assume that the covariance matrix of the errors is correctly specified.",
      "text/plain": "<class 'statsmodels.iolib.summary.Summary'>\n\"\"\"\n                                 OLS Regression Results                                \n=======================================================================================\nDep. Variable:             3M_returns   R-squared (uncentered):                   0.027\nModel:                            OLS   Adj. R-squared (uncentered):              0.026\nMethod:                 Least Squares   F-statistic:                              50.92\nDate:                Sat, 06 Mar 2021   Prob (F-statistic):                    1.37e-12\nTime:                        09:55:15   Log-Likelihood:                         -8971.9\nNo. Observations:                1870   AIC:                                  1.795e+04\nDf Residuals:                    1869   BIC:                                  1.795e+04\nDf Model:                           1                                                  \nCovariance Type:            nonrobust                                                  \n==============================================================================\n                 coef    std err          t      P>|t|      [0.025      0.975]\n------------------------------------------------------------------------------\nnmrStaked      0.0089      0.001      7.136      0.000       0.006       0.011\n==============================================================================\nOmnibus:                      539.981   Durbin-Watson:                   0.740\nProb(Omnibus):                  0.000   Jarque-Bera (JB):             2061.050\nSkew:                           1.370   Prob(JB):                         0.00\nKurtosis:                       7.353   Cond. No.                         1.00\n==============================================================================\n\nNotes:\n[1] R² is computed without centering (uncentered) since the model does not contain a constant.\n[2] Standard Errors assume that the covariance matrix of the errors is correctly specified.\n\"\"\""
     },
     "execution_count": 46,
     "metadata": {},
     "output_type": "execute_result"
    }
   ],
   "source": [
    "results = compute_single_regression(df,independent_variable='nmrStaked',dependent_variable='3M_returns', min_stake=0)\r\n",
    "results.summary()\r\n"
   ]
  },
  {
   "cell_type": "markdown",
   "metadata": {},
   "source": [
    "# Findings\r\n",
    "\r\n",
    "## There is a small significant  positive relationship between amount staked and 3 Month returns (coef= 0.0086, p<.000). However, only looking at stake size does not explain much of the varience in the 3 Month Returns. \r\n",
    "\r\n",
    "- The R^2 value is .027, I thought this would be much larger.\r\n",
    "- One explanation is that having access to a lot of capital to stake is not indicitive of being good at model building. "
   ]
  },
  {
   "cell_type": "markdown",
   "metadata": {},
   "source": [
    "## Multiple Regression on 1D returns. \r\n",
    "\r\n",
    "### This is looking at the relative impact of CORR, MMC, FNC, and Stake on returns. Because this is only 1D returns one would expect a these features to poorly predict returns because there is so much varience in 1D returns. "
   ]
  },
  {
   "cell_type": "code",
   "execution_count": 49,
   "metadata": {},
   "outputs": [
    {
     "data": {
      "text/html": "<table class=\"simpletable\">\n<caption>OLS Regression Results</caption>\n<tr>\n  <th>Dep. Variable:</th>       <td>1D_returns</td>    <th>  R-squared (uncentered):</th>      <td>   0.062</td> \n</tr>\n<tr>\n  <th>Model:</th>                   <td>OLS</td>       <th>  Adj. R-squared (uncentered):</th> <td>   0.061</td> \n</tr>\n<tr>\n  <th>Method:</th>             <td>Least Squares</td>  <th>  F-statistic:       </th>          <td>   39.11</td> \n</tr>\n<tr>\n  <th>Date:</th>             <td>Sat, 06 Mar 2021</td> <th>  Prob (F-statistic):</th>          <td>9.55e-32</td> \n</tr>\n<tr>\n  <th>Time:</th>                 <td>09:55:54</td>     <th>  Log-Likelihood:    </th>          <td> -6259.7</td> \n</tr>\n<tr>\n  <th>No. Observations:</th>      <td>  2364</td>      <th>  AIC:               </th>          <td>1.253e+04</td>\n</tr>\n<tr>\n  <th>Df Residuals:</th>          <td>  2360</td>      <th>  BIC:               </th>          <td>1.255e+04</td>\n</tr>\n<tr>\n  <th>Df Model:</th>              <td>     4</td>      <th>                     </th>              <td> </td>    \n</tr>\n<tr>\n  <th>Covariance Type:</th>      <td>nonrobust</td>    <th>                     </th>              <td> </td>    \n</tr>\n</table>\n<table class=\"simpletable\">\n<tr>\n      <td></td>         <th>coef</th>     <th>std err</th>      <th>t</th>      <th>P>|t|</th>  <th>[0.025</th>    <th>0.975]</th>  \n</tr>\n<tr>\n  <th>corrRep</th>   <td>  -32.4810</td> <td>    6.574</td> <td>   -4.941</td> <td> 0.000</td> <td>  -45.373</td> <td>  -19.589</td>\n</tr>\n<tr>\n  <th>fncRep</th>    <td>  142.5913</td> <td>   12.806</td> <td>   11.135</td> <td> 0.000</td> <td>  117.480</td> <td>  167.703</td>\n</tr>\n<tr>\n  <th>mmcRep</th>    <td> -113.5449</td> <td>    9.180</td> <td>  -12.369</td> <td> 0.000</td> <td> -131.546</td> <td>  -95.544</td>\n</tr>\n<tr>\n  <th>nmrStaked</th> <td>-8.775e-05</td> <td>    0.000</td> <td>   -0.584</td> <td> 0.559</td> <td>   -0.000</td> <td>    0.000</td>\n</tr>\n</table>\n<table class=\"simpletable\">\n<tr>\n  <th>Omnibus:</th>       <td>233.367</td> <th>  Durbin-Watson:     </th> <td>   1.879</td> \n</tr>\n<tr>\n  <th>Prob(Omnibus):</th> <td> 0.000</td>  <th>  Jarque-Bera (JB):  </th> <td> 619.079</td> \n</tr>\n<tr>\n  <th>Skew:</th>          <td> 0.549</td>  <th>  Prob(JB):          </th> <td>3.70e-135</td>\n</tr>\n<tr>\n  <th>Kurtosis:</th>      <td> 5.254</td>  <th>  Cond. No.          </th> <td>1.11e+05</td> \n</tr>\n</table><br/><br/>Notes:<br/>[1] R² is computed without centering (uncentered) since the model does not contain a constant.<br/>[2] Standard Errors assume that the covariance matrix of the errors is correctly specified.<br/>[3] The condition number is large, 1.11e+05. This might indicate that there are<br/>strong multicollinearity or other numerical problems.",
      "text/plain": "<class 'statsmodels.iolib.summary.Summary'>\n\"\"\"\n                                 OLS Regression Results                                \n=======================================================================================\nDep. Variable:             1D_returns   R-squared (uncentered):                   0.062\nModel:                            OLS   Adj. R-squared (uncentered):              0.061\nMethod:                 Least Squares   F-statistic:                              39.11\nDate:                Sat, 06 Mar 2021   Prob (F-statistic):                    9.55e-32\nTime:                        09:55:54   Log-Likelihood:                         -6259.7\nNo. Observations:                2364   AIC:                                  1.253e+04\nDf Residuals:                    2360   BIC:                                  1.255e+04\nDf Model:                           4                                                  \nCovariance Type:            nonrobust                                                  \n==============================================================================\n                 coef    std err          t      P>|t|      [0.025      0.975]\n------------------------------------------------------------------------------\ncorrRep      -32.4810      6.574     -4.941      0.000     -45.373     -19.589\nfncRep       142.5913     12.806     11.135      0.000     117.480     167.703\nmmcRep      -113.5449      9.180    -12.369      0.000    -131.546     -95.544\nnmrStaked  -8.775e-05      0.000     -0.584      0.559      -0.000       0.000\n==============================================================================\nOmnibus:                      233.367   Durbin-Watson:                   1.879\nProb(Omnibus):                  0.000   Jarque-Bera (JB):              619.079\nSkew:                           0.549   Prob(JB):                    3.70e-135\nKurtosis:                       5.254   Cond. No.                     1.11e+05\n==============================================================================\n\nNotes:\n[1] R² is computed without centering (uncentered) since the model does not contain a constant.\n[2] Standard Errors assume that the covariance matrix of the errors is correctly specified.\n[3] The condition number is large, 1.11e+05. This might indicate that there are\nstrong multicollinearity or other numerical problems.\n\"\"\""
     },
     "execution_count": 49,
     "metadata": {},
     "output_type": "execute_result"
    }
   ],
   "source": [
    "results = compute_multiple_regression(df,dependent_variable='1D_returns')\r\n",
    "results.summary()"
   ]
  },
  {
   "cell_type": "markdown",
   "metadata": {},
   "source": [
    "\r\n",
    "## Multiple Regression on 3 Month Returns"
   ]
  },
  {
   "cell_type": "code",
   "execution_count": 50,
   "metadata": {},
   "outputs": [
    {
     "data": {
      "text/html": "<table class=\"simpletable\">\n<caption>OLS Regression Results</caption>\n<tr>\n  <th>Dep. Variable:</th>       <td>3M_returns</td>    <th>  R-squared (uncentered):</th>      <td>   0.777</td> \n</tr>\n<tr>\n  <th>Model:</th>                   <td>OLS</td>       <th>  Adj. R-squared (uncentered):</th> <td>   0.776</td> \n</tr>\n<tr>\n  <th>Method:</th>             <td>Least Squares</td>  <th>  F-statistic:       </th>          <td>   1624.</td> \n</tr>\n<tr>\n  <th>Date:</th>             <td>Sat, 06 Mar 2021</td> <th>  Prob (F-statistic):</th>           <td>  0.00</td>  \n</tr>\n<tr>\n  <th>Time:</th>                 <td>10:12:25</td>     <th>  Log-Likelihood:    </th>          <td> -7594.6</td> \n</tr>\n<tr>\n  <th>No. Observations:</th>      <td>  1870</td>      <th>  AIC:               </th>          <td>1.520e+04</td>\n</tr>\n<tr>\n  <th>Df Residuals:</th>          <td>  1866</td>      <th>  BIC:               </th>          <td>1.522e+04</td>\n</tr>\n<tr>\n  <th>Df Model:</th>              <td>     4</td>      <th>                     </th>              <td> </td>    \n</tr>\n<tr>\n  <th>Covariance Type:</th>      <td>nonrobust</td>    <th>                     </th>              <td> </td>    \n</tr>\n</table>\n<table class=\"simpletable\">\n<tr>\n      <td></td>         <th>coef</th>     <th>std err</th>      <th>t</th>      <th>P>|t|</th>  <th>[0.025</th>    <th>0.975]</th>  \n</tr>\n<tr>\n  <th>corrRep</th>   <td> 2312.1465</td> <td>   30.319</td> <td>   76.262</td> <td> 0.000</td> <td> 2252.685</td> <td> 2371.609</td>\n</tr>\n<tr>\n  <th>fncRep</th>    <td>-2831.4717</td> <td>   59.606</td> <td>  -47.503</td> <td> 0.000</td> <td>-2948.373</td> <td>-2714.571</td>\n</tr>\n<tr>\n  <th>mmcRep</th>    <td>  522.5655</td> <td>   39.944</td> <td>   13.082</td> <td> 0.000</td> <td>  444.225</td> <td>  600.906</td>\n</tr>\n<tr>\n  <th>nmrStaked</th> <td>    0.0002</td> <td>    0.001</td> <td>    0.286</td> <td> 0.775</td> <td>   -0.001</td> <td>    0.001</td>\n</tr>\n</table>\n<table class=\"simpletable\">\n<tr>\n  <th>Omnibus:</th>       <td>496.004</td> <th>  Durbin-Watson:     </th> <td>   1.820</td>\n</tr>\n<tr>\n  <th>Prob(Omnibus):</th> <td> 0.000</td>  <th>  Jarque-Bera (JB):  </th> <td>3451.698</td>\n</tr>\n<tr>\n  <th>Skew:</th>          <td> 1.060</td>  <th>  Prob(JB):          </th> <td>    0.00</td>\n</tr>\n<tr>\n  <th>Kurtosis:</th>      <td> 9.309</td>  <th>  Cond. No.          </th> <td>1.22e+05</td>\n</tr>\n</table><br/><br/>Notes:<br/>[1] R² is computed without centering (uncentered) since the model does not contain a constant.<br/>[2] Standard Errors assume that the covariance matrix of the errors is correctly specified.<br/>[3] The condition number is large, 1.22e+05. This might indicate that there are<br/>strong multicollinearity or other numerical problems.",
      "text/plain": "<class 'statsmodels.iolib.summary.Summary'>\n\"\"\"\n                                 OLS Regression Results                                \n=======================================================================================\nDep. Variable:             3M_returns   R-squared (uncentered):                   0.777\nModel:                            OLS   Adj. R-squared (uncentered):              0.776\nMethod:                 Least Squares   F-statistic:                              1624.\nDate:                Sat, 06 Mar 2021   Prob (F-statistic):                        0.00\nTime:                        10:12:25   Log-Likelihood:                         -7594.6\nNo. Observations:                1870   AIC:                                  1.520e+04\nDf Residuals:                    1866   BIC:                                  1.522e+04\nDf Model:                           4                                                  \nCovariance Type:            nonrobust                                                  \n==============================================================================\n                 coef    std err          t      P>|t|      [0.025      0.975]\n------------------------------------------------------------------------------\ncorrRep     2312.1465     30.319     76.262      0.000    2252.685    2371.609\nfncRep     -2831.4717     59.606    -47.503      0.000   -2948.373   -2714.571\nmmcRep       522.5655     39.944     13.082      0.000     444.225     600.906\nnmrStaked      0.0002      0.001      0.286      0.775      -0.001       0.001\n==============================================================================\nOmnibus:                      496.004   Durbin-Watson:                   1.820\nProb(Omnibus):                  0.000   Jarque-Bera (JB):             3451.698\nSkew:                           1.060   Prob(JB):                         0.00\nKurtosis:                       9.309   Cond. No.                     1.22e+05\n==============================================================================\n\nNotes:\n[1] R² is computed without centering (uncentered) since the model does not contain a constant.\n[2] Standard Errors assume that the covariance matrix of the errors is correctly specified.\n[3] The condition number is large, 1.22e+05. This might indicate that there are\nstrong multicollinearity or other numerical problems.\n\"\"\""
     },
     "execution_count": 50,
     "metadata": {},
     "output_type": "execute_result"
    }
   ],
   "source": [
    "results = compute_multiple_regression(df,dependent_variable='3M_returns')\r\n",
    "results.summary()\r\n"
   ]
  },
  {
   "cell_type": "markdown",
   "metadata": {},
   "source": [
    "# Multiple Regression on 1 Year returns"
   ]
  },
  {
   "cell_type": "code",
   "execution_count": 51,
   "metadata": {},
   "outputs": [
    {
     "data": {
      "text/html": "<table class=\"simpletable\">\n<caption>OLS Regression Results</caption>\n<tr>\n  <th>Dep. Variable:</th>       <td>1Y_returns</td>    <th>  R-squared (uncentered):</th>      <td>   0.840</td> \n</tr>\n<tr>\n  <th>Model:</th>                   <td>OLS</td>       <th>  Adj. R-squared (uncentered):</th> <td>   0.839</td> \n</tr>\n<tr>\n  <th>Method:</th>             <td>Least Squares</td>  <th>  F-statistic:       </th>          <td>   516.7</td> \n</tr>\n<tr>\n  <th>Date:</th>             <td>Sat, 06 Mar 2021</td> <th>  Prob (F-statistic):</th>          <td>5.13e-155</td>\n</tr>\n<tr>\n  <th>Time:</th>                 <td>10:12:59</td>     <th>  Log-Likelihood:    </th>          <td> -2242.0</td> \n</tr>\n<tr>\n  <th>No. Observations:</th>      <td>   397</td>      <th>  AIC:               </th>          <td>   4492.</td> \n</tr>\n<tr>\n  <th>Df Residuals:</th>          <td>   393</td>      <th>  BIC:               </th>          <td>   4508.</td> \n</tr>\n<tr>\n  <th>Df Model:</th>              <td>     4</td>      <th>                     </th>              <td> </td>    \n</tr>\n<tr>\n  <th>Covariance Type:</th>      <td>nonrobust</td>    <th>                     </th>              <td> </td>    \n</tr>\n</table>\n<table class=\"simpletable\">\n<tr>\n      <td></td>         <th>coef</th>     <th>std err</th>      <th>t</th>      <th>P>|t|</th>  <th>[0.025</th>    <th>0.975]</th>  \n</tr>\n<tr>\n  <th>corrRep</th>   <td> 7987.8764</td> <td>  338.712</td> <td>   23.583</td> <td> 0.000</td> <td> 7321.961</td> <td> 8653.791</td>\n</tr>\n<tr>\n  <th>fncRep</th>    <td>-1170.1844</td> <td>  685.540</td> <td>   -1.707</td> <td> 0.089</td> <td>-2517.969</td> <td>  177.601</td>\n</tr>\n<tr>\n  <th>mmcRep</th>    <td>-6881.3038</td> <td>  444.825</td> <td>  -15.470</td> <td> 0.000</td> <td>-7755.837</td> <td>-6006.770</td>\n</tr>\n<tr>\n  <th>nmrStaked</th> <td>    0.0135</td> <td>    0.004</td> <td>    3.506</td> <td> 0.001</td> <td>    0.006</td> <td>    0.021</td>\n</tr>\n</table>\n<table class=\"simpletable\">\n<tr>\n  <th>Omnibus:</th>       <td>46.705</td> <th>  Durbin-Watson:     </th> <td>   1.892</td>\n</tr>\n<tr>\n  <th>Prob(Omnibus):</th> <td> 0.000</td> <th>  Jarque-Bera (JB):  </th> <td>  93.468</td>\n</tr>\n<tr>\n  <th>Skew:</th>          <td> 0.659</td> <th>  Prob(JB):          </th> <td>5.05e-21</td>\n</tr>\n<tr>\n  <th>Kurtosis:</th>      <td> 4.978</td> <th>  Cond. No.          </th> <td>2.43e+05</td>\n</tr>\n</table><br/><br/>Notes:<br/>[1] R² is computed without centering (uncentered) since the model does not contain a constant.<br/>[2] Standard Errors assume that the covariance matrix of the errors is correctly specified.<br/>[3] The condition number is large, 2.43e+05. This might indicate that there are<br/>strong multicollinearity or other numerical problems.",
      "text/plain": "<class 'statsmodels.iolib.summary.Summary'>\n\"\"\"\n                                 OLS Regression Results                                \n=======================================================================================\nDep. Variable:             1Y_returns   R-squared (uncentered):                   0.840\nModel:                            OLS   Adj. R-squared (uncentered):              0.839\nMethod:                 Least Squares   F-statistic:                              516.7\nDate:                Sat, 06 Mar 2021   Prob (F-statistic):                   5.13e-155\nTime:                        10:12:59   Log-Likelihood:                         -2242.0\nNo. Observations:                 397   AIC:                                      4492.\nDf Residuals:                     393   BIC:                                      4508.\nDf Model:                           4                                                  \nCovariance Type:            nonrobust                                                  \n==============================================================================\n                 coef    std err          t      P>|t|      [0.025      0.975]\n------------------------------------------------------------------------------\ncorrRep     7987.8764    338.712     23.583      0.000    7321.961    8653.791\nfncRep     -1170.1844    685.540     -1.707      0.089   -2517.969     177.601\nmmcRep     -6881.3038    444.825    -15.470      0.000   -7755.837   -6006.770\nnmrStaked      0.0135      0.004      3.506      0.001       0.006       0.021\n==============================================================================\nOmnibus:                       46.705   Durbin-Watson:                   1.892\nProb(Omnibus):                  0.000   Jarque-Bera (JB):               93.468\nSkew:                           0.659   Prob(JB):                     5.05e-21\nKurtosis:                       4.978   Cond. No.                     2.43e+05\n==============================================================================\n\nNotes:\n[1] R² is computed without centering (uncentered) since the model does not contain a constant.\n[2] Standard Errors assume that the covariance matrix of the errors is correctly specified.\n[3] The condition number is large, 2.43e+05. This might indicate that there are\nstrong multicollinearity or other numerical problems.\n\"\"\""
     },
     "execution_count": 51,
     "metadata": {},
     "output_type": "execute_result"
    }
   ],
   "source": [
    "results = compute_multiple_regression(df, dependent_variable='1Y_returns')\r\n",
    "results.summary()"
   ]
  },
  {
   "cell_type": "markdown",
   "metadata": {},
   "source": [
    "## How what were the profits like of those "
   ]
  },
  {
   "cell_type": "code",
   "execution_count": 84,
   "metadata": {},
   "outputs": [
    {
     "name": "stdout",
     "output_type": "stream",
     "text": [
      "Discription users with 3 months of returns\n",
      " count    1871.000000\n",
      "mean       17.886077\n",
      "std        23.750622\n",
      "min       -64.817097\n",
      "25%         0.000000\n",
      "50%        13.372656\n",
      "75%        28.048466\n",
      "max       171.204201\n",
      "Name: 3M_returns, dtype: float64\n",
      "Users who were net postive over 3 months: 66.8%\n",
      "Users who were net up 10% over 3 months: 54.2%\n"
     ]
    }
   ],
   "source": [
    "users_with_3_month_returns = df[df['3M_returns'].notnull()]['3M_returns']\r\n",
    "num_3M_returns = users_with_3_month_returns.count()\r\n",
    "\r\n",
    "print('Discription users with 3 months of returns\\n', users_with_3_month_returns.describe())\r\n",
    "\r\n",
    "users_net_postive_3_month_returns = df[(df['3M_returns'].notnull()) & (df['3M_returns'] > 0)]['3M_returns']\r\n",
    "num_net_postitive = users_net_postive_3_month_returns.count()\r\n",
    "\r\n",
    "percent_net_positive = \"{:.1%}\".format(num_net_postitive/num_3M_returns)\r\n",
    "\r\n",
    "print(f'Users who were net postive over 3 months: {percent_net_positive}')\r\n",
    "\r\n",
    "users_net_up_10_percent = df[(df['3M_returns'].notnull()) & (df['3M_returns'] > 10)]['3M_returns']\r\n",
    "num_net_up_10_percent = users_net_up_10_percent.count()\r\n",
    "\r\n",
    "percent_net_up_10 = \"{:.1%}\".format(num_net_up_10_percent/num_3M_returns)\r\n",
    "print(f'Users who were net up 10% over 3 months: {percent_net_up_10}')\r\n"
   ]
  },
  {
   "cell_type": "markdown",
   "metadata": {},
   "source": [
    "# Conclusions\r\n",
    "\r\n",
    "1. I was suprised that there is a negative relationship between FNC and 3M and 1Y returns. I would have expected each of those paramaters to have postive coeffients. \r\n",
    "2. The R^2 increases when you look at larger time frames. This matches intutition. As you increase the time period you consider, the randomness in the 1D and 3M returns will tend to even out. "
   ]
  }
 ],
 "metadata": {
  "kernelspec": {
   "display_name": "Python 3.9.2 64-bit",
   "metadata": {
    "interpreter": {
     "hash": "6f6d64a7ba9cd062c59eea959ce2d8fc2832d4e9d0b0a9d5e546a142dd474f01"
    }
   },
   "name": "python3"
  },
  "language_info": {
   "codemirror_mode": {
    "name": "ipython",
    "version": 3
   },
   "file_extension": ".py",
   "mimetype": "text/x-python",
   "name": "python",
   "nbconvert_exporter": "python",
   "pygments_lexer": "ipython3",
   "version": "3.9.2"
  },
  "orig_nbformat": 2
 },
 "nbformat": 4,
 "nbformat_minor": 2
}