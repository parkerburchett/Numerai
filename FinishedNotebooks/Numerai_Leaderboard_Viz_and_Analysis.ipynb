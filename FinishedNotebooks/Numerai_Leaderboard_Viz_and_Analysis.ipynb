{
  "nbformat": 4,
  "nbformat_minor": 0,
  "metadata": {
    "colab": {
      "name": "Numerai Leaderboard Viz and Analysis.ipynb",
      "provenance": [],
      "collapsed_sections": []
    },
    "kernelspec": {
      "display_name": "Python 3.9.2 64-bit",
      "name": "python3"
    },
    "language_info": {
      "codemirror_mode": {
        "name": "ipython",
        "version": 3
      },
      "file_extension": ".py",
      "mimetype": "text/x-python",
      "name": "python",
      "nbconvert_exporter": "python",
      "pygments_lexer": "ipython3",
      "version": "3.9.2"
    }
  },
  "cells": [
    {
      "cell_type": "markdown",
      "metadata": {
        "id": "ZHvYZnyxJI0e"
      },
      "source": [
        "# Data Viz and Analysis on the LeaderBoard\n",
        " \n",
        "I'm Parker Burchett (MrQuantsALot) and created this notebook to do some \n",
        " \n",
        "The beautiful thing about blockchain is that since everything is public and anonymous you can just look at the data.  After spending a few days writing this, I am pretty sure that I have a reasonable chance and creating a profitable model.\n",
        " \n",
        "I looked at the characteristics and distribution of successful users. \n",
        " \n",
        "If you have any feedback or suggestions please let me know on the forum. I am still a novice at this kind of analysis and I am sure there are things that I missed or misinterpreted. In particular, I don't know why there is a negative coefficient on the FNC -> 3M_returns OLS regression. \n",
        " \n",
        "This notebook does the following when you run it:\n",
        " \n",
        "1. Query the [Numerai Leaderboard](https://numer.ai/tournament) and cast it as a Pandas Dataframe.\n",
        "2. Visualize the relationship between the stake size, performance metrics and returns. \n",
        "3. OLS Regression on returns.  \n",
        " \n",
        "All of the methods are written such that you can change the dependent and independent variables. I included the visualizations I thought were interesting but you can check out the other variables yourself. The numbers will change as the leaderboard updates. \n",
        " "
      ]
    },
    {
      "cell_type": "code",
      "metadata": {
        "colab": {
          "base_uri": "https://localhost:8080/"
        },
        "id": "91R8_MmYJI0j",
        "outputId": "df1f2660-247f-4cad-ddc8-6a3ef29cae8d"
      },
      "source": [
        "!pip install numpy\n",
        "!pip install pandas \n",
        "!pip install json \n",
        "!pip install requests \n",
        "!pip install matplotlib\n",
        "!pip install statsmodels \n",
        "%matplotlib inline"
      ],
      "execution_count": 16,
      "outputs": [
        {
          "output_type": "stream",
          "text": [
            "Requirement already satisfied: numpy in /usr/local/lib/python3.7/dist-packages (1.19.5)\n",
            "Requirement already satisfied: pandas in /usr/local/lib/python3.7/dist-packages (1.1.5)\n",
            "Requirement already satisfied: pytz>=2017.2 in /usr/local/lib/python3.7/dist-packages (from pandas) (2018.9)\n",
            "Requirement already satisfied: numpy>=1.15.4 in /usr/local/lib/python3.7/dist-packages (from pandas) (1.19.5)\n",
            "Requirement already satisfied: python-dateutil>=2.7.3 in /usr/local/lib/python3.7/dist-packages (from pandas) (2.8.1)\n",
            "Requirement already satisfied: six>=1.5 in /usr/local/lib/python3.7/dist-packages (from python-dateutil>=2.7.3->pandas) (1.15.0)\n",
            "\u001b[31mERROR: Could not find a version that satisfies the requirement json (from versions: none)\u001b[0m\n",
            "\u001b[31mERROR: No matching distribution found for json\u001b[0m\n",
            "Requirement already satisfied: requests in /usr/local/lib/python3.7/dist-packages (2.23.0)\n",
            "Requirement already satisfied: idna<3,>=2.5 in /usr/local/lib/python3.7/dist-packages (from requests) (2.10)\n",
            "Requirement already satisfied: certifi>=2017.4.17 in /usr/local/lib/python3.7/dist-packages (from requests) (2020.12.5)\n",
            "Requirement already satisfied: chardet<4,>=3.0.2 in /usr/local/lib/python3.7/dist-packages (from requests) (3.0.4)\n",
            "Requirement already satisfied: urllib3!=1.25.0,!=1.25.1,<1.26,>=1.21.1 in /usr/local/lib/python3.7/dist-packages (from requests) (1.24.3)\n",
            "Requirement already satisfied: matplotlib in /usr/local/lib/python3.7/dist-packages (3.2.2)\n",
            "Requirement already satisfied: python-dateutil>=2.1 in /usr/local/lib/python3.7/dist-packages (from matplotlib) (2.8.1)\n",
            "Requirement already satisfied: cycler>=0.10 in /usr/local/lib/python3.7/dist-packages (from matplotlib) (0.10.0)\n",
            "Requirement already satisfied: kiwisolver>=1.0.1 in /usr/local/lib/python3.7/dist-packages (from matplotlib) (1.3.1)\n",
            "Requirement already satisfied: pyparsing!=2.0.4,!=2.1.2,!=2.1.6,>=2.0.1 in /usr/local/lib/python3.7/dist-packages (from matplotlib) (2.4.7)\n",
            "Requirement already satisfied: numpy>=1.11 in /usr/local/lib/python3.7/dist-packages (from matplotlib) (1.19.5)\n",
            "Requirement already satisfied: six>=1.5 in /usr/local/lib/python3.7/dist-packages (from python-dateutil>=2.1->matplotlib) (1.15.0)\n",
            "Requirement already satisfied: statsmodels in /usr/local/lib/python3.7/dist-packages (0.10.2)\n",
            "Requirement already satisfied: patsy>=0.4.0 in /usr/local/lib/python3.7/dist-packages (from statsmodels) (0.5.1)\n",
            "Requirement already satisfied: scipy>=0.18 in /usr/local/lib/python3.7/dist-packages (from statsmodels) (1.4.1)\n",
            "Requirement already satisfied: pandas>=0.19 in /usr/local/lib/python3.7/dist-packages (from statsmodels) (1.1.5)\n",
            "Requirement already satisfied: numpy>=1.11 in /usr/local/lib/python3.7/dist-packages (from statsmodels) (1.19.5)\n",
            "Requirement already satisfied: six in /usr/local/lib/python3.7/dist-packages (from patsy>=0.4.0->statsmodels) (1.15.0)\n",
            "Requirement already satisfied: pytz>=2017.2 in /usr/local/lib/python3.7/dist-packages (from pandas>=0.19->statsmodels) (2018.9)\n",
            "Requirement already satisfied: python-dateutil>=2.7.3 in /usr/local/lib/python3.7/dist-packages (from pandas>=0.19->statsmodels) (2.8.1)\n"
          ],
          "name": "stdout"
        }
      ]
    },
    {
      "cell_type": "markdown",
      "metadata": {
        "id": "yEkjLsiNJI0k"
      },
      "source": [
        "# Import packages"
      ]
    },
    {
      "cell_type": "code",
      "metadata": {
        "id": "qfsG0OP_JI0l"
      },
      "source": [
        "import requests\n",
        "import json\n",
        "import numpy as np\n",
        "import pandas as pd\n",
        "import matplotlib.pyplot as plt\n",
        "import statsmodels.api as sm\n",
        "import datetime"
      ],
      "execution_count": 17,
      "outputs": []
    },
    {
      "cell_type": "markdown",
      "metadata": {
        "id": "dVB5N4WCJI0l"
      },
      "source": [
        "# Ping the Leaderboard"
      ]
    },
    {
      "cell_type": "code",
      "metadata": {
        "colab": {
          "base_uri": "https://localhost:8080/",
          "height": 530
        },
        "id": "9B2J2dshJI0l",
        "outputId": "f780bbd7-2061-49cd-f01b-e027b03a7466"
      },
      "source": [
        "def get_leaderboard() -> pd.DataFrame:\n",
        "    \"\"\"\n",
        "        Ping the Numerai leaderboard and return a Pandas DataFrame of the contents.\n",
        "    \"\"\"\n",
        "    url = 'https://api-tournament.numer.ai/'\n",
        "    # this is a Graphql query, that lets me get exactly and only the data I want. \n",
        "    query = \"\"\"{ \n",
        "    v2Leaderboard {\n",
        "        returns\n",
        "        corrRep\n",
        "        fncRep\n",
        "        mmcRep\n",
        "        username\n",
        "        nmrStaked\n",
        "        returns \n",
        "        return_52Weeks\n",
        "        return_13Weeks\n",
        "        rank\n",
        "        }  \n",
        "    }\"\"\"\n",
        "    r = requests.post(url=url, json={'query': query})\n",
        "    json_data = json.loads(r.text)\n",
        "    df_data = json_data['data']['v2Leaderboard']\n",
        "    df = pd.DataFrame(df_data)\n",
        "    df.convert_dtypes() # the auto casts the columns into what it thinks is the most appropriate \n",
        "    df['nmrStaked'] = pd.to_numeric(df['nmrStaked']) # for some reason nmrStaked does not get auto cast as a numaric\n",
        " \n",
        "    #Renaming the columns\n",
        "    df = df.rename(columns={'returns': '1D_returns', 'return_13Weeks': '3M_returns', 'return_52Weeks': '1Y_returns'})\n",
        "    return df\n",
        " \n",
        "df = get_leaderboard()\n",
        "print(df.count())\n",
        "df.head(10)"
      ],
      "execution_count": 18,
      "outputs": [
        {
          "output_type": "stream",
          "text": [
            "corrRep       7707\n",
            "fncRep        7707\n",
            "mmcRep        7707\n",
            "nmrStaked     7707\n",
            "rank          7707\n",
            "3M_returns    2621\n",
            "1Y_returns     569\n",
            "1D_returns    3312\n",
            "username      7707\n",
            "dtype: int64\n"
          ],
          "name": "stdout"
        },
        {
          "output_type": "execute_result",
          "data": {
            "text/html": [
              "<div>\n",
              "<style scoped>\n",
              "    .dataframe tbody tr th:only-of-type {\n",
              "        vertical-align: middle;\n",
              "    }\n",
              "\n",
              "    .dataframe tbody tr th {\n",
              "        vertical-align: top;\n",
              "    }\n",
              "\n",
              "    .dataframe thead th {\n",
              "        text-align: right;\n",
              "    }\n",
              "</style>\n",
              "<table border=\"1\" class=\"dataframe\">\n",
              "  <thead>\n",
              "    <tr style=\"text-align: right;\">\n",
              "      <th></th>\n",
              "      <th>corrRep</th>\n",
              "      <th>fncRep</th>\n",
              "      <th>mmcRep</th>\n",
              "      <th>nmrStaked</th>\n",
              "      <th>rank</th>\n",
              "      <th>3M_returns</th>\n",
              "      <th>1Y_returns</th>\n",
              "      <th>1D_returns</th>\n",
              "      <th>username</th>\n",
              "    </tr>\n",
              "  </thead>\n",
              "  <tbody>\n",
              "    <tr>\n",
              "      <th>0</th>\n",
              "      <td>0.060670</td>\n",
              "      <td>0.015924</td>\n",
              "      <td>0.023843</td>\n",
              "      <td>136.881940</td>\n",
              "      <td>1</td>\n",
              "      <td>89.060053</td>\n",
              "      <td>NaN</td>\n",
              "      <td>2.120720</td>\n",
              "      <td>mdl3</td>\n",
              "    </tr>\n",
              "    <tr>\n",
              "      <th>1</th>\n",
              "      <td>0.059164</td>\n",
              "      <td>0.008850</td>\n",
              "      <td>0.028037</td>\n",
              "      <td>44.304471</td>\n",
              "      <td>2</td>\n",
              "      <td>136.715146</td>\n",
              "      <td>NaN</td>\n",
              "      <td>-2.260499</td>\n",
              "      <td>nescience</td>\n",
              "    </tr>\n",
              "    <tr>\n",
              "      <th>2</th>\n",
              "      <td>0.057394</td>\n",
              "      <td>0.015660</td>\n",
              "      <td>0.018075</td>\n",
              "      <td>0.000000</td>\n",
              "      <td>3</td>\n",
              "      <td>NaN</td>\n",
              "      <td>NaN</td>\n",
              "      <td>NaN</td>\n",
              "      <td>sapphirescipionyx</td>\n",
              "    </tr>\n",
              "    <tr>\n",
              "      <th>3</th>\n",
              "      <td>0.057326</td>\n",
              "      <td>0.017466</td>\n",
              "      <td>0.018394</td>\n",
              "      <td>0.000000</td>\n",
              "      <td>4</td>\n",
              "      <td>NaN</td>\n",
              "      <td>NaN</td>\n",
              "      <td>NaN</td>\n",
              "      <td>quantaquetzalcoatlus</td>\n",
              "    </tr>\n",
              "    <tr>\n",
              "      <th>4</th>\n",
              "      <td>0.056010</td>\n",
              "      <td>0.011212</td>\n",
              "      <td>0.015671</td>\n",
              "      <td>0.000000</td>\n",
              "      <td>5</td>\n",
              "      <td>NaN</td>\n",
              "      <td>NaN</td>\n",
              "      <td>NaN</td>\n",
              "      <td>anna13</td>\n",
              "    </tr>\n",
              "    <tr>\n",
              "      <th>5</th>\n",
              "      <td>0.055391</td>\n",
              "      <td>0.007498</td>\n",
              "      <td>0.020652</td>\n",
              "      <td>18.070287</td>\n",
              "      <td>6</td>\n",
              "      <td>95.060294</td>\n",
              "      <td>NaN</td>\n",
              "      <td>1.913908</td>\n",
              "      <td>uuazed6</td>\n",
              "    </tr>\n",
              "    <tr>\n",
              "      <th>6</th>\n",
              "      <td>0.054912</td>\n",
              "      <td>0.004802</td>\n",
              "      <td>0.018949</td>\n",
              "      <td>50.719912</td>\n",
              "      <td>7</td>\n",
              "      <td>NaN</td>\n",
              "      <td>NaN</td>\n",
              "      <td>4.301766</td>\n",
              "      <td>uuazed4</td>\n",
              "    </tr>\n",
              "    <tr>\n",
              "      <th>7</th>\n",
              "      <td>0.054440</td>\n",
              "      <td>0.019915</td>\n",
              "      <td>0.012765</td>\n",
              "      <td>0.621972</td>\n",
              "      <td>8</td>\n",
              "      <td>116.543521</td>\n",
              "      <td>609.696609</td>\n",
              "      <td>2.955487</td>\n",
              "      <td>victoria</td>\n",
              "    </tr>\n",
              "    <tr>\n",
              "      <th>8</th>\n",
              "      <td>0.054286</td>\n",
              "      <td>0.003859</td>\n",
              "      <td>0.020236</td>\n",
              "      <td>2147.418467</td>\n",
              "      <td>9</td>\n",
              "      <td>99.089504</td>\n",
              "      <td>501.194563</td>\n",
              "      <td>6.399607</td>\n",
              "      <td>benben11</td>\n",
              "    </tr>\n",
              "    <tr>\n",
              "      <th>9</th>\n",
              "      <td>0.054031</td>\n",
              "      <td>0.011813</td>\n",
              "      <td>0.013653</td>\n",
              "      <td>0.000000</td>\n",
              "      <td>10</td>\n",
              "      <td>NaN</td>\n",
              "      <td>NaN</td>\n",
              "      <td>NaN</td>\n",
              "      <td>sinookas</td>\n",
              "    </tr>\n",
              "  </tbody>\n",
              "</table>\n",
              "</div>"
            ],
            "text/plain": [
              "    corrRep    fncRep    mmcRep  ...  1Y_returns  1D_returns              username\n",
              "0  0.060670  0.015924  0.023843  ...         NaN    2.120720                  mdl3\n",
              "1  0.059164  0.008850  0.028037  ...         NaN   -2.260499             nescience\n",
              "2  0.057394  0.015660  0.018075  ...         NaN         NaN     sapphirescipionyx\n",
              "3  0.057326  0.017466  0.018394  ...         NaN         NaN  quantaquetzalcoatlus\n",
              "4  0.056010  0.011212  0.015671  ...         NaN         NaN                anna13\n",
              "5  0.055391  0.007498  0.020652  ...         NaN    1.913908               uuazed6\n",
              "6  0.054912  0.004802  0.018949  ...         NaN    4.301766               uuazed4\n",
              "7  0.054440  0.019915  0.012765  ...  609.696609    2.955487              victoria\n",
              "8  0.054286  0.003859  0.020236  ...  501.194563    6.399607              benben11\n",
              "9  0.054031  0.011813  0.013653  ...         NaN         NaN              sinookas\n",
              "\n",
              "[10 rows x 9 columns]"
            ]
          },
          "metadata": {
            "tags": []
          },
          "execution_count": 18
        }
      ]
    },
    {
      "cell_type": "markdown",
      "metadata": {
        "id": "9cwY5NvbJI0m"
      },
      "source": [
        "# Methods to create plots\n",
        "\n",
        "### Each method has the optional param min_stake. Use it to exclude low stake  users. \n"
      ]
    },
    {
      "cell_type": "code",
      "metadata": {
        "id": "fogT8w9bJI0m"
      },
      "source": [
        "def create_histogram(df, col='corrRep', bins=50, min_stake=0, max_stake=1000000):\n",
        "    x = df[((df[col].notnull()) & (df['nmrStaked'] > min_stake)) & (df['nmrStaked'] < max_stake)][col]\n",
        "    plt.hist(x, bins, label=f'{col} when nmrStaked>{min_stake}', alpha=.5)\n",
        "    plt.xlabel(col)\n",
        "    plt.ylabel('Count')\n",
        "    num_elements = x.count()    \n",
        "    return plt\n",
        " \n",
        "def create_scatter_plot(df, x_name='corrRep', y_name='fncRep', min_stake=0, max_stake=1000000):\n",
        " \n",
        "    # these are ugly one liners if you are unfamiliar with pandas.\n",
        "    # They select a subset of the Dataframe df based on compound booleans. Think of them as SELECT x_name WHERE bool1, bool2... if you were writing SQL\n",
        "    # (df[x_name].notnull()) get rows when x_name is not null\n",
        "    # df['nmrStaked'] > min_stake) get rows where the stake is greater than the min_stake\n",
        "    # df['nmrStaked'] < max_stake) get rows where the stake is less than the max stake\n",
        "    # [x_name] says only give me the column with name x_name\n",
        "    x = df[((df[x_name].notnull()) & (df['nmrStaked'] > min_stake)) & (df['nmrStaked'] < max_stake)][x_name]\n",
        "    y = df[((df[y_name].notnull()) & (df['nmrStaked'] > min_stake)) & (df['nmrStaked'] < max_stake)][y_name]\n",
        "    plt.scatter(x, y, s=.5)\n",
        "    plt.xlabel(x_name)\n",
        "    plt.ylabel(y_name)\n",
        "    num_elements = x.count()\n",
        "    plt.title(\n",
        "        f'{y_name} v {x_name} when nmrStaked>{min_stake}\\n Number of Elements:{num_elements}'\n",
        "    )\n",
        "    return plt\n",
        " \n",
        "plt.rcParams[\"figure.figsize\"] = (6,6) # changes the default size of the graphs"
      ],
      "execution_count": 19,
      "outputs": []
    },
    {
      "cell_type": "markdown",
      "metadata": {
        "id": "aUDMZ5NAJI0m"
      },
      "source": [
        "## Histogram of 3 Month Returns by Stake Size"
      ]
    },
    {
      "cell_type": "code",
      "metadata": {
        "colab": {
          "base_uri": "https://localhost:8080/",
          "height": 405
        },
        "id": "DYig9JYAJI0n",
        "outputId": "4363e5cc-0937-4ae2-9695-7f68ae9e3e25"
      },
      "source": [
        "col = '1D_returns' # change this to be '1D_returns' or '1Y_returns' or 'corrRep', 'fncRep' to see other distributions\n",
        "\n",
        "create_histogram(df,col=col, min_stake=0, max_stake=.1)\n",
        "create_histogram(df,col=col, min_stake=.1, max_stake=100)\n",
        "create_histogram(df, col=col,min_stake=100, max_stake=1000000)\n",
        "\n",
        "today = datetime.datetime.now().date()\n",
        "labels = ['0 to .1 NMR','.1 to 100 NMR','100+ NMR']\n",
        "plt.legend(labels)\n",
        "plt.title(f'{col} by stake size on {today}')\n",
        "plt.show()"
      ],
      "execution_count": 20,
      "outputs": [
        {
          "output_type": "display_data",
          "data": {
            "image/png": "[encoded data removed]",
            "text/plain": [
              "<Figure size 432x432 with 1 Axes>"
            ]
          },
          "metadata": {
            "tags": [],
            "needs_background": "light"
          }
        }
      ]
    },
    {
      "cell_type": "code",
      "metadata": {
        "colab": {
          "base_uri": "https://localhost:8080/",
          "height": 479
        },
        "id": "ZpexmVJ-5kGg",
        "outputId": "09d2761f-76e7-420e-cf7f-0dd65b1d9006"
      },
      "source": [
        "col = '1D_returns'\n",
        "\n",
        "# hist with percentages\n",
        "df['size_category'] = '0 to .1 NMR'\n",
        "df.loc[(df['nmrStaked'] > .1) & (df['nmrStaked'] < 100), 'size_category'] = '.1 to 100 NMR'\n",
        "df.loc[(df['nmrStaked'] > 100), 'size_category']  = '100+ NMR'\n",
        "\n",
        "data_for_daily_hist = df[[col,'nmrStaked','size_category']]\n",
        "user_cat_list =[]\n",
        "for label in labels:\n",
        "  user_cat_list.append(np.array(data_for_daily_hist.loc[data_for_daily_hist['size_category'] == label][col]))\n",
        "\n",
        "plt.hist(user_cat_list,bins=50, alpha =.5,stacked=True, density=True)\n",
        "\n",
        "labels = ['0 to .1 NMR','.1 to 100 NMR','100+ NMR']\n",
        "plt.legend(labels)\n",
        "plt.title(f'{col} by stake size on {today}')\n",
        "plt.ylabel('% of Users')\n",
        "plt.xlabel(f'{col}')"
      ],
      "execution_count": 21,
      "outputs": [
        {
          "output_type": "stream",
          "text": [
            "/usr/local/lib/python3.7/dist-packages/numpy/core/_asarray.py:83: VisibleDeprecationWarning: Creating an ndarray from ragged nested sequences (which is a list-or-tuple of lists-or-tuples-or ndarrays with different lengths or shapes) is deprecated. If you meant to do this, you must specify 'dtype=object' when creating the ndarray\n",
            "  return array(a, dtype, copy=False, order=order)\n"
          ],
          "name": "stderr"
        },
        {
          "output_type": "execute_result",
          "data": {
            "text/plain": [
              "Text(0.5, 0, '1D_returns')"
            ]
          },
          "metadata": {
            "tags": []
          },
          "execution_count": 21
        },
        {
          "output_type": "display_data",
          "data": {
            "image/png": "[encoded data removed]",
            "text/plain": [
              "<Figure size 432x432 with 1 Axes>"
            ]
          },
          "metadata": {
            "tags": [],
            "needs_background": "light"
          }
        }
      ]
    },
    {
      "cell_type": "code",
      "metadata": {
        "colab": {
          "base_uri": "https://localhost:8080/",
          "height": 423
        },
        "id": "9rn3tqgGCL2E",
        "outputId": "eb4db088-6697-48be-986b-1dcf3538fb9b"
      },
      "source": [
        "col = '1D_returns'\n",
        "\n",
        "# hist with percentages\n",
        "df['size_category'] = '0 to .1 NMR'\n",
        "df.loc[(df['nmrStaked'] > .1) & (df['nmrStaked'] < 100), 'size_category'] = '.1 to 100 NMR'\n",
        "df.loc[(df['nmrStaked'] > 100), 'size_category']  = '100+ NMR'\n",
        "\n",
        "data_for_daily_hist = df[[col,'nmrStaked','size_category']]\n",
        "user_cat_list =[]\n",
        "for label in labels:\n",
        "  user_cat_list.append(np.array(data_for_daily_hist.loc[data_for_daily_hist['size_category'] == label][col]))\n",
        "\n",
        "large_staker_np = user_cat_list[2]\n",
        "\n",
        "plt.hist(large_staker_np,bins=50, alpha =.5,stacked=True, density=True)\n",
        "\n",
        "labels = ['0 to .1 NMR','.1 to 100 NMR','100+ NMR']\n",
        "plt.legend(labels)\n",
        "plt.title(f'{col} for {labels[2]} on {today}')\n",
        "plt.ylabel('% of Users')\n",
        "plt.xlabel(f'{col}')"
      ],
      "execution_count": 22,
      "outputs": [
        {
          "output_type": "execute_result",
          "data": {
            "text/plain": [
              "Text(0.5, 0, '1D_returns')"
            ]
          },
          "metadata": {
            "tags": []
          },
          "execution_count": 22
        },
        {
          "output_type": "display_data",
          "data": {
            "image/png": "[encoded data removed]",
            "text/plain": [
              "<Figure size 432x432 with 1 Axes>"
            ]
          },
          "metadata": {
            "tags": [],
            "needs_background": "light"
          }
        }
      ]
    },
    {
      "cell_type": "markdown",
      "metadata": {
        "id": "T_y0X5_1JI0n"
      },
      "source": [
        "## Histogram of 3 Month returns excluding where stake is < .1\n",
        "\n",
        "### This excludes everyone that is only betting the free .01 NMR given out. Staking .1 NMR is only about $4 right now so it is not much of a cut off. \n",
        "\n"
      ]
    },
    {
      "cell_type": "code",
      "metadata": {
        "colab": {
          "base_uri": "https://localhost:8080/",
          "height": 405
        },
        "id": "YjMZLmQTJI0n",
        "outputId": "8883deae-cd9c-4f05-f676-6d511cb5506a"
      },
      "source": [
        "col = '3M_returns'\n",
        "\n",
        "create_histogram(df,col=col, min_stake=.1, max_stake=100)\n",
        "create_histogram(df, col=col,min_stake=100, max_stake=1000000)\n",
        "\n",
        "plt.legend(['.1 to 100','100+'])\n",
        "plt.title(f'{col} by stake size')\n",
        "plt.show()"
      ],
      "execution_count": 23,
      "outputs": [
        {
          "output_type": "display_data",
          "data": {
            "image/png": "[encoded data removed]",
            "text/plain": [
              "<Figure size 432x432 with 1 Axes>"
            ]
          },
          "metadata": {
            "tags": [],
            "needs_background": "light"
          }
        }
      ]
    },
    {
      "cell_type": "markdown",
      "metadata": {
        "id": "_4M8PgwOJI0n"
      },
      "source": [
        "## Histogram of Corr by Stake Size\n",
        " \n",
        "- This forms a bimodal distribution at corrRep = -.1 and corrRep = ~+.025\n",
        "- I suspect the cluster at exactly corrRep =-.1 is because every score worse than that is recorded as -.1. This would prevent a savvy person from figuring the actual true predictions by submitting a whole bunch of different submissions and then comparing the Corr scores. I don’t know that for certain but it's the best explanation I can think of.\n"
      ]
    },
    {
      "cell_type": "code",
      "metadata": {
        "colab": {
          "base_uri": "https://localhost:8080/",
          "height": 404
        },
        "id": "L_fADMR6JI0o",
        "outputId": "5772cee0-b00a-4ece-b529-f1500f5e1108"
      },
      "source": [
        "col = 'corrRep'\n",
        "\n",
        "create_histogram(df,col=col, min_stake=0, max_stake=1)\n",
        "create_histogram(df,col=col, min_stake=1, max_stake=100)\n",
        "create_histogram(df,col=col,min_stake=100, max_stake=1000000)\n",
        "\n",
        "plt.legend(['.1 to 1','1 to 100','100+'])\n",
        "plt.title(\"Corr by stake size\")\n",
        "plt.show()"
      ],
      "execution_count": 24,
      "outputs": [
        {
          "output_type": "display_data",
          "data": {
            "image/png": "[encoded data removed]",
            "text/plain": [
              "<Figure size 432x432 with 1 Axes>"
            ]
          },
          "metadata": {
            "tags": [],
            "needs_background": "light"
          }
        }
      ]
    },
    {
      "cell_type": "markdown",
      "metadata": {
        "id": "_QNr51P7JI0o"
      },
      "source": [
        "# Scatter Plots\n"
      ]
    },
    {
      "cell_type": "code",
      "metadata": {
        "colab": {
          "base_uri": "https://localhost:8080/",
          "height": 492
        },
        "id": "Ani1bn7cJI0o",
        "outputId": "2ec146da-101a-4af3-9074-28c9692ae211"
      },
      "source": [
        "print(df.columns)\n",
        "create_scatter_plot(df, x_name='mmcRep', y_name='fncRep')"
      ],
      "execution_count": 25,
      "outputs": [
        {
          "output_type": "stream",
          "text": [
            "Index(['corrRep', 'fncRep', 'mmcRep', 'nmrStaked', 'rank', '3M_returns',\n",
            "       '1Y_returns', '1D_returns', 'username', 'size_category'],\n",
            "      dtype='object')\n"
          ],
          "name": "stdout"
        },
        {
          "output_type": "execute_result",
          "data": {
            "text/plain": [
              "<module 'matplotlib.pyplot' from '/usr/local/lib/python3.7/dist-packages/matplotlib/pyplot.py'>"
            ]
          },
          "metadata": {
            "tags": []
          },
          "execution_count": 25
        },
        {
          "output_type": "display_data",
          "data": {
            "image/png": "[encoded data removed]",
            "text/plain": [
              "<Figure size 432x432 with 1 Axes>"
            ]
          },
          "metadata": {
            "tags": [],
            "needs_background": "light"
          }
        }
      ]
    },
    {
      "cell_type": "code",
      "metadata": {
        "colab": {
          "base_uri": "https://localhost:8080/",
          "height": 437
        },
        "id": "y6c1C9f-9ZmN",
        "outputId": "7fcdcc49-d8f6-4224-ec88-cd2083b2c035"
      },
      "source": [
        "create_scatter_plot(df, x_name='mmcRep', y_name='corrRep')"
      ],
      "execution_count": 26,
      "outputs": [
        {
          "output_type": "execute_result",
          "data": {
            "text/plain": [
              "<module 'matplotlib.pyplot' from '/usr/local/lib/python3.7/dist-packages/matplotlib/pyplot.py'>"
            ]
          },
          "metadata": {
            "tags": []
          },
          "execution_count": 26
        },
        {
          "output_type": "display_data",
          "data": {
            "image/png": "[encoded data removed]",
            "text/plain": [
              "<Figure size 432x432 with 1 Axes>"
            ]
          },
          "metadata": {
            "tags": [],
            "needs_background": "light"
          }
        }
      ]
    },
    {
      "cell_type": "markdown",
      "metadata": {
        "id": "0M2yMpzQJI0o"
      },
      "source": [
        "# Methods to for Ordinary Least Squares Regression\n",
        " \n",
        "## [Read about OLS on Wikipedia](https://en.wikipedia.org/wiki/Ordinary_least_squares)\n",
        "### I am primarily interested in the relationship between stake size and returns. From an economics perspective one would expect people to bet more money on models that have a higher correlation score. This would mean a positive correlation between stake size and returns. \n",
        " \n",
        "\n"
      ]
    },
    {
      "cell_type": "code",
      "metadata": {
        "id": "X5qMNXtlJI0o"
      },
      "source": [
        "def compute_single_regression(df,\n",
        "                              independent_variable='corrRep',\n",
        "                              dependent_variable='3M_returns',\n",
        "                              min_stake=0):\n",
        "\n",
        "    x = df[(df[dependent_variable].notnull())\n",
        "           & (df['nmrStaked'] > min_stake)][independent_variable]\n",
        "    y = df[(df[dependent_variable].notnull())\n",
        "           & (df['nmrStaked'] > min_stake)][dependent_variable]\n",
        "    model = sm.OLS(y, x)\n",
        "    results = model.fit()\n",
        "    return results\n",
        "\n",
        "\n",
        "def compute_multiple_regression(\n",
        "        df,\n",
        "        indepenent_variables=['corrRep', 'fncRep', 'mmcRep', 'nmrStaked'],\n",
        "        dependent_variable='3M_returns',\n",
        "        min_stake=0):\n",
        "    x = df[(df[dependent_variable].notnull())\n",
        "           & (df['nmrStaked'] > min_stake)][indepenent_variables]\n",
        "    y = df[(df[dependent_variable].notnull())\n",
        "           & (df['nmrStaked'] > min_stake)][dependent_variable]\n",
        "    model = sm.OLS(y, x)\n",
        "    results = model.fit()\n",
        "    return results\n"
      ],
      "execution_count": 27,
      "outputs": []
    },
    {
      "cell_type": "markdown",
      "metadata": {
        "id": "T7rTtFsvJI0p"
      },
      "source": [
        "## Single Regression Stake Size and 3 Month Returns"
      ]
    },
    {
      "cell_type": "code",
      "metadata": {
        "colab": {
          "base_uri": "https://localhost:8080/",
          "height": 423
        },
        "id": "gtiiPU6dJI0p",
        "outputId": "de8a5d62-f176-4573-ec2c-9e7076d6dc48"
      },
      "source": [
        "results = compute_single_regression(df,independent_variable='nmrStaked',dependent_variable='3M_returns', min_stake=1)\n",
        "results.summary()\n"
      ],
      "execution_count": 28,
      "outputs": [
        {
          "output_type": "execute_result",
          "data": {
            "text/html": [
              "<table class=\"simpletable\">\n",
              "<caption>OLS Regression Results</caption>\n",
              "<tr>\n",
              "  <th>Dep. Variable:</th>       <td>3M_returns</td>    <th>  R-squared (uncentered):</th>      <td>   0.090</td> \n",
              "</tr>\n",
              "<tr>\n",
              "  <th>Model:</th>                   <td>OLS</td>       <th>  Adj. R-squared (uncentered):</th> <td>   0.089</td> \n",
              "</tr>\n",
              "<tr>\n",
              "  <th>Method:</th>             <td>Least Squares</td>  <th>  F-statistic:       </th>          <td>   136.3</td> \n",
              "</tr>\n",
              "<tr>\n",
              "  <th>Date:</th>             <td>Mon, 24 May 2021</td> <th>  Prob (F-statistic):</th>          <td>4.22e-30</td> \n",
              "</tr>\n",
              "<tr>\n",
              "  <th>Time:</th>                 <td>20:01:57</td>     <th>  Log-Likelihood:    </th>          <td> -7590.3</td> \n",
              "</tr>\n",
              "<tr>\n",
              "  <th>No. Observations:</th>      <td>  1382</td>      <th>  AIC:               </th>          <td>1.518e+04</td>\n",
              "</tr>\n",
              "<tr>\n",
              "  <th>Df Residuals:</th>          <td>  1381</td>      <th>  BIC:               </th>          <td>1.519e+04</td>\n",
              "</tr>\n",
              "<tr>\n",
              "  <th>Df Model:</th>              <td>     1</td>      <th>                     </th>              <td> </td>    \n",
              "</tr>\n",
              "<tr>\n",
              "  <th>Covariance Type:</th>      <td>nonrobust</td>    <th>                     </th>              <td> </td>    \n",
              "</tr>\n",
              "</table>\n",
              "<table class=\"simpletable\">\n",
              "<tr>\n",
              "      <td></td>         <th>coef</th>     <th>std err</th>      <th>t</th>      <th>P>|t|</th>  <th>[0.025</th>    <th>0.975]</th>  \n",
              "</tr>\n",
              "<tr>\n",
              "  <th>nmrStaked</th> <td>    0.0233</td> <td>    0.002</td> <td>   11.675</td> <td> 0.000</td> <td>    0.019</td> <td>    0.027</td>\n",
              "</tr>\n",
              "</table>\n",
              "<table class=\"simpletable\">\n",
              "<tr>\n",
              "  <th>Omnibus:</th>       <td>282.139</td> <th>  Durbin-Watson:     </th> <td>   0.391</td>\n",
              "</tr>\n",
              "<tr>\n",
              "  <th>Prob(Omnibus):</th> <td> 0.000</td>  <th>  Jarque-Bera (JB):  </th> <td>1583.011</td>\n",
              "</tr>\n",
              "<tr>\n",
              "  <th>Skew:</th>          <td>-0.827</td>  <th>  Prob(JB):          </th> <td>    0.00</td>\n",
              "</tr>\n",
              "<tr>\n",
              "  <th>Kurtosis:</th>      <td> 7.975</td>  <th>  Cond. No.          </th> <td>    1.00</td>\n",
              "</tr>\n",
              "</table><br/><br/>Warnings:<br/>[1] Standard Errors assume that the covariance matrix of the errors is correctly specified."
            ],
            "text/plain": [
              "<class 'statsmodels.iolib.summary.Summary'>\n",
              "\"\"\"\n",
              "                                 OLS Regression Results                                \n",
              "=======================================================================================\n",
              "Dep. Variable:             3M_returns   R-squared (uncentered):                   0.090\n",
              "Model:                            OLS   Adj. R-squared (uncentered):              0.089\n",
              "Method:                 Least Squares   F-statistic:                              136.3\n",
              "Date:                Mon, 24 May 2021   Prob (F-statistic):                    4.22e-30\n",
              "Time:                        20:01:57   Log-Likelihood:                         -7590.3\n",
              "No. Observations:                1382   AIC:                                  1.518e+04\n",
              "Df Residuals:                    1381   BIC:                                  1.519e+04\n",
              "Df Model:                           1                                                  \n",
              "Covariance Type:            nonrobust                                                  \n",
              "==============================================================================\n",
              "                 coef    std err          t      P>|t|      [0.025      0.975]\n",
              "------------------------------------------------------------------------------\n",
              "nmrStaked      0.0233      0.002     11.675      0.000       0.019       0.027\n",
              "==============================================================================\n",
              "Omnibus:                      282.139   Durbin-Watson:                   0.391\n",
              "Prob(Omnibus):                  0.000   Jarque-Bera (JB):             1583.011\n",
              "Skew:                          -0.827   Prob(JB):                         0.00\n",
              "Kurtosis:                       7.975   Cond. No.                         1.00\n",
              "==============================================================================\n",
              "\n",
              "Warnings:\n",
              "[1] Standard Errors assume that the covariance matrix of the errors is correctly specified.\n",
              "\"\"\""
            ]
          },
          "metadata": {
            "tags": []
          },
          "execution_count": 28
        }
      ]
    },
    {
      "cell_type": "markdown",
      "metadata": {
        "id": "piKNM9CxJI0p"
      },
      "source": [
        "# Findings\n",
        " \n",
        "## There is a small significant positive relationship between amount staked and 3-month returns (coef= 0.0086, p<.000). However, only looking at stake size does not explain much of the variance in the 3-month returns. \n",
        " \n",
        "- The R^2 value is .027, I thought this would be much larger.\n",
        "- One explanation is that having access to a lot of capital is not indicative of being good at model building. \n",
        "- There are a lot of low capital high skill data scientists out there\n",
        "- These numbers change day to day since this notebook pings the leaderboard each time it is run\n",
        " "
      ]
    },
    {
      "cell_type": "markdown",
      "metadata": {
        "id": "2yt-NXISJI0p"
      },
      "source": [
        "## Multiple Regression on 1D returns. \n",
        " \n",
        "### This is looking at the relative impact of CORR, MMC, FNC, and Stake on returns. Because this is only 1D returns one would expect these features to poorly predict returns because there is so much variance in 1D returns. \n",
        " "
      ]
    },
    {
      "cell_type": "code",
      "metadata": {
        "colab": {
          "base_uri": "https://localhost:8080/",
          "height": 520
        },
        "id": "uf6cgaeeJI0p",
        "outputId": "21a2433b-0c50-4a0d-f609-b56d5c3dc9e6"
      },
      "source": [
        "# multiple regression looks at the impact of several independent variables on the dependent variable.\n",
        "# I set the default independent variables to ['corrRep', 'fncRep', 'mmcRep', 'nmrStaked']\n",
        "results = compute_multiple_regression(df,dependent_variable='1D_returns')\n",
        "results.summary()\n",
        " "
      ],
      "execution_count": 29,
      "outputs": [
        {
          "output_type": "execute_result",
          "data": {
            "text/html": [
              "<table class=\"simpletable\">\n",
              "<caption>OLS Regression Results</caption>\n",
              "<tr>\n",
              "  <th>Dep. Variable:</th>       <td>1D_returns</td>    <th>  R-squared (uncentered):</th>      <td>   0.367</td> \n",
              "</tr>\n",
              "<tr>\n",
              "  <th>Model:</th>                   <td>OLS</td>       <th>  Adj. R-squared (uncentered):</th> <td>   0.366</td> \n",
              "</tr>\n",
              "<tr>\n",
              "  <th>Method:</th>             <td>Least Squares</td>  <th>  F-statistic:       </th>          <td>   470.2</td> \n",
              "</tr>\n",
              "<tr>\n",
              "  <th>Date:</th>             <td>Mon, 24 May 2021</td> <th>  Prob (F-statistic):</th>          <td>4.57e-320</td>\n",
              "</tr>\n",
              "<tr>\n",
              "  <th>Time:</th>                 <td>20:01:57</td>     <th>  Log-Likelihood:    </th>          <td> -7685.7</td> \n",
              "</tr>\n",
              "<tr>\n",
              "  <th>No. Observations:</th>      <td>  3249</td>      <th>  AIC:               </th>          <td>1.538e+04</td>\n",
              "</tr>\n",
              "<tr>\n",
              "  <th>Df Residuals:</th>          <td>  3245</td>      <th>  BIC:               </th>          <td>1.540e+04</td>\n",
              "</tr>\n",
              "<tr>\n",
              "  <th>Df Model:</th>              <td>     4</td>      <th>                     </th>              <td> </td>    \n",
              "</tr>\n",
              "<tr>\n",
              "  <th>Covariance Type:</th>      <td>nonrobust</td>    <th>                     </th>              <td> </td>    \n",
              "</tr>\n",
              "</table>\n",
              "<table class=\"simpletable\">\n",
              "<tr>\n",
              "      <td></td>         <th>coef</th>     <th>std err</th>      <th>t</th>      <th>P>|t|</th>  <th>[0.025</th>    <th>0.975]</th>  \n",
              "</tr>\n",
              "<tr>\n",
              "  <th>corrRep</th>   <td>   89.2369</td> <td>    2.480</td> <td>   35.976</td> <td> 0.000</td> <td>   84.374</td> <td>   94.100</td>\n",
              "</tr>\n",
              "<tr>\n",
              "  <th>fncRep</th>    <td> -100.6361</td> <td>    7.342</td> <td>  -13.707</td> <td> 0.000</td> <td> -115.031</td> <td>  -86.241</td>\n",
              "</tr>\n",
              "<tr>\n",
              "  <th>mmcRep</th>    <td>   -4.2881</td> <td>    5.837</td> <td>   -0.735</td> <td> 0.463</td> <td>  -15.732</td> <td>    7.156</td>\n",
              "</tr>\n",
              "<tr>\n",
              "  <th>nmrStaked</th> <td>-7.386e-05</td> <td> 8.61e-05</td> <td>   -0.858</td> <td> 0.391</td> <td>   -0.000</td> <td> 9.49e-05</td>\n",
              "</tr>\n",
              "</table>\n",
              "<table class=\"simpletable\">\n",
              "<tr>\n",
              "  <th>Omnibus:</th>       <td>301.036</td> <th>  Durbin-Watson:     </th> <td>   1.956</td>\n",
              "</tr>\n",
              "<tr>\n",
              "  <th>Prob(Omnibus):</th> <td> 0.000</td>  <th>  Jarque-Bera (JB):  </th> <td>1877.545</td>\n",
              "</tr>\n",
              "<tr>\n",
              "  <th>Skew:</th>          <td>-0.178</td>  <th>  Prob(JB):          </th> <td>    0.00</td>\n",
              "</tr>\n",
              "<tr>\n",
              "  <th>Kurtosis:</th>      <td> 6.707</td>  <th>  Cond. No.          </th> <td>1.12e+05</td>\n",
              "</tr>\n",
              "</table><br/><br/>Warnings:<br/>[1] Standard Errors assume that the covariance matrix of the errors is correctly specified.<br/>[2] The condition number is large, 1.12e+05. This might indicate that there are<br/>strong multicollinearity or other numerical problems."
            ],
            "text/plain": [
              "<class 'statsmodels.iolib.summary.Summary'>\n",
              "\"\"\"\n",
              "                                 OLS Regression Results                                \n",
              "=======================================================================================\n",
              "Dep. Variable:             1D_returns   R-squared (uncentered):                   0.367\n",
              "Model:                            OLS   Adj. R-squared (uncentered):              0.366\n",
              "Method:                 Least Squares   F-statistic:                              470.2\n",
              "Date:                Mon, 24 May 2021   Prob (F-statistic):                   4.57e-320\n",
              "Time:                        20:01:57   Log-Likelihood:                         -7685.7\n",
              "No. Observations:                3249   AIC:                                  1.538e+04\n",
              "Df Residuals:                    3245   BIC:                                  1.540e+04\n",
              "Df Model:                           4                                                  \n",
              "Covariance Type:            nonrobust                                                  \n",
              "==============================================================================\n",
              "                 coef    std err          t      P>|t|      [0.025      0.975]\n",
              "------------------------------------------------------------------------------\n",
              "corrRep       89.2369      2.480     35.976      0.000      84.374      94.100\n",
              "fncRep      -100.6361      7.342    -13.707      0.000    -115.031     -86.241\n",
              "mmcRep        -4.2881      5.837     -0.735      0.463     -15.732       7.156\n",
              "nmrStaked  -7.386e-05   8.61e-05     -0.858      0.391      -0.000    9.49e-05\n",
              "==============================================================================\n",
              "Omnibus:                      301.036   Durbin-Watson:                   1.956\n",
              "Prob(Omnibus):                  0.000   Jarque-Bera (JB):             1877.545\n",
              "Skew:                          -0.178   Prob(JB):                         0.00\n",
              "Kurtosis:                       6.707   Cond. No.                     1.12e+05\n",
              "==============================================================================\n",
              "\n",
              "Warnings:\n",
              "[1] Standard Errors assume that the covariance matrix of the errors is correctly specified.\n",
              "[2] The condition number is large, 1.12e+05. This might indicate that there are\n",
              "strong multicollinearity or other numerical problems.\n",
              "\"\"\""
            ]
          },
          "metadata": {
            "tags": []
          },
          "execution_count": 29
        }
      ]
    },
    {
      "cell_type": "markdown",
      "metadata": {
        "id": "ol6UVem3JI0q"
      },
      "source": [
        "\n",
        "## Multiple Regression on 3 Month Returns"
      ]
    },
    {
      "cell_type": "code",
      "metadata": {
        "colab": {
          "base_uri": "https://localhost:8080/",
          "height": 520
        },
        "id": "o3PbYf0HJI0q",
        "outputId": "644f9f1c-2d86-456b-d669-53bd33941344"
      },
      "source": [
        "results = compute_multiple_regression(df,dependent_variable='3M_returns', min_stake=.1)\n",
        "results.summary()\n"
      ],
      "execution_count": 30,
      "outputs": [
        {
          "output_type": "execute_result",
          "data": {
            "text/html": [
              "<table class=\"simpletable\">\n",
              "<caption>OLS Regression Results</caption>\n",
              "<tr>\n",
              "  <th>Dep. Variable:</th>       <td>3M_returns</td>    <th>  R-squared (uncentered):</th>      <td>   0.908</td> \n",
              "</tr>\n",
              "<tr>\n",
              "  <th>Model:</th>                   <td>OLS</td>       <th>  Adj. R-squared (uncentered):</th> <td>   0.908</td> \n",
              "</tr>\n",
              "<tr>\n",
              "  <th>Method:</th>             <td>Least Squares</td>  <th>  F-statistic:       </th>          <td>   3833.</td> \n",
              "</tr>\n",
              "<tr>\n",
              "  <th>Date:</th>             <td>Mon, 24 May 2021</td> <th>  Prob (F-statistic):</th>           <td>  0.00</td>  \n",
              "</tr>\n",
              "<tr>\n",
              "  <th>Time:</th>                 <td>20:01:57</td>     <th>  Log-Likelihood:    </th>          <td> -6726.4</td> \n",
              "</tr>\n",
              "<tr>\n",
              "  <th>No. Observations:</th>      <td>  1557</td>      <th>  AIC:               </th>          <td>1.346e+04</td>\n",
              "</tr>\n",
              "<tr>\n",
              "  <th>Df Residuals:</th>          <td>  1553</td>      <th>  BIC:               </th>          <td>1.348e+04</td>\n",
              "</tr>\n",
              "<tr>\n",
              "  <th>Df Model:</th>              <td>     4</td>      <th>                     </th>              <td> </td>    \n",
              "</tr>\n",
              "<tr>\n",
              "  <th>Covariance Type:</th>      <td>nonrobust</td>    <th>                     </th>              <td> </td>    \n",
              "</tr>\n",
              "</table>\n",
              "<table class=\"simpletable\">\n",
              "<tr>\n",
              "      <td></td>         <th>coef</th>     <th>std err</th>      <th>t</th>      <th>P>|t|</th>  <th>[0.025</th>    <th>0.975]</th>  \n",
              "</tr>\n",
              "<tr>\n",
              "  <th>corrRep</th>   <td> 2309.9244</td> <td>   22.207</td> <td>  104.019</td> <td> 0.000</td> <td> 2266.366</td> <td> 2353.483</td>\n",
              "</tr>\n",
              "<tr>\n",
              "  <th>fncRep</th>    <td>-1710.5247</td> <td>   69.345</td> <td>  -24.667</td> <td> 0.000</td> <td>-1846.543</td> <td>-1574.506</td>\n",
              "</tr>\n",
              "<tr>\n",
              "  <th>mmcRep</th>    <td> -564.4177</td> <td>   57.453</td> <td>   -9.824</td> <td> 0.000</td> <td> -677.112</td> <td> -451.724</td>\n",
              "</tr>\n",
              "<tr>\n",
              "  <th>nmrStaked</th> <td>   -0.0005</td> <td>    0.001</td> <td>   -0.721</td> <td> 0.471</td> <td>   -0.002</td> <td>    0.001</td>\n",
              "</tr>\n",
              "</table>\n",
              "<table class=\"simpletable\">\n",
              "<tr>\n",
              "  <th>Omnibus:</th>       <td>297.213</td> <th>  Durbin-Watson:     </th> <td>   1.948</td> \n",
              "</tr>\n",
              "<tr>\n",
              "  <th>Prob(Omnibus):</th> <td> 0.000</td>  <th>  Jarque-Bera (JB):  </th> <td>1046.550</td> \n",
              "</tr>\n",
              "<tr>\n",
              "  <th>Skew:</th>          <td> 0.912</td>  <th>  Prob(JB):          </th> <td>5.55e-228</td>\n",
              "</tr>\n",
              "<tr>\n",
              "  <th>Kurtosis:</th>      <td> 6.578</td>  <th>  Cond. No.          </th> <td>1.44e+05</td> \n",
              "</tr>\n",
              "</table><br/><br/>Warnings:<br/>[1] Standard Errors assume that the covariance matrix of the errors is correctly specified.<br/>[2] The condition number is large, 1.44e+05. This might indicate that there are<br/>strong multicollinearity or other numerical problems."
            ],
            "text/plain": [
              "<class 'statsmodels.iolib.summary.Summary'>\n",
              "\"\"\"\n",
              "                                 OLS Regression Results                                \n",
              "=======================================================================================\n",
              "Dep. Variable:             3M_returns   R-squared (uncentered):                   0.908\n",
              "Model:                            OLS   Adj. R-squared (uncentered):              0.908\n",
              "Method:                 Least Squares   F-statistic:                              3833.\n",
              "Date:                Mon, 24 May 2021   Prob (F-statistic):                        0.00\n",
              "Time:                        20:01:57   Log-Likelihood:                         -6726.4\n",
              "No. Observations:                1557   AIC:                                  1.346e+04\n",
              "Df Residuals:                    1553   BIC:                                  1.348e+04\n",
              "Df Model:                           4                                                  \n",
              "Covariance Type:            nonrobust                                                  \n",
              "==============================================================================\n",
              "                 coef    std err          t      P>|t|      [0.025      0.975]\n",
              "------------------------------------------------------------------------------\n",
              "corrRep     2309.9244     22.207    104.019      0.000    2266.366    2353.483\n",
              "fncRep     -1710.5247     69.345    -24.667      0.000   -1846.543   -1574.506\n",
              "mmcRep      -564.4177     57.453     -9.824      0.000    -677.112    -451.724\n",
              "nmrStaked     -0.0005      0.001     -0.721      0.471      -0.002       0.001\n",
              "==============================================================================\n",
              "Omnibus:                      297.213   Durbin-Watson:                   1.948\n",
              "Prob(Omnibus):                  0.000   Jarque-Bera (JB):             1046.550\n",
              "Skew:                           0.912   Prob(JB):                    5.55e-228\n",
              "Kurtosis:                       6.578   Cond. No.                     1.44e+05\n",
              "==============================================================================\n",
              "\n",
              "Warnings:\n",
              "[1] Standard Errors assume that the covariance matrix of the errors is correctly specified.\n",
              "[2] The condition number is large, 1.44e+05. This might indicate that there are\n",
              "strong multicollinearity or other numerical problems.\n",
              "\"\"\""
            ]
          },
          "metadata": {
            "tags": []
          },
          "execution_count": 30
        }
      ]
    },
    {
      "cell_type": "markdown",
      "metadata": {
        "id": "OshGtjQUJI0q"
      },
      "source": [
        "# Multiple Regression on 1 Year Returns"
      ]
    },
    {
      "cell_type": "code",
      "metadata": {
        "colab": {
          "base_uri": "https://localhost:8080/",
          "height": 520
        },
        "id": "oWzXgK26JI0q",
        "outputId": "c537e9d1-14c7-4886-9be0-82730dd65d0b"
      },
      "source": [
        "results = compute_multiple_regression(df, dependent_variable='1Y_returns')\n",
        "results.summary()"
      ],
      "execution_count": 31,
      "outputs": [
        {
          "output_type": "execute_result",
          "data": {
            "text/html": [
              "<table class=\"simpletable\">\n",
              "<caption>OLS Regression Results</caption>\n",
              "<tr>\n",
              "  <th>Dep. Variable:</th>       <td>1Y_returns</td>    <th>  R-squared (uncentered):</th>      <td>   0.863</td> \n",
              "</tr>\n",
              "<tr>\n",
              "  <th>Model:</th>                   <td>OLS</td>       <th>  Adj. R-squared (uncentered):</th> <td>   0.862</td> \n",
              "</tr>\n",
              "<tr>\n",
              "  <th>Method:</th>             <td>Least Squares</td>  <th>  F-statistic:       </th>          <td>   890.1</td> \n",
              "</tr>\n",
              "<tr>\n",
              "  <th>Date:</th>             <td>Mon, 24 May 2021</td> <th>  Prob (F-statistic):</th>          <td>2.97e-242</td>\n",
              "</tr>\n",
              "<tr>\n",
              "  <th>Time:</th>                 <td>20:01:57</td>     <th>  Log-Likelihood:    </th>          <td> -3225.6</td> \n",
              "</tr>\n",
              "<tr>\n",
              "  <th>No. Observations:</th>      <td>   569</td>      <th>  AIC:               </th>          <td>   6459.</td> \n",
              "</tr>\n",
              "<tr>\n",
              "  <th>Df Residuals:</th>          <td>   565</td>      <th>  BIC:               </th>          <td>   6477.</td> \n",
              "</tr>\n",
              "<tr>\n",
              "  <th>Df Model:</th>              <td>     4</td>      <th>                     </th>              <td> </td>    \n",
              "</tr>\n",
              "<tr>\n",
              "  <th>Covariance Type:</th>      <td>nonrobust</td>    <th>                     </th>              <td> </td>    \n",
              "</tr>\n",
              "</table>\n",
              "<table class=\"simpletable\">\n",
              "<tr>\n",
              "      <td></td>         <th>coef</th>     <th>std err</th>      <th>t</th>      <th>P>|t|</th>  <th>[0.025</th>    <th>0.975]</th>  \n",
              "</tr>\n",
              "<tr>\n",
              "  <th>corrRep</th>   <td> 6787.5909</td> <td>  155.334</td> <td>   43.697</td> <td> 0.000</td> <td> 6482.488</td> <td> 7092.694</td>\n",
              "</tr>\n",
              "<tr>\n",
              "  <th>fncRep</th>    <td>-3256.3718</td> <td>  500.513</td> <td>   -6.506</td> <td> 0.000</td> <td>-4239.465</td> <td>-2273.278</td>\n",
              "</tr>\n",
              "<tr>\n",
              "  <th>mmcRep</th>    <td>-3506.9392</td> <td>  409.192</td> <td>   -8.570</td> <td> 0.000</td> <td>-4310.663</td> <td>-2703.215</td>\n",
              "</tr>\n",
              "<tr>\n",
              "  <th>nmrStaked</th> <td>    0.0088</td> <td>    0.003</td> <td>    2.890</td> <td> 0.004</td> <td>    0.003</td> <td>    0.015</td>\n",
              "</tr>\n",
              "</table>\n",
              "<table class=\"simpletable\">\n",
              "<tr>\n",
              "  <th>Omnibus:</th>       <td>108.581</td> <th>  Durbin-Watson:     </th> <td>   1.888</td>\n",
              "</tr>\n",
              "<tr>\n",
              "  <th>Prob(Omnibus):</th> <td> 0.000</td>  <th>  Jarque-Bera (JB):  </th> <td> 277.889</td>\n",
              "</tr>\n",
              "<tr>\n",
              "  <th>Skew:</th>          <td> 0.963</td>  <th>  Prob(JB):          </th> <td>4.54e-61</td>\n",
              "</tr>\n",
              "<tr>\n",
              "  <th>Kurtosis:</th>      <td> 5.831</td>  <th>  Cond. No.          </th> <td>2.30e+05</td>\n",
              "</tr>\n",
              "</table><br/><br/>Warnings:<br/>[1] Standard Errors assume that the covariance matrix of the errors is correctly specified.<br/>[2] The condition number is large, 2.3e+05. This might indicate that there are<br/>strong multicollinearity or other numerical problems."
            ],
            "text/plain": [
              "<class 'statsmodels.iolib.summary.Summary'>\n",
              "\"\"\"\n",
              "                                 OLS Regression Results                                \n",
              "=======================================================================================\n",
              "Dep. Variable:             1Y_returns   R-squared (uncentered):                   0.863\n",
              "Model:                            OLS   Adj. R-squared (uncentered):              0.862\n",
              "Method:                 Least Squares   F-statistic:                              890.1\n",
              "Date:                Mon, 24 May 2021   Prob (F-statistic):                   2.97e-242\n",
              "Time:                        20:01:57   Log-Likelihood:                         -3225.6\n",
              "No. Observations:                 569   AIC:                                      6459.\n",
              "Df Residuals:                     565   BIC:                                      6477.\n",
              "Df Model:                           4                                                  \n",
              "Covariance Type:            nonrobust                                                  \n",
              "==============================================================================\n",
              "                 coef    std err          t      P>|t|      [0.025      0.975]\n",
              "------------------------------------------------------------------------------\n",
              "corrRep     6787.5909    155.334     43.697      0.000    6482.488    7092.694\n",
              "fncRep     -3256.3718    500.513     -6.506      0.000   -4239.465   -2273.278\n",
              "mmcRep     -3506.9392    409.192     -8.570      0.000   -4310.663   -2703.215\n",
              "nmrStaked      0.0088      0.003      2.890      0.004       0.003       0.015\n",
              "==============================================================================\n",
              "Omnibus:                      108.581   Durbin-Watson:                   1.888\n",
              "Prob(Omnibus):                  0.000   Jarque-Bera (JB):              277.889\n",
              "Skew:                           0.963   Prob(JB):                     4.54e-61\n",
              "Kurtosis:                       5.831   Cond. No.                     2.30e+05\n",
              "==============================================================================\n",
              "\n",
              "Warnings:\n",
              "[1] Standard Errors assume that the covariance matrix of the errors is correctly specified.\n",
              "[2] The condition number is large, 2.3e+05. This might indicate that there are\n",
              "strong multicollinearity or other numerical problems.\n",
              "\"\"\""
            ]
          },
          "metadata": {
            "tags": []
          },
          "execution_count": 31
        }
      ]
    },
    {
      "cell_type": "markdown",
      "metadata": {
        "id": "fKzE5QCqJI0q"
      },
      "source": [
        "# What do the long-term profits look like?"
      ]
    },
    {
      "cell_type": "code",
      "metadata": {
        "colab": {
          "base_uri": "https://localhost:8080/"
        },
        "id": "KLcbSeo2JI0r",
        "outputId": "87f5e255-6daf-4ceb-879f-0a2e7fcbc70d"
      },
      "source": [
        "users_with_3_month_returns = df[df['3M_returns'].notnull()]['3M_returns']\n",
        "num_3M_returns = users_with_3_month_returns.count()\n",
        " \n",
        "print('Description users with 3 months of returns\\n', users_with_3_month_returns.describe())\n",
        " \n",
        "users_net_postive_3_month_returns = df[(df['3M_returns'].notnull()) & (df['3M_returns'] > 0)]['3M_returns']\n",
        "num_net_postitive = users_net_postive_3_month_returns.count()\n",
        " \n",
        "percent_net_positive = \"{:.1%}\".format(num_net_postitive/num_3M_returns)\n",
        " \n",
        "print(f'Users who were net positive over 3 months: {percent_net_positive}')\n",
        " \n",
        "users_net_up_10_percent = df[(df['3M_returns'].notnull()) & (df['3M_returns'] > 10)]['3M_returns']\n",
        "num_net_up_10_percent = users_net_up_10_percent.count()\n",
        " \n",
        "percent_net_up_10 = \"{:.1%}\".format(num_net_up_10_percent/num_3M_returns)\n",
        "print(f'Users who were net up 10% over 3 months: {percent_net_up_10}')\n",
        " \n",
        "users_net_up_50_percent = df[(df['3M_returns'].notnull()) & (df['3M_returns'] > 50)]['3M_returns']\n",
        "num_net_up_50_percent = users_net_up_50_percent.count()\n",
        " \n",
        "percent_net_up_50 = \"{:.1%}\".format(num_net_up_50_percent/num_3M_returns)\n",
        "print(f'Users who were net up 50% over 3 months: {percent_net_up_50}')\n",
        "\n",
        "# you might want to include a bit about the t-test of the groups by stake size here."
      ],
      "execution_count": 32,
      "outputs": [
        {
          "output_type": "stream",
          "text": [
            "Description users with 3 months of returns\n",
            " count    2621.000000\n",
            "mean       41.060515\n",
            "std        34.573713\n",
            "min       -85.770690\n",
            "25%         3.042035\n",
            "50%        43.523964\n",
            "75%        66.265233\n",
            "max       150.841867\n",
            "Name: 3M_returns, dtype: float64\n",
            "Users who were net positive over 3 months: 76.9%\n",
            "Users who were net up 10% over 3 months: 72.0%\n",
            "Users who were net up 50% over 3 months: 43.2%\n"
          ],
          "name": "stdout"
        }
      ]
    },
    {
      "cell_type": "markdown",
      "metadata": {
        "id": "NZggwFOUJI0r"
      },
      "source": [
        "# Conclusions\n",
        "1. I was surprised that there is a negative relationship between FNC and 3M and 1Y returns. I would have expected each of those parameters to have positive coefficients. \n",
        "2. The R^2 increases when you look at larger time frames. This matches intuition and the law of large numbers. As you increase the time period you consider, the randomness in the 1D and 3M returns evens out. \n",
        "3. Because there is such a small relationship between stake size and returns, I can conclude that you don't need access to large amounts of capital to build a good model. If you look at the leaderboard right now, there are people who have staked anywhere from 0 to ~1,000 NMR that have similar CORR scores.\n",
        "4. It seems like betting any amount of money on your model is enough of a signal of confidence in it. There is not that much of a difference between beting 1 and 1000 NMR. This surprised me a lot.\n",
        "5. Because some people might have multiple accounts, there is an upper bound of ~900 people who have successfully built models to forecast the stock market well enough to get net +10% over three months. What a time to be alive. \n",
        " "
      ]
    },
    {
      "cell_type": "markdown",
      "metadata": {
        "id": "XAL3iXSLJI0r"
      },
      "source": [
        "# Next Steps\n",
        " \n",
        "- Figure out the life cycle of a typical user. How long does it take for them to be profitable, how much turnover is there? How many people just submit the intro model and give up? I am pretty sure I can get this data from the API.\n",
        " \n",
        "- Track these variables over time. I could store the results from the leaderboard every day and then come back in a month and see if it has changed at all.\n",
        "\n",
        "- I could calcuate the 1_day returns each day and turn them into a gif that shows how the leaderboard moved around each day."
      ]
    }
  ]
}