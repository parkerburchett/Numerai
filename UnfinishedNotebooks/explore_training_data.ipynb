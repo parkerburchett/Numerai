{
 "cells": [
  {
   "cell_type": "code",
   "execution_count": 1,
   "metadata": {},
   "outputs": [],
   "source": [
    "import pandas as pd\r\n"
   ]
  },
  {
   "cell_type": "code",
   "execution_count": 2,
   "metadata": {},
   "outputs": [],
   "source": [
    "def load_training_data():\r\n",
    "    df = pd.read_csv('numerai_training_data.csv')\r\n",
    "    return df\r\n",
    "\r\n",
    "def load_tournament_data():\r\n",
    "    df = pd.read_csv('numerai_tournament_data.csv')\r\n",
    "    return df\r\n",
    "    \r\n",
    "def load_ticker_data():\r\n",
    "    tickers = pd.read_csv('latest.csv')\r\n",
    "    return tickers\r\n"
   ]
  },
  {
   "cell_type": "code",
   "execution_count": 3,
   "metadata": {},
   "outputs": [],
   "source": [
    "df = load_tournament_data()"
   ]
  },
  {
   "cell_type": "code",
   "execution_count": 4,
   "metadata": {},
   "outputs": [
    {
     "data": {
      "text/plain": "Index(['id', 'era', 'data_type', 'feature_intelligence1',\n       'feature_intelligence2', 'feature_intelligence3',\n       'feature_intelligence4', 'feature_intelligence5',\n       'feature_intelligence6', 'feature_intelligence7',\n       ...\n       'feature_wisdom38', 'feature_wisdom39', 'feature_wisdom40',\n       'feature_wisdom41', 'feature_wisdom42', 'feature_wisdom43',\n       'feature_wisdom44', 'feature_wisdom45', 'feature_wisdom46', 'target'],\n      dtype='object', length=314)"
     },
     "execution_count": 4,
     "metadata": {},
     "output_type": "execute_result"
    }
   ],
   "source": [
    "df.columns"
   ]
  },
  {
   "cell_type": "markdown",
   "metadata": {},
   "source": [
    "# See what the targets are for the tournment data."
   ]
  },
  {
   "cell_type": "code",
   "execution_count": 5,
   "metadata": {},
   "outputs": [
    {
     "data": {
      "text/plain": "0.50    68954\n0.75    27533\n0.25    27531\n1.00     6882\n0.00     6879\nName: target, dtype: int64"
     },
     "execution_count": 5,
     "metadata": {},
     "output_type": "execute_result"
    }
   ],
   "source": [
    "df['target'].value_counts()\r\n"
   ]
  },
  {
   "cell_type": "code",
   "execution_count": 6,
   "metadata": {},
   "outputs": [
    {
     "data": {
      "text/plain": "id                             0\nera                            0\ndata_type                      0\nfeature_intelligence1          0\nfeature_intelligence2          0\n                          ...   \nfeature_wisdom43               0\nfeature_wisdom44               0\nfeature_wisdom45               0\nfeature_wisdom46               0\ntarget                   1522723\nLength: 314, dtype: int64"
     },
     "execution_count": 6,
     "metadata": {},
     "output_type": "execute_result"
    }
   ],
   "source": [
    "df.isna().sum() # it looks like you have 1,522,723 Nan values for the targets.\r\n",
    "\r\n",
    "#There are ~120,000 validation vectors that are stored in the dataset. They have values assoicated with them. You use them to test the CORR of your models. \r\n",
    "\r\n",
    "# that means there are ~1,500,000 real world vectors that your model will be tested on."
   ]
  },
  {
   "cell_type": "code",
   "execution_count": 7,
   "metadata": {},
   "outputs": [
    {
     "data": {
      "text/plain": "id                       1660502\nera                      1660502\ndata_type                1660502\nfeature_intelligence1    1660502\nfeature_intelligence2    1660502\n                          ...   \nfeature_wisdom43         1660502\nfeature_wisdom44         1660502\nfeature_wisdom45         1660502\nfeature_wisdom46         1660502\ntarget                    137779\nLength: 314, dtype: int64"
     },
     "execution_count": 7,
     "metadata": {},
     "output_type": "execute_result"
    }
   ],
   "source": [
    "df.count() # this takes to long"
   ]
  },
  {
   "cell_type": "markdown",
   "metadata": {},
   "source": [
    "## There are 501808 unique ids in the training data.\r\n",
    "\r\n",
    "This means that they do not uniquely refer to a stock. You cannot take the id and use it to determine what stock it is. "
   ]
  },
  {
   "cell_type": "code",
   "execution_count": 8,
   "metadata": {},
   "outputs": [
    {
     "data": {
      "text/plain": "array(['era121', 'era122', 'era123', 'era124', 'era125', 'era126',\n       'era127', 'era128', 'era129', 'era130', 'era131', 'era132',\n       'era575', 'era576', 'era577', 'era578', 'era579', 'era580',\n       'era581', 'era582', 'era583', 'era584', 'era585', 'era586',\n       'era587', 'era588', 'era589', 'era590', 'era591', 'era592',\n       'era593', 'era594', 'era595', 'era596', 'era597', 'era598',\n       'era599', 'era600', 'era601', 'era602', 'era603', 'era604',\n       'era605', 'era606', 'era607', 'era608', 'era609', 'era610',\n       'era611', 'era612', 'era613', 'era614', 'era615', 'era616',\n       'era617', 'era618', 'era619', 'era620', 'era621', 'era622',\n       'era623', 'era624', 'era625', 'era626', 'era627', 'era628',\n       'era629', 'era630', 'era631', 'era632', 'era633', 'era634',\n       'era635', 'era636', 'era637', 'era638', 'era639', 'era640',\n       'era641', 'era642', 'era643', 'era644', 'era645', 'era646',\n       'era647', 'era648', 'era649', 'era650', 'era651', 'era652',\n       'era653', 'era654', 'era655', 'era656', 'era657', 'era658',\n       'era659', 'era660', 'era661', 'era662', 'era663', 'era664',\n       'era665', 'era666', 'era667', 'era668', 'era669', 'era670',\n       'era671', 'era672', 'era673', 'era674', 'era675', 'era676',\n       'era677', 'era678', 'era679', 'era680', 'era681', 'era682',\n       'era683', 'era684', 'era685', 'era686', 'era687', 'era688',\n       'era689', 'era690', 'era691', 'era692', 'era693', 'era694',\n       'era695', 'era696', 'era697', 'era698', 'era699', 'era700',\n       'era701', 'era702', 'era703', 'era704', 'era705', 'era706',\n       'era707', 'era708', 'era709', 'era710', 'era711', 'era712',\n       'era713', 'era714', 'era715', 'era716', 'era717', 'era718',\n       'era719', 'era720', 'era721', 'era722', 'era723', 'era724',\n       'era725', 'era726', 'era727', 'era728', 'era729', 'era730',\n       'era731', 'era732', 'era733', 'era734', 'era735', 'era736',\n       'era737', 'era738', 'era739', 'era740', 'era741', 'era742',\n       'era743', 'era744', 'era745', 'era746', 'era747', 'era748',\n       'era749', 'era750', 'era751', 'era752', 'era753', 'era754',\n       'era755', 'era756', 'era757', 'era758', 'era759', 'era760',\n       'era761', 'era762', 'era763', 'era764', 'era765', 'era766',\n       'era767', 'era768', 'era769', 'era770', 'era771', 'era772',\n       'era773', 'era774', 'era775', 'era776', 'era777', 'era778',\n       'era779', 'era780', 'era781', 'era782', 'era783', 'era784',\n       'era785', 'era786', 'era787', 'era788', 'era789', 'era790',\n       'era791', 'era792', 'era793', 'era794', 'era795', 'era796',\n       'era797', 'era798', 'era799', 'era800', 'era801', 'era802',\n       'era803', 'era804', 'era805', 'era806', 'era807', 'era808',\n       'era809', 'era810', 'era811', 'era812', 'era813', 'era814',\n       'era815', 'era816', 'era817', 'era818', 'era819', 'era820',\n       'era821', 'era822', 'era823', 'era824', 'era825', 'era826',\n       'era827', 'era828', 'era829', 'era830', 'era831', 'era832',\n       'era833', 'era834', 'era835', 'era836', 'era837', 'era838',\n       'era839', 'era840', 'era841', 'era842', 'era843', 'era844',\n       'era845', 'era846', 'era847', 'era848', 'era849', 'era850',\n       'era851', 'era852', 'era197', 'era198', 'era199', 'era200',\n       'era201', 'era202', 'era203', 'era204', 'era205', 'era206',\n       'era207', 'era208', 'era209', 'era210', 'era211', 'era212',\n       'era927', 'era928', 'era929', 'era930', 'era931', 'era932',\n       'era933', 'era934', 'era935', 'era936', 'era937', 'era938',\n       'era939', 'era940', 'era941', 'era942', 'era943', 'era944',\n       'era945', 'era946', 'era947', 'eraX'], dtype=object)"
     },
     "execution_count": 8,
     "metadata": {},
     "output_type": "execute_result"
    }
   ],
   "source": [
    "df.era.unique() \r\n",
    "# in this instance of the training data there are 120 eras\r\n",
    "# For each era there are the same features\r\n",
    "# different eras have differnt readid in them. The number of these ids varies by era usally between 2k and 4.5k unique ids in the training data\r\n",
    "# you cannot take a vector of a stock from one era and use it to predict the vector of a target in a different era.\r\n",
    "\r\n"
   ]
  },
  {
   "cell_type": "code",
   "execution_count": 9,
   "metadata": {},
   "outputs": [
    {
     "data": {
      "text/html": "<div>\n<style scoped>\n    .dataframe tbody tr th:only-of-type {\n        vertical-align: middle;\n    }\n\n    .dataframe tbody tr th {\n        vertical-align: top;\n    }\n\n    .dataframe thead th {\n        text-align: right;\n    }\n</style>\n<table border=\"1\" class=\"dataframe\">\n  <thead>\n    <tr style=\"text-align: right;\">\n      <th></th>\n      <th>id</th>\n      <th>era</th>\n      <th>data_type</th>\n      <th>feature_intelligence1</th>\n      <th>feature_intelligence2</th>\n      <th>feature_intelligence3</th>\n      <th>feature_intelligence4</th>\n      <th>feature_intelligence5</th>\n      <th>feature_intelligence6</th>\n      <th>feature_intelligence7</th>\n      <th>...</th>\n      <th>feature_wisdom38</th>\n      <th>feature_wisdom39</th>\n      <th>feature_wisdom40</th>\n      <th>feature_wisdom41</th>\n      <th>feature_wisdom42</th>\n      <th>feature_wisdom43</th>\n      <th>feature_wisdom44</th>\n      <th>feature_wisdom45</th>\n      <th>feature_wisdom46</th>\n      <th>target</th>\n    </tr>\n  </thead>\n  <tbody>\n    <tr>\n      <th>0</th>\n      <td>n0003aa52cab36c2</td>\n      <td>era121</td>\n      <td>validation</td>\n      <td>0.25</td>\n      <td>0.75</td>\n      <td>0.50</td>\n      <td>0.5</td>\n      <td>0.0</td>\n      <td>0.75</td>\n      <td>0.5</td>\n      <td>...</td>\n      <td>0.75</td>\n      <td>0.75</td>\n      <td>1.00</td>\n      <td>0.75</td>\n      <td>0.50</td>\n      <td>0.5</td>\n      <td>1.0</td>\n      <td>0.0</td>\n      <td>0.0</td>\n      <td>0.25</td>\n    </tr>\n    <tr>\n      <th>1</th>\n      <td>n000920ed083903f</td>\n      <td>era121</td>\n      <td>validation</td>\n      <td>0.75</td>\n      <td>0.50</td>\n      <td>0.75</td>\n      <td>1.0</td>\n      <td>0.5</td>\n      <td>0.00</td>\n      <td>0.0</td>\n      <td>...</td>\n      <td>0.50</td>\n      <td>0.50</td>\n      <td>0.75</td>\n      <td>1.00</td>\n      <td>0.75</td>\n      <td>0.5</td>\n      <td>0.5</td>\n      <td>0.5</td>\n      <td>0.5</td>\n      <td>0.50</td>\n    </tr>\n    <tr>\n      <th>2</th>\n      <td>n0038e640522c4a6</td>\n      <td>era121</td>\n      <td>validation</td>\n      <td>1.00</td>\n      <td>0.00</td>\n      <td>0.00</td>\n      <td>1.0</td>\n      <td>1.0</td>\n      <td>1.00</td>\n      <td>1.0</td>\n      <td>...</td>\n      <td>0.00</td>\n      <td>0.00</td>\n      <td>0.50</td>\n      <td>0.25</td>\n      <td>0.00</td>\n      <td>0.0</td>\n      <td>0.5</td>\n      <td>0.5</td>\n      <td>0.0</td>\n      <td>1.00</td>\n    </tr>\n  </tbody>\n</table>\n<p>3 rows × 314 columns</p>\n</div>",
      "text/plain": "                 id     era   data_type  feature_intelligence1  \\\n0  n0003aa52cab36c2  era121  validation                   0.25   \n1  n000920ed083903f  era121  validation                   0.75   \n2  n0038e640522c4a6  era121  validation                   1.00   \n\n   feature_intelligence2  feature_intelligence3  feature_intelligence4  \\\n0                   0.75                   0.50                    0.5   \n1                   0.50                   0.75                    1.0   \n2                   0.00                   0.00                    1.0   \n\n   feature_intelligence5  feature_intelligence6  feature_intelligence7  ...  \\\n0                    0.0                   0.75                    0.5  ...   \n1                    0.5                   0.00                    0.0  ...   \n2                    1.0                   1.00                    1.0  ...   \n\n   feature_wisdom38  feature_wisdom39  feature_wisdom40  feature_wisdom41  \\\n0              0.75              0.75              1.00              0.75   \n1              0.50              0.50              0.75              1.00   \n2              0.00              0.00              0.50              0.25   \n\n   feature_wisdom42  feature_wisdom43  feature_wisdom44  feature_wisdom45  \\\n0              0.50               0.5               1.0               0.0   \n1              0.75               0.5               0.5               0.5   \n2              0.00               0.0               0.5               0.5   \n\n   feature_wisdom46  target  \n0               0.0    0.25  \n1               0.5    0.50  \n2               0.0    1.00  \n\n[3 rows x 314 columns]"
     },
     "execution_count": 9,
     "metadata": {},
     "output_type": "execute_result"
    }
   ],
   "source": [
    "df.head(3)# interestingly this takes a non trival amount of time. "
   ]
  },
  {
   "cell_type": "code",
   "execution_count": 10,
   "metadata": {},
   "outputs": [
    {
     "name": "stdout",
     "output_type": "stream",
     "text": [
      "{'validation', 'test', 'live'}\n"
     ]
    }
   ],
   "source": [
    "eras_labeled = df[['era','data_type']] # the data type column only contains the string 'train'\r\n",
    "data_types = eras_labeled['data_type']\r\n",
    "n = data_types.to_numpy()\r\n",
    "n = list(n)\r\n",
    "n = print(set(n))"
   ]
  },
  {
   "cell_type": "code",
   "execution_count": 11,
   "metadata": {},
   "outputs": [
    {
     "data": {
      "text/plain": "id                       0\nera                      0\ndata_type                0\nfeature_intelligence1    0\nfeature_intelligence2    0\n                        ..\nfeature_wisdom43         0\nfeature_wisdom44         0\nfeature_wisdom45         0\nfeature_wisdom46         0\ntarget                   0\nLength: 314, dtype: int64"
     },
     "execution_count": 11,
     "metadata": {},
     "output_type": "execute_result"
    }
   ],
   "source": [
    "df[df['era']=='era120'].count()"
   ]
  },
  {
   "cell_type": "markdown",
   "metadata": {},
   "source": [
    "### Notes:\r\n",
    "1. The payout function is payout = stake_value * payout_factor * (corr * corr_multiplier + mmc * mmc_multiplier)\r\n",
    "\r\n",
    "Where stake value is a base amount of NMR. Payout factor is 1. It approaches 0 when you start staking 300k NMR. For your purposes, the payout factor is 1.\r\n",
    "\r\n",
    "corr_multiplier is always 1.\r\n",
    "\r\n",
    "MMC multiplyer is your choice of one of these options: 0.0x, 0.5x, 1.0x, 2.0x\r\n",
    "\r\n",
    "\r\n",
    "You get a daily update on your payout \"These daily payouts are also just updates and only the final payout of a round counts\" but are only actually paid once per week.\r\n",
    "\r\n",
    "So this is what the payout really looks like: \r\n",
    "\r\n",
    "    You are only actaully paid and scored over 4 weeks.\r\n",
    "#Payout(Round_N) = For Day in Range(0,20)\r\n",
    "\r\n",
    "Compute_today_payout = stake_value(This is a constant for 4 weeks.) * corr + mmc*(0 or 2) (most people that are profitable make money on MMCx2)\r\n",
    "\r\n",
    "\r\n",
    "corr_list = an arry of floats bounded between -.1 an 1 (). You are paid = the sum of stake_value*CORR[i] for i in corr_list. \r\n",
    "\r\n",
    "What you reall have is overlapping 4 week ROIs Lets simulate this in numpy\r\n",
    "\r\n",
    "\r\n",
    "    So far it is unclear what distribtuion corr_list typically follows. My guess is it decreases over time. or is normal or depends on the algo you use. \r\n",
    "\r\n",
    "    I might be able to cluster algos by the distribtuion type of their corr scores. \r\n",
    "\r\n",
    "\r\n",
    "Pre(rou)\r\n",
    "\r\n",
    "2. \"When you decrease your stake, NMR is transferred from the staking contract back into your wallet after a ~4 week delay.\" -https://docs.numer.ai/tournament/learn \r\n",
    " They make you wait 4 weeks to get your NMR out. This (might) makes you less likly to pull money in and out as NMR to USD changes.\r\n",
    "    I don't know what it would look like to set up automatic payments for this system. It would need to be profitable in the long term to pay for itself. You cannot take today's payout and use it to buy time on the cloud."
   ]
  },
  {
   "cell_type": "markdown",
   "metadata": {},
   "source": [
    "## Types of analysis\r\n",
    "\r\n",
    "1. One thing you can do is train on a subset of the eras and test on the other. \r\n",
    "2. You should find an algorithmic way to determine the stdev between your normalized(predictions)= target(normalized) predictions. this corrosponds to the 'Validation SD' entry in the diagnositics.  \r\n",
    "3.\r\n"
   ]
  },
  {
   "cell_type": "markdown",
   "metadata": {},
   "source": [
    "## Simple ROI Projectinos with numpy and matplot lib\r\n",
    "\r\n",
    "monte carlo simulation\r\n",
    "\r\n",
    "1. Assumptions. ignore MMC. Multiplyer = 0.0\r\n",
    "2. Play with different corr distibutions. distribtuions.\r\n",
    "\r\n",
    "3. Simulate this 10k times and look at the freqency distribtuion.\r\n",
    "4. Put this notebook on the forum.\r\n",
    "\r\n",
    "\r\n"
   ]
  },
  {
   "cell_type": "code",
   "execution_count": 12,
   "metadata": {},
   "outputs": [],
   "source": [
    "import matplotlib.pyplot as plt\r\n",
    "import numpy as np"
   ]
  },
  {
   "cell_type": "code",
   "execution_count": 13,
   "metadata": {},
   "outputs": [
    {
     "name": "stdout",
     "output_type": "stream",
     "text": [
      " Assuming mean corr of 0.02 and std_dev corr 0.02, and a stake value 100: Your payout is 60.216576634897386\n"
     ]
    }
   ],
   "source": [
    "CORR_MEAN =.02\r\n",
    "CORR_STDDEV = .02 # sharpe ratio of 1.\r\n",
    "STAKE_VALUE =100 # Arbritary stake value\r\n",
    "\r\n",
    "# A array of floats representing your 20 round corr scores assuming a normal distribution\r\n",
    "sample_scores_normal = np.random.normal(loc=CORR_MEAN,scale=CORR_STDDEV,size=(1,20))\r\n",
    "payouts = [score * STAKE_VALUE for score in sample_scores_normal]\r\n",
    "total_payout = np.sum(payouts)\r\n",
    "\r\n",
    "print(f' Assuming mean corr of {CORR_MEAN} and std_dev corr {CORR_STDDEV}, and a stake value {STAKE_VALUE}: Your payout is {total_payout}')\r\n",
    "\r\n"
   ]
  },
  {
   "cell_type": "code",
   "execution_count": 14,
   "metadata": {},
   "outputs": [],
   "source": [
    "def compute_payout_normal(mean,std_dev,stake):\r\n",
    "    \"\"\"\r\n",
    "    Assuming a normal distribution, MMC multiplier of 0 this computes your payout after 20 rounds. \r\n",
    "    \"\"\"\r\n",
    "    scores = np.random.normal(loc=mean,scale=std_dev,size=(1,20))\r\n",
    "    payouts = [score * stake for score in scores]\r\n",
    "    total_payout = np.sum(payouts)\r\n",
    "    return total_payout"
   ]
  },
  {
   "cell_type": "markdown",
   "metadata": {},
   "source": [
    "## Monte Carlo Payouts over 20 days"
   ]
  },
  {
   "cell_type": "code",
   "execution_count": 15,
   "metadata": {},
   "outputs": [],
   "source": [
    "def monte_carlo_normal_payouts(num_simulations, mean, std_dev, stake):\r\n",
    "    total_payouts = [compute_payout_normal(mean,std_dev,stake) for i in range(num_simulations)]\r\n",
    "    return total_payouts"
   ]
  },
  {
   "cell_type": "code",
   "execution_count": 16,
   "metadata": {},
   "outputs": [
    {
     "name": "stdout",
     "output_type": "stream",
     "text": [
      "0.502 of simulations Had a payout greater than 0\n",
      "average outcome of simulation 0.057712772275195154\n"
     ]
    },
    {
     "data": {
      "image/png": "[encoded data removed]",
      "text/plain": "<Figure size 432x288 with 1 Axes>"
     },
     "metadata": {
      "needs_background": "light"
     },
     "output_type": "display_data"
    }
   ],
   "source": [
    "outcomes = monte_carlo_normal_payouts(10000,.00,.02,100)\r\n",
    "plt.hist(outcomes)\r\n",
    "percent_net_positive = len(list(filter(lambda x: x >0, outcomes)))/len(outcomes)\r\n",
    "print(f'{percent_net_positive} of simulations Had a payout greater than 0')\r\n",
    "average_outcome = np.average(outcomes)\r\n",
    "print(f'average outcome of simulation {average_outcome}')"
   ]
  }
 ],
 "metadata": {
  "kernelspec": {
   "display_name": "Python 3.9.2 64-bit",
   "metadata": {
    "interpreter": {
     "hash": "6f6d64a7ba9cd062c59eea959ce2d8fc2832d4e9d0b0a9d5e546a142dd474f01"
    }
   },
   "name": "python3"
  },
  "language_info": {
   "codemirror_mode": {
    "name": "ipython",
    "version": 3
   },
   "file_extension": ".py",
   "mimetype": "text/x-python",
   "name": "python",
   "nbconvert_exporter": "python",
   "pygments_lexer": "ipython3",
   "version": "3.9.2"
  },
  "orig_nbformat": 2
 },
 "nbformat": 4,
 "nbformat_minor": 2
}