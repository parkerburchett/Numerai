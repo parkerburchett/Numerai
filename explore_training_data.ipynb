{
 "cells": [
  {
   "cell_type": "code",
   "execution_count": 1,
   "metadata": {},
   "outputs": [],
   "source": [
    "import pandas as pd\r\n",
    "df['readid'].head()"
   ]
  },
  {
   "cell_type": "code",
   "execution_count": 14,
   "metadata": {},
   "outputs": [],
   "source": [
    "def load_training_data():\r\n",
    "    df = pd.read_csv('numerai_training_data.csv')\r\n",
    "    return df\r\n",
    "    "
   ]
  },
  {
   "cell_type": "code",
   "execution_count": 15,
   "metadata": {},
   "outputs": [],
   "source": [
    "def load_ticker_data():\r\n",
    "    tickers = pd.read_csv('latest.csv')\r\n",
    "    return tickers"
   ]
  },
  {
   "cell_type": "code",
   "execution_count": 3,
   "metadata": {},
   "outputs": [],
   "source": [
    "df = load_training_data()"
   ]
  },
  {
   "cell_type": "code",
   "execution_count": 4,
   "metadata": {},
   "outputs": [
    {
     "data": {
      "text/plain": "Index(['readid', 'era', 'data_type', 'feature_intelligence1',\n       'feature_intelligence2', 'feature_intelligence3',\n       'feature_intelligence4', 'feature_intelligence5',\n       'feature_intelligence6', 'feature_intelligence7',\n       ...\n       'feature_wisdom38', 'feature_wisdom39', 'feature_wisdom40',\n       'feature_wisdom41', 'feature_wisdom42', 'feature_wisdom43',\n       'feature_wisdom44', 'feature_wisdom45', 'feature_wisdom46', 'target'],\n      dtype='object', length=314)"
     },
     "execution_count": 4,
     "metadata": {},
     "output_type": "execute_result"
    }
   ],
   "source": [
    "df.columns"
   ]
  },
  {
   "cell_type": "code",
   "execution_count": 8,
   "metadata": {},
   "outputs": [
    {
     "data": {
      "text/plain": "501808"
     },
     "execution_count": 8,
     "metadata": {},
     "output_type": "execute_result"
    }
   ],
   "source": [
    "len(df['readid'].unique())\r\n"
   ]
  },
  {
   "cell_type": "markdown",
   "metadata": {},
   "source": [
    "## There are 501808 unique ids in the training data.\r\n",
    "\r\n",
    "This means that they do not uniquely refer to a stock. You cannot take the id and use it to determine what stock it is. "
   ]
  },
  {
   "cell_type": "code",
   "execution_count": null,
   "metadata": {},
   "outputs": [],
   "source": []
  },
  {
   "cell_type": "markdown",
   "metadata": {},
   "source": [
    "## Numerai Signals \r\n",
    "\r\n",
    "- Dont work on this. Just focus on the base numerAI Trournament"
   ]
  },
  {
   "cell_type": "code",
   "execution_count": 16,
   "metadata": {},
   "outputs": [],
   "source": [
    "tickers = load_ticker_data()"
   ]
  },
  {
   "cell_type": "code",
   "execution_count": 20,
   "metadata": {},
   "outputs": [
    {
     "data": {
      "text/plain": "0    SVW AU\n1    GEM AU\n2    VOC AU\n3    AZJ AU\n4    MLD AU\nName: bloomberg_ticker, dtype: object"
     },
     "execution_count": 20,
     "metadata": {},
     "output_type": "execute_result"
    }
   ],
   "source": [
    "tickers['bloomberg_ticker'].head()"
   ]
  },
  {
   "cell_type": "code",
   "execution_count": null,
   "metadata": {},
   "outputs": [
    {
     "name": "stdout",
     "output_type": "stream",
     "text": [
      "There are currently 5433 in the signals universe\n"
     ]
    }
   ],
   "source": [
    "num_tickers = len(tickers['bloomberg_ticker'].unique())\r\n",
    "print(f'There are currently {num_tickers} in the signals universe')"
   ]
  }
 ],
 "metadata": {
  "kernelspec": {
   "display_name": "Python 3.9.2 64-bit",
   "metadata": {
    "interpreter": {
     "hash": "6f6d64a7ba9cd062c59eea959ce2d8fc2832d4e9d0b0a9d5e546a142dd474f01"
    }
   },
   "name": "python3"
  },
  "language_info": {
   "codemirror_mode": {
    "name": "ipython",
    "version": 3
   },
   "file_extension": ".py",
   "mimetype": "text/x-python",
   "name": "python",
   "nbconvert_exporter": "python",
   "pygments_lexer": "ipython3",
   "version": "3.9.2"
  },
  "orig_nbformat": 2
 },
 "nbformat": 4,
 "nbformat_minor": 2
}