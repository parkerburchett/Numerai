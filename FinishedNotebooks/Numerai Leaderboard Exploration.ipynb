{
  "nbformat": 4,
  "nbformat_minor": 0,
  "metadata": {
    "kernelspec": {
      "display_name": "Python 3.9.2 64-bit",
      "metadata": {
        "interpreter": {
          "hash": "6f6d64a7ba9cd062c59eea959ce2d8fc2832d4e9d0b0a9d5e546a142dd474f01"
        }
      },
      "name": "python3"
    },
    "language_info": {
      "codemirror_mode": {
        "name": "ipython",
        "version": 3
      },
      "file_extension": ".py",
      "mimetype": "text/x-python",
      "name": "python",
      "nbconvert_exporter": "python",
      "pygments_lexer": "ipython3",
      "version": "3.9.2"
    },
    "orig_nbformat": 2,
    "colab": {
      "name": "Numerai Leaderboard Viz and Analysis.ipynb",
      "provenance": [],
      "collapsed_sections": []
    }
  },
  "cells": [
    {
      "cell_type": "markdown",
      "metadata": {
        "id": "ZHvYZnyxJI0e"
      },
      "source": [
        "# Data Viz and Analysis on the LeaderBoard\n",
        " \n",
        "I'm Parker Burchett (MrQuantsALot) and created this notebook to figure out if participating in this tournament is the type of challenge I had a reasonable shot at being successful at. \n",
        " \n",
        "The beautiful thing about blockchain is that since everything is public and anonymous you can just look at the data to get a real answer. After spending a few days writing this, I am pretty sure that I have a reasonable chance and creating a profitable model.\n",
        " \n",
        "I looked at the characteristics and distribution of successful users. \n",
        " \n",
        "If you have any feedback or suggestions please let me know on the forum. I am still a novice at this kind of analysis and I am sure there are things that I missed or misinterpreted. In particular, I don't know why there is a negative coefficient on the FNC -> 3M_returns OLS regression. \n",
        " \n",
        "This notebook does the following when you run it:\n",
        " \n",
        "1. Query the [Numerai Leaderboard](https://numer.ai/tournament) and cast it as a Pandas Dataframe.\n",
        "2. Visualize the relationship between the stake size, performance metrics and returns. \n",
        "3. OLS Regression on returns.  \n",
        " \n",
        "All of the methods are written such that you can change the dependent and independent variables. I included the visualizations I thought were interesting but you can check out the other variables yourself. The numbers will change as the leaderboard updates. \n",
        " "
      ]
    },
    {
      "cell_type": "code",
      "metadata": {
        "colab": {
          "base_uri": "https://localhost:8080/"
        },
        "id": "91R8_MmYJI0j",
        "outputId": "6884c777-a90b-415d-98fb-b7c8e231da09"
      },
      "source": [
        "!pip install numpy\n",
        "!pip install pandas \n",
        "!pip install json \n",
        "!pip install requests \n",
        "!pip install matplotlib\n",
        "!pip install statsmodels \n",
        "%matplotlib inline"
      ],
      "execution_count": null,
      "outputs": [
        {
          "output_type": "stream",
          "text": [
            "Requirement already satisfied: numpy in /usr/local/lib/python3.7/dist-packages (1.19.5)\n",
            "Requirement already satisfied: pandas in /usr/local/lib/python3.7/dist-packages (1.1.5)\n",
            "Requirement already satisfied: numpy>=1.15.4 in /usr/local/lib/python3.7/dist-packages (from pandas) (1.19.5)\n",
            "Requirement already satisfied: pytz>=2017.2 in /usr/local/lib/python3.7/dist-packages (from pandas) (2018.9)\n",
            "Requirement already satisfied: python-dateutil>=2.7.3 in /usr/local/lib/python3.7/dist-packages (from pandas) (2.8.1)\n",
            "Requirement already satisfied: six>=1.5 in /usr/local/lib/python3.7/dist-packages (from python-dateutil>=2.7.3->pandas) (1.15.0)\n",
            "\u001b[31mERROR: Could not find a version that satisfies the requirement json (from versions: none)\u001b[0m\n",
            "\u001b[31mERROR: No matching distribution found for json\u001b[0m\n",
            "Requirement already satisfied: requests in /usr/local/lib/python3.7/dist-packages (2.23.0)\n",
            "Requirement already satisfied: idna<3,>=2.5 in /usr/local/lib/python3.7/dist-packages (from requests) (2.10)\n",
            "Requirement already satisfied: urllib3!=1.25.0,!=1.25.1,<1.26,>=1.21.1 in /usr/local/lib/python3.7/dist-packages (from requests) (1.24.3)\n",
            "Requirement already satisfied: chardet<4,>=3.0.2 in /usr/local/lib/python3.7/dist-packages (from requests) (3.0.4)\n",
            "Requirement already satisfied: certifi>=2017.4.17 in /usr/local/lib/python3.7/dist-packages (from requests) (2020.12.5)\n",
            "Requirement already satisfied: matplotlib in /usr/local/lib/python3.7/dist-packages (3.2.2)\n",
            "Requirement already satisfied: cycler>=0.10 in /usr/local/lib/python3.7/dist-packages (from matplotlib) (0.10.0)\n",
            "Requirement already satisfied: python-dateutil>=2.1 in /usr/local/lib/python3.7/dist-packages (from matplotlib) (2.8.1)\n",
            "Requirement already satisfied: pyparsing!=2.0.4,!=2.1.2,!=2.1.6,>=2.0.1 in /usr/local/lib/python3.7/dist-packages (from matplotlib) (2.4.7)\n",
            "Requirement already satisfied: numpy>=1.11 in /usr/local/lib/python3.7/dist-packages (from matplotlib) (1.19.5)\n",
            "Requirement already satisfied: kiwisolver>=1.0.1 in /usr/local/lib/python3.7/dist-packages (from matplotlib) (1.3.1)\n",
            "Requirement already satisfied: six in /usr/local/lib/python3.7/dist-packages (from cycler>=0.10->matplotlib) (1.15.0)\n",
            "Requirement already satisfied: statsmodels in /usr/local/lib/python3.7/dist-packages (0.10.2)\n",
            "Requirement already satisfied: pandas>=0.19 in /usr/local/lib/python3.7/dist-packages (from statsmodels) (1.1.5)\n",
            "Requirement already satisfied: scipy>=0.18 in /usr/local/lib/python3.7/dist-packages (from statsmodels) (1.4.1)\n",
            "Requirement already satisfied: patsy>=0.4.0 in /usr/local/lib/python3.7/dist-packages (from statsmodels) (0.5.1)\n",
            "Requirement already satisfied: numpy>=1.11 in /usr/local/lib/python3.7/dist-packages (from statsmodels) (1.19.5)\n",
            "Requirement already satisfied: python-dateutil>=2.7.3 in /usr/local/lib/python3.7/dist-packages (from pandas>=0.19->statsmodels) (2.8.1)\n",
            "Requirement already satisfied: pytz>=2017.2 in /usr/local/lib/python3.7/dist-packages (from pandas>=0.19->statsmodels) (2018.9)\n",
            "Requirement already satisfied: six in /usr/local/lib/python3.7/dist-packages (from patsy>=0.4.0->statsmodels) (1.15.0)\n"
          ],
          "name": "stdout"
        }
      ]
    },
    {
      "cell_type": "markdown",
      "metadata": {
        "id": "yEkjLsiNJI0k"
      },
      "source": [
        "# Import packages"
      ]
    },
    {
      "cell_type": "code",
      "metadata": {
        "colab": {
          "base_uri": "https://localhost:8080/"
        },
        "id": "qfsG0OP_JI0l",
        "outputId": "0d4f8c1d-6697-4ce8-e06e-9943d7ac4400"
      },
      "source": [
        "import requests\n",
        "import json\n",
        "import numpy as np\n",
        "import pandas as pd\n",
        "import matplotlib.pyplot as plt\n",
        "import statsmodels.api as sm"
      ],
      "execution_count": null,
      "outputs": [
        {
          "output_type": "stream",
          "text": [
            "/usr/local/lib/python3.7/dist-packages/statsmodels/tools/_testing.py:19: FutureWarning: pandas.util.testing is deprecated. Use the functions in the public API at pandas.testing instead.\n",
            "  import pandas.util.testing as tm\n"
          ],
          "name": "stderr"
        }
      ]
    },
    {
      "cell_type": "markdown",
      "metadata": {
        "id": "dVB5N4WCJI0l"
      },
      "source": [
        "# Ping the Leaderboard"
      ]
    },
    {
      "cell_type": "code",
      "metadata": {
        "colab": {
          "base_uri": "https://localhost:8080/",
          "height": 529
        },
        "id": "9B2J2dshJI0l",
        "outputId": "5c7c5a72-7dc4-4bb8-df15-d3da1b09c47f"
      },
      "source": [
        "def get_leaderboard() -> pd.DataFrame:\n",
        "    \"\"\"\n",
        "        Ping the Numerai leaderboard and return a Pandas DataFrame of the contents.\n",
        "    \"\"\"\n",
        "    url = 'https://api-tournament.numer.ai/'\n",
        "    # this is a Graphql query, that lets me get exactly and only the data I want. \n",
        "    query = \"\"\"{ \n",
        "    v2Leaderboard {\n",
        "        returns\n",
        "        corrRep\n",
        "        fncRep\n",
        "        mmcRep\n",
        "        username\n",
        "        nmrStaked\n",
        "        returns \n",
        "        return_52Weeks\n",
        "        return_13Weeks\n",
        "        rank\n",
        "        }  \n",
        "    }\"\"\"\n",
        "    r = requests.post(url=url, json={'query': query})\n",
        "    json_data = json.loads(r.text)\n",
        "    df_data = json_data['data']['v2Leaderboard']\n",
        "    df = pd.DataFrame(df_data)\n",
        "    df.convert_dtypes() # the auto casts the columns into what it thinks is the most appropriate \n",
        "    df['nmrStaked'] = pd.to_numeric(df['nmrStaked']) # for some reason nmrStaked does not get auto cast as a numaric\n",
        " \n",
        "    #Renaming the columns\n",
        "    df = df.rename(columns={'returns': '1D_returns', 'return_13Weeks': '3M_returns', 'return_52Weeks': '1Y_returns'})\n",
        "    return df\n",
        " \n",
        "df =  get_leaderboard()\n",
        "print(df.count())\n",
        "df.head(10)\n",
        " \n",
        " \n",
        "\n"
      ],
      "execution_count": null,
      "outputs": [
        {
          "output_type": "stream",
          "text": [
            "corrRep       6767\n",
            "fncRep        6767\n",
            "mmcRep        6767\n",
            "nmrStaked     6767\n",
            "rank          6767\n",
            "3M_returns    2190\n",
            "1Y_returns     451\n",
            "1D_returns    3125\n",
            "username      6767\n",
            "dtype: int64\n"
          ],
          "name": "stdout"
        },
        {
          "output_type": "execute_result",
          "data": {
            "text/html": [
              "<div>\n",
              "<style scoped>\n",
              "    .dataframe tbody tr th:only-of-type {\n",
              "        vertical-align: middle;\n",
              "    }\n",
              "\n",
              "    .dataframe tbody tr th {\n",
              "        vertical-align: top;\n",
              "    }\n",
              "\n",
              "    .dataframe thead th {\n",
              "        text-align: right;\n",
              "    }\n",
              "</style>\n",
              "<table border=\"1\" class=\"dataframe\">\n",
              "  <thead>\n",
              "    <tr style=\"text-align: right;\">\n",
              "      <th></th>\n",
              "      <th>corrRep</th>\n",
              "      <th>fncRep</th>\n",
              "      <th>mmcRep</th>\n",
              "      <th>nmrStaked</th>\n",
              "      <th>rank</th>\n",
              "      <th>3M_returns</th>\n",
              "      <th>1Y_returns</th>\n",
              "      <th>1D_returns</th>\n",
              "      <th>username</th>\n",
              "    </tr>\n",
              "  </thead>\n",
              "  <tbody>\n",
              "    <tr>\n",
              "      <th>0</th>\n",
              "      <td>0.073010</td>\n",
              "      <td>0.004181</td>\n",
              "      <td>0.033131</td>\n",
              "      <td>1821.978775</td>\n",
              "      <td>1</td>\n",
              "      <td>274.135072</td>\n",
              "      <td>768.836271</td>\n",
              "      <td>6.683120</td>\n",
              "      <td>benben11</td>\n",
              "    </tr>\n",
              "    <tr>\n",
              "      <th>1</th>\n",
              "      <td>0.069420</td>\n",
              "      <td>0.010270</td>\n",
              "      <td>0.026832</td>\n",
              "      <td>193.929400</td>\n",
              "      <td>2</td>\n",
              "      <td>164.618534</td>\n",
              "      <td>NaN</td>\n",
              "      <td>9.276620</td>\n",
              "      <td>bor0</td>\n",
              "    </tr>\n",
              "    <tr>\n",
              "      <th>2</th>\n",
              "      <td>0.068291</td>\n",
              "      <td>0.007041</td>\n",
              "      <td>0.028571</td>\n",
              "      <td>14.477123</td>\n",
              "      <td>3</td>\n",
              "      <td>190.417717</td>\n",
              "      <td>NaN</td>\n",
              "      <td>8.509819</td>\n",
              "      <td>uuazed6</td>\n",
              "    </tr>\n",
              "    <tr>\n",
              "      <th>3</th>\n",
              "      <td>0.068280</td>\n",
              "      <td>0.000958</td>\n",
              "      <td>0.028858</td>\n",
              "      <td>1290.577938</td>\n",
              "      <td>4</td>\n",
              "      <td>217.600857</td>\n",
              "      <td>NaN</td>\n",
              "      <td>0.253479</td>\n",
              "      <td>quantyquant</td>\n",
              "    </tr>\n",
              "    <tr>\n",
              "      <th>4</th>\n",
              "      <td>0.067568</td>\n",
              "      <td>0.007645</td>\n",
              "      <td>0.027410</td>\n",
              "      <td>44.000000</td>\n",
              "      <td>5</td>\n",
              "      <td>NaN</td>\n",
              "      <td>NaN</td>\n",
              "      <td>1.995079</td>\n",
              "      <td>uuazed4</td>\n",
              "    </tr>\n",
              "    <tr>\n",
              "      <th>5</th>\n",
              "      <td>0.067071</td>\n",
              "      <td>0.005187</td>\n",
              "      <td>0.022759</td>\n",
              "      <td>0.000000</td>\n",
              "      <td>6</td>\n",
              "      <td>NaN</td>\n",
              "      <td>NaN</td>\n",
              "      <td>NaN</td>\n",
              "      <td>anna13</td>\n",
              "    </tr>\n",
              "    <tr>\n",
              "      <th>6</th>\n",
              "      <td>0.066584</td>\n",
              "      <td>0.013438</td>\n",
              "      <td>0.032344</td>\n",
              "      <td>20.607393</td>\n",
              "      <td>7</td>\n",
              "      <td>133.572613</td>\n",
              "      <td>NaN</td>\n",
              "      <td>3.992128</td>\n",
              "      <td>nescience</td>\n",
              "    </tr>\n",
              "    <tr>\n",
              "      <th>7</th>\n",
              "      <td>0.066270</td>\n",
              "      <td>0.006163</td>\n",
              "      <td>0.026997</td>\n",
              "      <td>21.459806</td>\n",
              "      <td>8</td>\n",
              "      <td>233.055204</td>\n",
              "      <td>NaN</td>\n",
              "      <td>10.891980</td>\n",
              "      <td>uuazed5</td>\n",
              "    </tr>\n",
              "    <tr>\n",
              "      <th>8</th>\n",
              "      <td>0.066228</td>\n",
              "      <td>0.012717</td>\n",
              "      <td>0.026178</td>\n",
              "      <td>135.584920</td>\n",
              "      <td>9</td>\n",
              "      <td>141.068825</td>\n",
              "      <td>NaN</td>\n",
              "      <td>4.804706</td>\n",
              "      <td>mdl3</td>\n",
              "    </tr>\n",
              "    <tr>\n",
              "      <th>9</th>\n",
              "      <td>0.065911</td>\n",
              "      <td>0.011673</td>\n",
              "      <td>0.020902</td>\n",
              "      <td>29.541579</td>\n",
              "      <td>10</td>\n",
              "      <td>NaN</td>\n",
              "      <td>NaN</td>\n",
              "      <td>6.124613</td>\n",
              "      <td>uuazed12</td>\n",
              "    </tr>\n",
              "  </tbody>\n",
              "</table>\n",
              "</div>"
            ],
            "text/plain": [
              "    corrRep    fncRep    mmcRep  ...  1Y_returns  1D_returns     username\n",
              "0  0.073010  0.004181  0.033131  ...  768.836271    6.683120     benben11\n",
              "1  0.069420  0.010270  0.026832  ...         NaN    9.276620         bor0\n",
              "2  0.068291  0.007041  0.028571  ...         NaN    8.509819      uuazed6\n",
              "3  0.068280  0.000958  0.028858  ...         NaN    0.253479  quantyquant\n",
              "4  0.067568  0.007645  0.027410  ...         NaN    1.995079      uuazed4\n",
              "5  0.067071  0.005187  0.022759  ...         NaN         NaN       anna13\n",
              "6  0.066584  0.013438  0.032344  ...         NaN    3.992128    nescience\n",
              "7  0.066270  0.006163  0.026997  ...         NaN   10.891980      uuazed5\n",
              "8  0.066228  0.012717  0.026178  ...         NaN    4.804706         mdl3\n",
              "9  0.065911  0.011673  0.020902  ...         NaN    6.124613     uuazed12\n",
              "\n",
              "[10 rows x 9 columns]"
            ]
          },
          "metadata": {
            "tags": []
          },
          "execution_count": 3
        }
      ]
    },
    {
      "cell_type": "markdown",
      "metadata": {
        "id": "9cwY5NvbJI0m"
      },
      "source": [
        "# Methods to create plots\n",
        "\n",
        "### Each method has the optional param min_stake. Use it to exclude low stake  users. \n"
      ]
    },
    {
      "cell_type": "code",
      "metadata": {
        "id": "fogT8w9bJI0m"
      },
      "source": [
        "def create_histogram(df, col='corrRep', bins=50, min_stake=0, max_stake=1000000):\n",
        "    x = df[((df[col].notnull()) & (df['nmrStaked'] > min_stake)) & (df['nmrStaked'] < max_stake)][col]\n",
        "    plt.hist(x, bins, label=f'{col} when nmrStaked>{min_stake}', alpha=.5)\n",
        "    plt.xlabel(col)\n",
        "    plt.ylabel('Count')\n",
        "    num_elements = x.count()    \n",
        "    return plt\n",
        " \n",
        "def create_scatter_plot(df, x_name='corrRep', y_name='fncRep', min_stake=0, max_stake=1000000):\n",
        " \n",
        "    # these are ugly one liners if you are unfamiliar with pandas.\n",
        "    # They select a subset of the Dataframe df based on compound booleans. Think of them as SELECT x_name WHERE bool1, bool2... if you were writing SQL\n",
        "    # (df[x_name].notnull()) get rows when x_name is not null\n",
        "    # df['nmrStaked'] > min_stake) get rows where the stake is greater than the min_stake\n",
        "    # df['nmrStaked'] < max_stake) get rows where the stake is less than the max stake\n",
        "    # [x_name] says only give me the column with name x_name\n",
        "    x = df[((df[x_name].notnull()) & (df['nmrStaked'] > min_stake)) & (df['nmrStaked'] < max_stake)][x_name]\n",
        "    y = df[((df[y_name].notnull()) & (df['nmrStaked'] > min_stake)) & (df['nmrStaked'] < max_stake)][y_name]\n",
        "    plt.scatter(x, y, s=.5)\n",
        "    plt.xlabel(x_name)\n",
        "    plt.ylabel(y_name)\n",
        "    num_elements = x.count()\n",
        "    plt.title(\n",
        "        f'{y_name} v {x_name} when nmrStaked>{min_stake}\\n Number of Elements:{num_elements}'\n",
        "    )\n",
        "    return plt\n",
        " \n",
        "plt.rcParams[\"figure.figsize\"] = (6,6) # changes the default size of the graphs"
      ],
      "execution_count": null,
      "outputs": []
    },
    {
      "cell_type": "markdown",
      "metadata": {
        "id": "aUDMZ5NAJI0m"
      },
      "source": [
        "## Histogram of 3 Month Returns by Stake Size"
      ]
    },
    {
      "cell_type": "code",
      "metadata": {
        "colab": {
          "base_uri": "https://localhost:8080/",
          "height": 405
        },
        "id": "DYig9JYAJI0n",
        "outputId": "4d36329e-7c75-432e-8b7c-1ba64a1f7428"
      },
      "source": [
        "col = '3M_returns' # change this to be '1D_returns' or '1Y_returns' or 'corrRep', 'fncRep' to see other distributions\n",
        "\n",
        "create_histogram(df,col=col, min_stake=0, max_stake=.1)\n",
        "create_histogram(df,col=col, min_stake=.1, max_stake=100)\n",
        "create_histogram(df, col=col,min_stake=100, max_stake=1000000)\n",
        "\n",
        "plt.legend(['0 to .1','.1 to 100','100+'])\n",
        "plt.title(f'Histogram of {col} by stake size')\n",
        "plt.show()"
      ],
      "execution_count": null,
      "outputs": [
        {
          "output_type": "display_data",
          "data": {
            "image/png": "[encoded data removed]",
            "text/plain": [
              "<Figure size 432x432 with 1 Axes>"
            ]
          },
          "metadata": {
            "tags": [],
            "needs_background": "light"
          }
        }
      ]
    },
    {
      "cell_type": "markdown",
      "metadata": {
        "id": "T_y0X5_1JI0n"
      },
      "source": [
        "## Histogram of 3 Month returns excluding where stake is < .1\n",
        "\n",
        "### This excludes everyone that is only betting the free .01 NMR given out. Staking .1 NMR is only about $4 right now so it is not much of a cut off. You can change up these values is reduce who you are looking at. \n",
        "\n"
      ]
    },
    {
      "cell_type": "code",
      "metadata": {
        "colab": {
          "base_uri": "https://localhost:8080/",
          "height": 405
        },
        "id": "YjMZLmQTJI0n",
        "outputId": "0b278e24-be93-4ad8-b4d8-a1461bce7bb4"
      },
      "source": [
        "col = '3M_returns'\n",
        "\n",
        "create_histogram(df,col=col, min_stake=.1, max_stake=100)\n",
        "create_histogram(df, col=col,min_stake=100, max_stake=1000000)\n",
        "\n",
        "plt.legend(['.1 to 100','100+'])\n",
        "plt.title(f'{col} by stake size')\n",
        "plt.show()"
      ],
      "execution_count": null,
      "outputs": [
        {
          "output_type": "display_data",
          "data": {
            "image/png": "[encoded data removed]",
            "text/plain": [
              "<Figure size 432x432 with 1 Axes>"
            ]
          },
          "metadata": {
            "tags": [],
            "needs_background": "light"
          }
        }
      ]
    },
    {
      "cell_type": "markdown",
      "metadata": {
        "id": "_4M8PgwOJI0n"
      },
      "source": [
        "## Histogram of Corr by Stake Size\n",
        " \n",
        "- This forms a bimodal distribution at corrRep = -.1 and corrRep = ~+.025\n",
        "- I suspect the cluster at exactly corrRep =-.1 is because every score worse than that is recorded as -.1. This would prevent a savvy person from figuring the actual true predictions by submitting a whole bunch of different submissions and then comparing the Corr scores. I don’t know that for certain but it's the best explanation I can think of.\n"
      ]
    },
    {
      "cell_type": "code",
      "metadata": {
        "colab": {
          "base_uri": "https://localhost:8080/",
          "height": 404
        },
        "id": "L_fADMR6JI0o",
        "outputId": "c3bffa13-8c29-43e2-e3a6-7cd1013e72b9"
      },
      "source": [
        "col = 'corrRep'\n",
        "\n",
        "create_histogram(df,col=col, min_stake=0, max_stake=1)\n",
        "create_histogram(df,col=col, min_stake=1, max_stake=100)\n",
        "create_histogram(df, col=col,min_stake=100, max_stake=1000000)\n",
        "\n",
        "plt.legend(['.1 to 1','1 to 100','100+'])\n",
        "plt.title(\"Corr by stake size\")\n",
        "plt.show()"
      ],
      "execution_count": null,
      "outputs": [
        {
          "output_type": "display_data",
          "data": {
            "image/png": "[encoded data removed]",
            "text/plain": [
              "<Figure size 432x432 with 1 Axes>"
            ]
          },
          "metadata": {
            "tags": [],
            "needs_background": "light"
          }
        }
      ]
    },
    {
      "cell_type": "markdown",
      "metadata": {
        "id": "_QNr51P7JI0o"
      },
      "source": [
        "# Scatter Plots\n"
      ]
    },
    {
      "cell_type": "code",
      "metadata": {
        "colab": {
          "base_uri": "https://localhost:8080/",
          "height": 436
        },
        "id": "Ani1bn7cJI0o",
        "outputId": "21a88753-0ddb-402c-c8ba-bd75db3e26b9"
      },
      "source": [
        "create_scatter_plot(df, x_name='corrRep', y_name='nmrStaked')"
      ],
      "execution_count": null,
      "outputs": [
        {
          "output_type": "execute_result",
          "data": {
            "text/plain": [
              "<module 'matplotlib.pyplot' from '/usr/local/lib/python3.7/dist-packages/matplotlib/pyplot.py'>"
            ]
          },
          "metadata": {
            "tags": []
          },
          "execution_count": 8
        },
        {
          "output_type": "display_data",
          "data": {
            "image/png": "[encoded data removed]",
            "text/plain": [
              "<Figure size 432x432 with 1 Axes>"
            ]
          },
          "metadata": {
            "tags": [],
            "needs_background": "light"
          }
        }
      ]
    },
    {
      "cell_type": "markdown",
      "metadata": {
        "id": "0M2yMpzQJI0o"
      },
      "source": [
        "# Methods to for Ordinary Least Squares Regression\n",
        " \n",
        "## [Read about OLS on Wikipedia](https://en.wikipedia.org/wiki/Ordinary_least_squares)\n",
        "### I am primarily interested in the relationship between stake size and returns. From an economics perspective one would expect people to bet more money on models that have a higher correlation score. This would mean a positive correlation between stake size and returns. \n",
        " \n",
        "\n"
      ]
    },
    {
      "cell_type": "code",
      "metadata": {
        "id": "X5qMNXtlJI0o"
      },
      "source": [
        "def compute_single_regression(df,\n",
        "                              independent_variable='corrRep',\n",
        "                              dependent_variable='3M_returns',\n",
        "                              min_stake=0):\n",
        "\n",
        "    x = df[(df[dependent_variable].notnull())\n",
        "           & (df['nmrStaked'] > min_stake)][independent_variable]\n",
        "    y = df[(df[dependent_variable].notnull())\n",
        "           & (df['nmrStaked'] > min_stake)][dependent_variable]\n",
        "    model = sm.OLS(y, x)\n",
        "    results = model.fit()\n",
        "    return results\n",
        "\n",
        "\n",
        "def compute_multiple_regression(\n",
        "        df,\n",
        "        indepenent_variables=['corrRep', 'fncRep', 'mmcRep', 'nmrStaked'],\n",
        "        dependent_variable='3M_returns',\n",
        "        min_stake=0):\n",
        "    x = df[(df[dependent_variable].notnull())\n",
        "           & (df['nmrStaked'] > min_stake)][indepenent_variables]\n",
        "    y = df[(df[dependent_variable].notnull())\n",
        "           & (df['nmrStaked'] > min_stake)][dependent_variable]\n",
        "    model = sm.OLS(y, x)\n",
        "    results = model.fit()\n",
        "    return results\n"
      ],
      "execution_count": null,
      "outputs": []
    },
    {
      "cell_type": "markdown",
      "metadata": {
        "id": "T7rTtFsvJI0p"
      },
      "source": [
        "## Single Regression Stake Size and 3 Month Returns"
      ]
    },
    {
      "cell_type": "code",
      "metadata": {
        "colab": {
          "base_uri": "https://localhost:8080/",
          "height": 423
        },
        "id": "gtiiPU6dJI0p",
        "outputId": "6ef19e23-505e-48dc-eb33-be4a3635c27b"
      },
      "source": [
        "results = compute_single_regression(df,independent_variable='nmrStaked',dependent_variable='3M_returns', min_stake=1)\n",
        "results.summary()\n"
      ],
      "execution_count": null,
      "outputs": [
        {
          "output_type": "execute_result",
          "data": {
            "text/html": [
              "<table class=\"simpletable\">\n",
              "<caption>OLS Regression Results</caption>\n",
              "<tr>\n",
              "  <th>Dep. Variable:</th>       <td>3M_returns</td>    <th>  R-squared (uncentered):</th>      <td>   0.082</td> \n",
              "</tr>\n",
              "<tr>\n",
              "  <th>Model:</th>                   <td>OLS</td>       <th>  Adj. R-squared (uncentered):</th> <td>   0.081</td> \n",
              "</tr>\n",
              "<tr>\n",
              "  <th>Method:</th>             <td>Least Squares</td>  <th>  F-statistic:       </th>          <td>   106.6</td> \n",
              "</tr>\n",
              "<tr>\n",
              "  <th>Date:</th>             <td>Mon, 19 Apr 2021</td> <th>  Prob (F-statistic):</th>          <td>5.29e-24</td> \n",
              "</tr>\n",
              "<tr>\n",
              "  <th>Time:</th>                 <td>18:29:34</td>     <th>  Log-Likelihood:    </th>          <td> -6948.4</td> \n",
              "</tr>\n",
              "<tr>\n",
              "  <th>No. Observations:</th>      <td>  1194</td>      <th>  AIC:               </th>          <td>1.390e+04</td>\n",
              "</tr>\n",
              "<tr>\n",
              "  <th>Df Residuals:</th>          <td>  1193</td>      <th>  BIC:               </th>          <td>1.390e+04</td>\n",
              "</tr>\n",
              "<tr>\n",
              "  <th>Df Model:</th>              <td>     1</td>      <th>                     </th>              <td> </td>    \n",
              "</tr>\n",
              "<tr>\n",
              "  <th>Covariance Type:</th>      <td>nonrobust</td>    <th>                     </th>              <td> </td>    \n",
              "</tr>\n",
              "</table>\n",
              "<table class=\"simpletable\">\n",
              "<tr>\n",
              "      <td></td>         <th>coef</th>     <th>std err</th>      <th>t</th>      <th>P>|t|</th>  <th>[0.025</th>    <th>0.975]</th>  \n",
              "</tr>\n",
              "<tr>\n",
              "  <th>nmrStaked</th> <td>    0.0305</td> <td>    0.003</td> <td>   10.327</td> <td> 0.000</td> <td>    0.025</td> <td>    0.036</td>\n",
              "</tr>\n",
              "</table>\n",
              "<table class=\"simpletable\">\n",
              "<tr>\n",
              "  <th>Omnibus:</th>       <td>179.126</td> <th>  Durbin-Watson:     </th> <td>   0.349</td> \n",
              "</tr>\n",
              "<tr>\n",
              "  <th>Prob(Omnibus):</th> <td> 0.000</td>  <th>  Jarque-Bera (JB):  </th> <td>1086.888</td> \n",
              "</tr>\n",
              "<tr>\n",
              "  <th>Skew:</th>          <td>-0.531</td>  <th>  Prob(JB):          </th> <td>9.67e-237</td>\n",
              "</tr>\n",
              "<tr>\n",
              "  <th>Kurtosis:</th>      <td> 7.552</td>  <th>  Cond. No.          </th> <td>    1.00</td> \n",
              "</tr>\n",
              "</table><br/><br/>Warnings:<br/>[1] Standard Errors assume that the covariance matrix of the errors is correctly specified."
            ],
            "text/plain": [
              "<class 'statsmodels.iolib.summary.Summary'>\n",
              "\"\"\"\n",
              "                                 OLS Regression Results                                \n",
              "=======================================================================================\n",
              "Dep. Variable:             3M_returns   R-squared (uncentered):                   0.082\n",
              "Model:                            OLS   Adj. R-squared (uncentered):              0.081\n",
              "Method:                 Least Squares   F-statistic:                              106.6\n",
              "Date:                Mon, 19 Apr 2021   Prob (F-statistic):                    5.29e-24\n",
              "Time:                        18:29:34   Log-Likelihood:                         -6948.4\n",
              "No. Observations:                1194   AIC:                                  1.390e+04\n",
              "Df Residuals:                    1193   BIC:                                  1.390e+04\n",
              "Df Model:                           1                                                  \n",
              "Covariance Type:            nonrobust                                                  \n",
              "==============================================================================\n",
              "                 coef    std err          t      P>|t|      [0.025      0.975]\n",
              "------------------------------------------------------------------------------\n",
              "nmrStaked      0.0305      0.003     10.327      0.000       0.025       0.036\n",
              "==============================================================================\n",
              "Omnibus:                      179.126   Durbin-Watson:                   0.349\n",
              "Prob(Omnibus):                  0.000   Jarque-Bera (JB):             1086.888\n",
              "Skew:                          -0.531   Prob(JB):                    9.67e-237\n",
              "Kurtosis:                       7.552   Cond. No.                         1.00\n",
              "==============================================================================\n",
              "\n",
              "Warnings:\n",
              "[1] Standard Errors assume that the covariance matrix of the errors is correctly specified.\n",
              "\"\"\""
            ]
          },
          "metadata": {
            "tags": []
          },
          "execution_count": 15
        }
      ]
    },
    {
      "cell_type": "markdown",
      "metadata": {
        "id": "piKNM9CxJI0p"
      },
      "source": [
        "# Findings\n",
        " \n",
        "## There is a small significant positive relationship between amount staked and 3-month returns (coef= 0.0086, p<.000). However, only looking at stake size does not explain much of the variance in the 3-month returns. \n",
        " \n",
        "- The R^2 value is .027, I thought this would be much larger.\n",
        "- One explanation is that having access to a lot of capital is not indicative of being good at model building. \n",
        "- There are a lot of low capital high skill data scientists out there\n",
        "- These numbers change day to day since I ping the Leaderboard everytime this notebook is run.\n",
        " "
      ]
    },
    {
      "cell_type": "markdown",
      "metadata": {
        "id": "2yt-NXISJI0p"
      },
      "source": [
        "## Multiple Regression on 1D returns. \n",
        " \n",
        "### This is looking at the relative impact of CORR, MMC, FNC, and Stake on returns. Because this is only 1D returns one would expect these features to poorly predict returns because there is so much variance in 1D returns. \n",
        " "
      ]
    },
    {
      "cell_type": "code",
      "metadata": {
        "colab": {
          "base_uri": "https://localhost:8080/",
          "height": 520
        },
        "id": "uf6cgaeeJI0p",
        "outputId": "7a5bbf0b-39f5-49ab-cc2d-0bf5c05c9c08"
      },
      "source": [
        "# multiple regression looks at the impact of several independent variables on the dependent variable.\n",
        "# I set the default independent variables to ['corrRep', 'fncRep', 'mmcRep', 'nmrStaked']\n",
        "results = compute_multiple_regression(df,dependent_variable='1D_returns')\n",
        "results.summary()\n",
        " "
      ],
      "execution_count": null,
      "outputs": [
        {
          "output_type": "execute_result",
          "data": {
            "text/html": [
              "<table class=\"simpletable\">\n",
              "<caption>OLS Regression Results</caption>\n",
              "<tr>\n",
              "  <th>Dep. Variable:</th>       <td>1D_returns</td>    <th>  R-squared (uncentered):</th>      <td>   0.622</td> \n",
              "</tr>\n",
              "<tr>\n",
              "  <th>Model:</th>                   <td>OLS</td>       <th>  Adj. R-squared (uncentered):</th> <td>   0.621</td> \n",
              "</tr>\n",
              "<tr>\n",
              "  <th>Method:</th>             <td>Least Squares</td>  <th>  F-statistic:       </th>          <td>   1271.</td> \n",
              "</tr>\n",
              "<tr>\n",
              "  <th>Date:</th>             <td>Mon, 19 Apr 2021</td> <th>  Prob (F-statistic):</th>           <td>  0.00</td>  \n",
              "</tr>\n",
              "<tr>\n",
              "  <th>Time:</th>                 <td>18:29:42</td>     <th>  Log-Likelihood:    </th>          <td> -7524.3</td> \n",
              "</tr>\n",
              "<tr>\n",
              "  <th>No. Observations:</th>      <td>  3099</td>      <th>  AIC:               </th>          <td>1.506e+04</td>\n",
              "</tr>\n",
              "<tr>\n",
              "  <th>Df Residuals:</th>          <td>  3095</td>      <th>  BIC:               </th>          <td>1.508e+04</td>\n",
              "</tr>\n",
              "<tr>\n",
              "  <th>Df Model:</th>              <td>     4</td>      <th>                     </th>              <td> </td>    \n",
              "</tr>\n",
              "<tr>\n",
              "  <th>Covariance Type:</th>      <td>nonrobust</td>    <th>                     </th>              <td> </td>    \n",
              "</tr>\n",
              "</table>\n",
              "<table class=\"simpletable\">\n",
              "<tr>\n",
              "      <td></td>         <th>coef</th>     <th>std err</th>      <th>t</th>      <th>P>|t|</th>  <th>[0.025</th>    <th>0.975]</th>  \n",
              "</tr>\n",
              "<tr>\n",
              "  <th>corrRep</th>   <td>  121.8728</td> <td>    2.018</td> <td>   60.386</td> <td> 0.000</td> <td>  117.916</td> <td>  125.830</td>\n",
              "</tr>\n",
              "<tr>\n",
              "  <th>fncRep</th>    <td> -190.3026</td> <td>    6.960</td> <td>  -27.343</td> <td> 0.000</td> <td> -203.949</td> <td> -176.656</td>\n",
              "</tr>\n",
              "<tr>\n",
              "  <th>mmcRep</th>    <td>   47.6518</td> <td>    6.516</td> <td>    7.313</td> <td> 0.000</td> <td>   34.876</td> <td>   60.428</td>\n",
              "</tr>\n",
              "<tr>\n",
              "  <th>nmrStaked</th> <td> 1.249e-06</td> <td>    0.000</td> <td>    0.012</td> <td> 0.990</td> <td>   -0.000</td> <td>    0.000</td>\n",
              "</tr>\n",
              "</table>\n",
              "<table class=\"simpletable\">\n",
              "<tr>\n",
              "  <th>Omnibus:</th>       <td>148.141</td> <th>  Durbin-Watson:     </th> <td>   1.973</td>\n",
              "</tr>\n",
              "<tr>\n",
              "  <th>Prob(Omnibus):</th> <td> 0.000</td>  <th>  Jarque-Bera (JB):  </th> <td> 446.272</td>\n",
              "</tr>\n",
              "<tr>\n",
              "  <th>Skew:</th>          <td> 0.177</td>  <th>  Prob(JB):          </th> <td>1.24e-97</td>\n",
              "</tr>\n",
              "<tr>\n",
              "  <th>Kurtosis:</th>      <td> 4.825</td>  <th>  Cond. No.          </th> <td>9.64e+04</td>\n",
              "</tr>\n",
              "</table><br/><br/>Warnings:<br/>[1] Standard Errors assume that the covariance matrix of the errors is correctly specified.<br/>[2] The condition number is large, 9.64e+04. This might indicate that there are<br/>strong multicollinearity or other numerical problems."
            ],
            "text/plain": [
              "<class 'statsmodels.iolib.summary.Summary'>\n",
              "\"\"\"\n",
              "                                 OLS Regression Results                                \n",
              "=======================================================================================\n",
              "Dep. Variable:             1D_returns   R-squared (uncentered):                   0.622\n",
              "Model:                            OLS   Adj. R-squared (uncentered):              0.621\n",
              "Method:                 Least Squares   F-statistic:                              1271.\n",
              "Date:                Mon, 19 Apr 2021   Prob (F-statistic):                        0.00\n",
              "Time:                        18:29:42   Log-Likelihood:                         -7524.3\n",
              "No. Observations:                3099   AIC:                                  1.506e+04\n",
              "Df Residuals:                    3095   BIC:                                  1.508e+04\n",
              "Df Model:                           4                                                  \n",
              "Covariance Type:            nonrobust                                                  \n",
              "==============================================================================\n",
              "                 coef    std err          t      P>|t|      [0.025      0.975]\n",
              "------------------------------------------------------------------------------\n",
              "corrRep      121.8728      2.018     60.386      0.000     117.916     125.830\n",
              "fncRep      -190.3026      6.960    -27.343      0.000    -203.949    -176.656\n",
              "mmcRep        47.6518      6.516      7.313      0.000      34.876      60.428\n",
              "nmrStaked   1.249e-06      0.000      0.012      0.990      -0.000       0.000\n",
              "==============================================================================\n",
              "Omnibus:                      148.141   Durbin-Watson:                   1.973\n",
              "Prob(Omnibus):                  0.000   Jarque-Bera (JB):              446.272\n",
              "Skew:                           0.177   Prob(JB):                     1.24e-97\n",
              "Kurtosis:                       4.825   Cond. No.                     9.64e+04\n",
              "==============================================================================\n",
              "\n",
              "Warnings:\n",
              "[1] Standard Errors assume that the covariance matrix of the errors is correctly specified.\n",
              "[2] The condition number is large, 9.64e+04. This might indicate that there are\n",
              "strong multicollinearity or other numerical problems.\n",
              "\"\"\""
            ]
          },
          "metadata": {
            "tags": []
          },
          "execution_count": 16
        }
      ]
    },
    {
      "cell_type": "markdown",
      "metadata": {
        "id": "ol6UVem3JI0q"
      },
      "source": [
        "\n",
        "## Multiple Regression on 3 Month Returns"
      ]
    },
    {
      "cell_type": "code",
      "metadata": {
        "colab": {
          "base_uri": "https://localhost:8080/",
          "height": 520
        },
        "id": "o3PbYf0HJI0q",
        "outputId": "4f8190e9-564e-4188-811b-c3d1e5c61a4e"
      },
      "source": [
        "results = compute_multiple_regression(df,dependent_variable='3M_returns', min_stake=.1)\n",
        "results.summary()\n"
      ],
      "execution_count": null,
      "outputs": [
        {
          "output_type": "execute_result",
          "data": {
            "text/html": [
              "<table class=\"simpletable\">\n",
              "<caption>OLS Regression Results</caption>\n",
              "<tr>\n",
              "  <th>Dep. Variable:</th>       <td>3M_returns</td>    <th>  R-squared (uncentered):</th>      <td>   0.934</td> \n",
              "</tr>\n",
              "<tr>\n",
              "  <th>Model:</th>                   <td>OLS</td>       <th>  Adj. R-squared (uncentered):</th> <td>   0.934</td> \n",
              "</tr>\n",
              "<tr>\n",
              "  <th>Method:</th>             <td>Least Squares</td>  <th>  F-statistic:       </th>          <td>   4807.</td> \n",
              "</tr>\n",
              "<tr>\n",
              "  <th>Date:</th>             <td>Mon, 19 Apr 2021</td> <th>  Prob (F-statistic):</th>           <td>  0.00</td>  \n",
              "</tr>\n",
              "<tr>\n",
              "  <th>Time:</th>                 <td>18:28:24</td>     <th>  Log-Likelihood:    </th>          <td> -6052.8</td> \n",
              "</tr>\n",
              "<tr>\n",
              "  <th>No. Observations:</th>      <td>  1353</td>      <th>  AIC:               </th>          <td>1.211e+04</td>\n",
              "</tr>\n",
              "<tr>\n",
              "  <th>Df Residuals:</th>          <td>  1349</td>      <th>  BIC:               </th>          <td>1.213e+04</td>\n",
              "</tr>\n",
              "<tr>\n",
              "  <th>Df Model:</th>              <td>     4</td>      <th>                     </th>              <td> </td>    \n",
              "</tr>\n",
              "<tr>\n",
              "  <th>Covariance Type:</th>      <td>nonrobust</td>    <th>                     </th>              <td> </td>    \n",
              "</tr>\n",
              "</table>\n",
              "<table class=\"simpletable\">\n",
              "<tr>\n",
              "      <td></td>         <th>coef</th>     <th>std err</th>      <th>t</th>      <th>P>|t|</th>  <th>[0.025</th>    <th>0.975]</th>  \n",
              "</tr>\n",
              "<tr>\n",
              "  <th>corrRep</th>   <td> 2590.2757</td> <td>   19.659</td> <td>  131.759</td> <td> 0.000</td> <td> 2551.710</td> <td> 2628.842</td>\n",
              "</tr>\n",
              "<tr>\n",
              "  <th>fncRep</th>    <td>-2967.2197</td> <td>   71.862</td> <td>  -41.290</td> <td> 0.000</td> <td>-3108.194</td> <td>-2826.245</td>\n",
              "</tr>\n",
              "<tr>\n",
              "  <th>mmcRep</th>    <td>  414.4713</td> <td>   68.281</td> <td>    6.070</td> <td> 0.000</td> <td>  280.522</td> <td>  548.421</td>\n",
              "</tr>\n",
              "<tr>\n",
              "  <th>nmrStaked</th> <td>    0.0005</td> <td>    0.001</td> <td>    0.646</td> <td> 0.518</td> <td>   -0.001</td> <td>    0.002</td>\n",
              "</tr>\n",
              "</table>\n",
              "<table class=\"simpletable\">\n",
              "<tr>\n",
              "  <th>Omnibus:</th>       <td>243.549</td> <th>  Durbin-Watson:     </th> <td>   1.971</td> \n",
              "</tr>\n",
              "<tr>\n",
              "  <th>Prob(Omnibus):</th> <td> 0.000</td>  <th>  Jarque-Bera (JB):  </th> <td> 685.631</td> \n",
              "</tr>\n",
              "<tr>\n",
              "  <th>Skew:</th>          <td> 0.926</td>  <th>  Prob(JB):          </th> <td>1.31e-149</td>\n",
              "</tr>\n",
              "<tr>\n",
              "  <th>Kurtosis:</th>      <td> 5.954</td>  <th>  Cond. No.          </th> <td>1.26e+05</td> \n",
              "</tr>\n",
              "</table><br/><br/>Warnings:<br/>[1] Standard Errors assume that the covariance matrix of the errors is correctly specified.<br/>[2] The condition number is large, 1.26e+05. This might indicate that there are<br/>strong multicollinearity or other numerical problems."
            ],
            "text/plain": [
              "<class 'statsmodels.iolib.summary.Summary'>\n",
              "\"\"\"\n",
              "                                 OLS Regression Results                                \n",
              "=======================================================================================\n",
              "Dep. Variable:             3M_returns   R-squared (uncentered):                   0.934\n",
              "Model:                            OLS   Adj. R-squared (uncentered):              0.934\n",
              "Method:                 Least Squares   F-statistic:                              4807.\n",
              "Date:                Mon, 19 Apr 2021   Prob (F-statistic):                        0.00\n",
              "Time:                        18:28:24   Log-Likelihood:                         -6052.8\n",
              "No. Observations:                1353   AIC:                                  1.211e+04\n",
              "Df Residuals:                    1349   BIC:                                  1.213e+04\n",
              "Df Model:                           4                                                  \n",
              "Covariance Type:            nonrobust                                                  \n",
              "==============================================================================\n",
              "                 coef    std err          t      P>|t|      [0.025      0.975]\n",
              "------------------------------------------------------------------------------\n",
              "corrRep     2590.2757     19.659    131.759      0.000    2551.710    2628.842\n",
              "fncRep     -2967.2197     71.862    -41.290      0.000   -3108.194   -2826.245\n",
              "mmcRep       414.4713     68.281      6.070      0.000     280.522     548.421\n",
              "nmrStaked      0.0005      0.001      0.646      0.518      -0.001       0.002\n",
              "==============================================================================\n",
              "Omnibus:                      243.549   Durbin-Watson:                   1.971\n",
              "Prob(Omnibus):                  0.000   Jarque-Bera (JB):              685.631\n",
              "Skew:                           0.926   Prob(JB):                    1.31e-149\n",
              "Kurtosis:                       5.954   Cond. No.                     1.26e+05\n",
              "==============================================================================\n",
              "\n",
              "Warnings:\n",
              "[1] Standard Errors assume that the covariance matrix of the errors is correctly specified.\n",
              "[2] The condition number is large, 1.26e+05. This might indicate that there are\n",
              "strong multicollinearity or other numerical problems.\n",
              "\"\"\""
            ]
          },
          "metadata": {
            "tags": []
          },
          "execution_count": 12
        }
      ]
    },
    {
      "cell_type": "markdown",
      "metadata": {
        "id": "OshGtjQUJI0q"
      },
      "source": [
        "# Multiple Regression on 1 Year Returns"
      ]
    },
    {
      "cell_type": "code",
      "metadata": {
        "colab": {
          "base_uri": "https://localhost:8080/",
          "height": 520
        },
        "id": "oWzXgK26JI0q",
        "outputId": "7bec506f-6792-4532-f7f5-82347330ce0a"
      },
      "source": [
        "results = compute_multiple_regression(df, dependent_variable='1Y_returns')\n",
        "results.summary()"
      ],
      "execution_count": null,
      "outputs": [
        {
          "output_type": "execute_result",
          "data": {
            "text/html": [
              "<table class=\"simpletable\">\n",
              "<caption>OLS Regression Results</caption>\n",
              "<tr>\n",
              "  <th>Dep. Variable:</th>       <td>1Y_returns</td>    <th>  R-squared (uncentered):</th>      <td>   0.883</td> \n",
              "</tr>\n",
              "<tr>\n",
              "  <th>Model:</th>                   <td>OLS</td>       <th>  Adj. R-squared (uncentered):</th> <td>   0.882</td> \n",
              "</tr>\n",
              "<tr>\n",
              "  <th>Method:</th>             <td>Least Squares</td>  <th>  F-statistic:       </th>          <td>   840.1</td> \n",
              "</tr>\n",
              "<tr>\n",
              "  <th>Date:</th>             <td>Mon, 19 Apr 2021</td> <th>  Prob (F-statistic):</th>          <td>2.35e-206</td>\n",
              "</tr>\n",
              "<tr>\n",
              "  <th>Time:</th>                 <td>18:30:03</td>     <th>  Log-Likelihood:    </th>          <td> -2643.9</td> \n",
              "</tr>\n",
              "<tr>\n",
              "  <th>No. Observations:</th>      <td>   451</td>      <th>  AIC:               </th>          <td>   5296.</td> \n",
              "</tr>\n",
              "<tr>\n",
              "  <th>Df Residuals:</th>          <td>   447</td>      <th>  BIC:               </th>          <td>   5312.</td> \n",
              "</tr>\n",
              "<tr>\n",
              "  <th>Df Model:</th>              <td>     4</td>      <th>                     </th>              <td> </td>    \n",
              "</tr>\n",
              "<tr>\n",
              "  <th>Covariance Type:</th>      <td>nonrobust</td>    <th>                     </th>              <td> </td>    \n",
              "</tr>\n",
              "</table>\n",
              "<table class=\"simpletable\">\n",
              "<tr>\n",
              "      <td></td>         <th>coef</th>     <th>std err</th>      <th>t</th>      <th>P>|t|</th>  <th>[0.025</th>    <th>0.975]</th>  \n",
              "</tr>\n",
              "<tr>\n",
              "  <th>corrRep</th>   <td> 7626.4877</td> <td>  146.020</td> <td>   52.229</td> <td> 0.000</td> <td> 7339.517</td> <td> 7913.458</td>\n",
              "</tr>\n",
              "<tr>\n",
              "  <th>fncRep</th>    <td>-3889.3776</td> <td>  565.474</td> <td>   -6.878</td> <td> 0.000</td> <td>-5000.696</td> <td>-2778.059</td>\n",
              "</tr>\n",
              "<tr>\n",
              "  <th>mmcRep</th>    <td>-3686.0435</td> <td>  538.166</td> <td>   -6.849</td> <td> 0.000</td> <td>-4743.694</td> <td>-2628.393</td>\n",
              "</tr>\n",
              "<tr>\n",
              "  <th>nmrStaked</th> <td>    0.0103</td> <td>    0.004</td> <td>    2.702</td> <td> 0.007</td> <td>    0.003</td> <td>    0.018</td>\n",
              "</tr>\n",
              "</table>\n",
              "<table class=\"simpletable\">\n",
              "<tr>\n",
              "  <th>Omnibus:</th>       <td>66.375</td> <th>  Durbin-Watson:     </th> <td>   1.727</td>\n",
              "</tr>\n",
              "<tr>\n",
              "  <th>Prob(Omnibus):</th> <td> 0.000</td> <th>  Jarque-Bera (JB):  </th> <td> 168.569</td>\n",
              "</tr>\n",
              "<tr>\n",
              "  <th>Skew:</th>          <td> 0.735</td> <th>  Prob(JB):          </th> <td>2.49e-37</td>\n",
              "</tr>\n",
              "<tr>\n",
              "  <th>Kurtosis:</th>      <td> 5.609</td> <th>  Cond. No.          </th> <td>2.23e+05</td>\n",
              "</tr>\n",
              "</table><br/><br/>Warnings:<br/>[1] Standard Errors assume that the covariance matrix of the errors is correctly specified.<br/>[2] The condition number is large, 2.23e+05. This might indicate that there are<br/>strong multicollinearity or other numerical problems."
            ],
            "text/plain": [
              "<class 'statsmodels.iolib.summary.Summary'>\n",
              "\"\"\"\n",
              "                                 OLS Regression Results                                \n",
              "=======================================================================================\n",
              "Dep. Variable:             1Y_returns   R-squared (uncentered):                   0.883\n",
              "Model:                            OLS   Adj. R-squared (uncentered):              0.882\n",
              "Method:                 Least Squares   F-statistic:                              840.1\n",
              "Date:                Mon, 19 Apr 2021   Prob (F-statistic):                   2.35e-206\n",
              "Time:                        18:30:03   Log-Likelihood:                         -2643.9\n",
              "No. Observations:                 451   AIC:                                      5296.\n",
              "Df Residuals:                     447   BIC:                                      5312.\n",
              "Df Model:                           4                                                  \n",
              "Covariance Type:            nonrobust                                                  \n",
              "==============================================================================\n",
              "                 coef    std err          t      P>|t|      [0.025      0.975]\n",
              "------------------------------------------------------------------------------\n",
              "corrRep     7626.4877    146.020     52.229      0.000    7339.517    7913.458\n",
              "fncRep     -3889.3776    565.474     -6.878      0.000   -5000.696   -2778.059\n",
              "mmcRep     -3686.0435    538.166     -6.849      0.000   -4743.694   -2628.393\n",
              "nmrStaked      0.0103      0.004      2.702      0.007       0.003       0.018\n",
              "==============================================================================\n",
              "Omnibus:                       66.375   Durbin-Watson:                   1.727\n",
              "Prob(Omnibus):                  0.000   Jarque-Bera (JB):              168.569\n",
              "Skew:                           0.735   Prob(JB):                     2.49e-37\n",
              "Kurtosis:                       5.609   Cond. No.                     2.23e+05\n",
              "==============================================================================\n",
              "\n",
              "Warnings:\n",
              "[1] Standard Errors assume that the covariance matrix of the errors is correctly specified.\n",
              "[2] The condition number is large, 2.23e+05. This might indicate that there are\n",
              "strong multicollinearity or other numerical problems.\n",
              "\"\"\""
            ]
          },
          "metadata": {
            "tags": []
          },
          "execution_count": 17
        }
      ]
    },
    {
      "cell_type": "markdown",
      "metadata": {
        "id": "fKzE5QCqJI0q"
      },
      "source": [
        "# What do the long-term profits look like?"
      ]
    },
    {
      "cell_type": "code",
      "metadata": {
        "colab": {
          "base_uri": "https://localhost:8080/"
        },
        "id": "KLcbSeo2JI0r",
        "outputId": "8ba5a69c-151a-4f74-c915-82c23f8b6dc0"
      },
      "source": [
        "users_with_3_month_returns = df[df['3M_returns'].notnull()]['3M_returns']\n",
        "num_3M_returns = users_with_3_month_returns.count()\n",
        " \n",
        "print('Description users with 3 months of returns\\n', users_with_3_month_returns.describe())\n",
        " \n",
        "users_net_postive_3_month_returns = df[(df['3M_returns'].notnull()) & (df['3M_returns'] > 0)]['3M_returns']\n",
        "num_net_postitive = users_net_postive_3_month_returns.count()\n",
        " \n",
        "percent_net_positive = \"{:.1%}\".format(num_net_postitive/num_3M_returns)\n",
        " \n",
        "print(f'Users who were net positive over 3 months: {percent_net_positive}')\n",
        " \n",
        "users_net_up_10_percent = df[(df['3M_returns'].notnull()) & (df['3M_returns'] > 10)]['3M_returns']\n",
        "num_net_up_10_percent = users_net_up_10_percent.count()\n",
        " \n",
        "percent_net_up_10 = \"{:.1%}\".format(num_net_up_10_percent/num_3M_returns)\n",
        "print(f'Users who were net up 10% over 3 months: {percent_net_up_10}')\n",
        " \n",
        "users_net_up_50_percent = df[(df['3M_returns'].notnull()) & (df['3M_returns'] > 50)]['3M_returns']\n",
        "num_net_up_50_percent = users_net_up_50_percent.count()\n",
        " \n",
        "percent_net_up_50 = \"{:.1%}\".format(num_net_up_50_percent/num_3M_returns)\n",
        "print(f'Users who were net up 50% over 3 months: {percent_net_up_50}')\n",
        "\n",
        "# you might want to include a bit about the t-test of the groups by stake size here."
      ],
      "execution_count": null,
      "outputs": [
        {
          "output_type": "stream",
          "text": [
            "Description users with 3 months of returns\n",
            " count    2190.000000\n",
            "mean       55.251545\n",
            "std        49.023227\n",
            "min       -98.476556\n",
            "25%         1.761484\n",
            "50%        56.153993\n",
            "75%        90.817767\n",
            "max       274.135072\n",
            "Name: 3M_returns, dtype: float64\n",
            "Users who were net positive over 3 months: 75.4%\n",
            "Users who were net up 10% over 3 months: 71.7%\n",
            "Users who were net up 50% over 3 months: 53.9%\n"
          ],
          "name": "stdout"
        }
      ]
    },
    {
      "cell_type": "markdown",
      "metadata": {
        "id": "NZggwFOUJI0r"
      },
      "source": [
        "# Conclusions\n",
        "1. I was surprised that there is a negative relationship between FNC and 3M and 1Y returns. I would have expected each of those parameters to have positive coefficients. \n",
        "2. The R^2 increases when you look at larger time frames. This matches intuition and the law of large numbers. As you increase the time period you consider, the randomness in the 1D and 3M returns evens out. \n",
        "3. Because there is such a small relationship between stake size and returns, I can conclude that you don't need access to large amounts of capital to build a good model. If you look at the leaderboard right now, there are people who have staked anywhere from 0 to ~1,000 NMR that have similar CORR scores.\n",
        "4. It seems like betting any amount of money on your model is enough of a signal of confidence in it. There is not that much of a difference between beting 1 and 1000 NMR. This surprised me a lot.\n",
        "5. Because some people might have multiple accounts, there is an upper bound of ~900 people who have successfully built models to forecast the stock market well enough to get net +10% over three months. That is absolutely incredible. \n",
        " "
      ]
    },
    {
      "cell_type": "markdown",
      "metadata": {
        "id": "XAL3iXSLJI0r"
      },
      "source": [
        "# Next Steps\n",
        " \n",
        "- Figure out the life cycle of a typical user. How long does it take for them to be profitable, how much turnover is there? How many people just submit the intro model and give up? I am pretty sure I can get this data from the API.\n",
        " \n",
        "- Track these variables over time. I could store the results from the leaderboard every day and then come back in a month and see if it has changed at all."
      ]
    }
  ]
}