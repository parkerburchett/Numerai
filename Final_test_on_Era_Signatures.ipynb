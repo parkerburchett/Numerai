{
  "nbformat": 4,
  "nbformat_minor": 0,
  "metadata": {
    "colab": {
      "name": "Final test on Era Signatures.ipynb",
      "provenance": [],
      "collapsed_sections": [],
      "machine_shape": "hm"
    },
    "kernelspec": {
      "display_name": "Python 3",
      "name": "python3"
    },
    "language_info": {
      "name": "python"
    }
  },
  "cells": [
    {
      "cell_type": "code",
      "metadata": {
        "colab": {
          "base_uri": "https://localhost:8080/"
        },
        "id": "lj_pXzvmodY5",
        "outputId": "15191e48-5899-4739-d7f9-85f6da5af948"
      },
      "source": [
        "!git clone https://github.com/parkerburchett/Numerai\n",
        "\n",
        "import pandas as pd\n",
        "import matplotlib.pyplot as plt\n",
        "import numpy as np\n",
        "from Numerai.SimpleScoreCalculator import NumeraiDataLoader\n",
        "from google.colab import drive\n",
        "drive.mount('/content/drive')"
      ],
      "execution_count": null,
      "outputs": [
        {
          "output_type": "stream",
          "text": [
            "Cloning into 'Numerai'...\n",
            "remote: Enumerating objects: 1532, done.\u001b[K\n",
            "remote: Counting objects: 100% (1532/1532), done.\u001b[K\n",
            "remote: Compressing objects: 100% (1347/1347), done.\u001b[K\n",
            "remote: Total 1532 (delta 247), reused 1442 (delta 165), pack-reused 0\u001b[K\n",
            "Receiving objects: 100% (1532/1532), 76.09 MiB | 26.63 MiB/s, done.\n",
            "Resolving deltas: 100% (247/247), done.\n",
            "Mounted at /content/drive\n"
          ],
          "name": "stdout"
        }
      ]
    },
    {
      "cell_type": "markdown",
      "metadata": {
        "id": "cgoj_g3gRUqD"
      },
      "source": [
        "### it appears that the sim scores follow this pattern:\n",
        "\n",
        "This is a poission distribtion. see https://en.wikipedia.org/wiki/Poisson_distribution \n",
        "\n",
        "=\n",
        "The dot product sim scores form this distribtion. That is worrisome I read, unsure yet on details, that it occurs when the undelrying process is random and independent. Eg not good for similarity. \n",
        "\n",
        "\n",
        "You can verify this by taking generateing 10 signatures of an era and then getting the sim score of each. Basicly check to see if there is mostly agreement. spot check with 1 and the pattern seems to mostly hold.\n",
        "\n",
        "You should do a permuation test. (for one of the signatures, you should randomly permute one of the cols. then do the same test. "
      ]
    },
    {
      "cell_type": "code",
      "metadata": {
        "id": "TIe_VacToo-L",
        "colab": {
          "base_uri": "https://localhost:8080/",
          "height": 357
        },
        "outputId": "054207e0-72f9-4c8d-fd0b-1865a336e7ea"
      },
      "source": [
        "from Numerai.SimpleScoreCalculator import NumeraiDataLoader\n",
        "\n",
        "dl = NumeraiDataLoader()\n",
        "TRAIN_DF = dl.ping_training_data()\n",
        "VALID_df = dl.ping_validation_data()"
      ],
      "execution_count": null,
      "outputs": [
        {
          "output_type": "error",
          "ename": "KeyboardInterrupt",
          "evalue": "ignored",
          "traceback": [
            "\u001b[0;31m---------------------------------------------------------------------------\u001b[0m",
            "\u001b[0;31mKeyboardInterrupt\u001b[0m                         Traceback (most recent call last)",
            "\u001b[0;32m<ipython-input-6-acb25653cf0c>\u001b[0m in \u001b[0;36m<module>\u001b[0;34m()\u001b[0m\n\u001b[1;32m      2\u001b[0m \u001b[0;32mfrom\u001b[0m \u001b[0mNumerai\u001b[0m\u001b[0;34m.\u001b[0m\u001b[0mEraSignature\u001b[0m \u001b[0;32mimport\u001b[0m \u001b[0mEraToSignature\u001b[0m\u001b[0;34m\u001b[0m\u001b[0;34m\u001b[0m\u001b[0m\n\u001b[1;32m      3\u001b[0m \u001b[0mdl\u001b[0m \u001b[0;34m=\u001b[0m \u001b[0mNumeraiDataLoader\u001b[0m\u001b[0;34m(\u001b[0m\u001b[0;34m)\u001b[0m\u001b[0;34m\u001b[0m\u001b[0;34m\u001b[0m\u001b[0m\n\u001b[0;32m----> 4\u001b[0;31m \u001b[0mTRAIN_DF\u001b[0m \u001b[0;34m=\u001b[0m \u001b[0mdl\u001b[0m\u001b[0;34m.\u001b[0m\u001b[0mping_training_data\u001b[0m\u001b[0;34m(\u001b[0m\u001b[0;34m)\u001b[0m\u001b[0;34m\u001b[0m\u001b[0;34m\u001b[0m\u001b[0m\n\u001b[0m\u001b[1;32m      5\u001b[0m \u001b[0mVALID_df\u001b[0m \u001b[0;34m=\u001b[0m \u001b[0mdl\u001b[0m\u001b[0;34m.\u001b[0m\u001b[0mping_validation_data\u001b[0m\u001b[0;34m(\u001b[0m\u001b[0;34m)\u001b[0m\u001b[0;34m\u001b[0m\u001b[0;34m\u001b[0m\u001b[0m\n",
            "\u001b[0;32m/content/Numerai/SimpleScoreCalculator.py\u001b[0m in \u001b[0;36mping_training_data\u001b[0;34m(self)\u001b[0m\n\u001b[1;32m    403\u001b[0m         \"\"\"\n\u001b[1;32m    404\u001b[0m         \u001b[0mtraining_data_url\u001b[0m \u001b[0;34m=\u001b[0m \u001b[0;34m'https://numerai-public-datasets.s3-us-west-2.amazonaws.com/latest_numerai_training_data.csv.xz'\u001b[0m\u001b[0;34m\u001b[0m\u001b[0;34m\u001b[0m\u001b[0m\n\u001b[0;32m--> 405\u001b[0;31m         \u001b[0mtrain_df\u001b[0m \u001b[0;34m=\u001b[0m \u001b[0mpd\u001b[0m\u001b[0;34m.\u001b[0m\u001b[0mread_csv\u001b[0m\u001b[0;34m(\u001b[0m\u001b[0mtraining_data_url\u001b[0m\u001b[0;34m)\u001b[0m\u001b[0;34m\u001b[0m\u001b[0;34m\u001b[0m\u001b[0m\n\u001b[0m\u001b[1;32m    406\u001b[0m         \u001b[0mfeature_cols\u001b[0m \u001b[0;34m=\u001b[0m \u001b[0mtrain_df\u001b[0m\u001b[0;34m.\u001b[0m\u001b[0mcolumns\u001b[0m\u001b[0;34m[\u001b[0m\u001b[0mtrain_df\u001b[0m\u001b[0;34m.\u001b[0m\u001b[0mcolumns\u001b[0m\u001b[0;34m.\u001b[0m\u001b[0mstr\u001b[0m\u001b[0;34m.\u001b[0m\u001b[0mstartswith\u001b[0m\u001b[0;34m(\u001b[0m\u001b[0;34m'feature'\u001b[0m\u001b[0;34m)\u001b[0m\u001b[0;34m]\u001b[0m\u001b[0;34m\u001b[0m\u001b[0;34m\u001b[0m\u001b[0m\n\u001b[1;32m    407\u001b[0m \u001b[0;34m\u001b[0m\u001b[0m\n",
            "\u001b[0;32m/usr/local/lib/python3.7/dist-packages/pandas/io/parsers.py\u001b[0m in \u001b[0;36mread_csv\u001b[0;34m(filepath_or_buffer, sep, delimiter, header, names, index_col, usecols, squeeze, prefix, mangle_dupe_cols, dtype, engine, converters, true_values, false_values, skipinitialspace, skiprows, skipfooter, nrows, na_values, keep_default_na, na_filter, verbose, skip_blank_lines, parse_dates, infer_datetime_format, keep_date_col, date_parser, dayfirst, cache_dates, iterator, chunksize, compression, thousands, decimal, lineterminator, quotechar, quoting, doublequote, escapechar, comment, encoding, dialect, error_bad_lines, warn_bad_lines, delim_whitespace, low_memory, memory_map, float_precision)\u001b[0m\n\u001b[1;32m    686\u001b[0m     )\n\u001b[1;32m    687\u001b[0m \u001b[0;34m\u001b[0m\u001b[0m\n\u001b[0;32m--> 688\u001b[0;31m     \u001b[0;32mreturn\u001b[0m \u001b[0m_read\u001b[0m\u001b[0;34m(\u001b[0m\u001b[0mfilepath_or_buffer\u001b[0m\u001b[0;34m,\u001b[0m \u001b[0mkwds\u001b[0m\u001b[0;34m)\u001b[0m\u001b[0;34m\u001b[0m\u001b[0;34m\u001b[0m\u001b[0m\n\u001b[0m\u001b[1;32m    689\u001b[0m \u001b[0;34m\u001b[0m\u001b[0m\n\u001b[1;32m    690\u001b[0m \u001b[0;34m\u001b[0m\u001b[0m\n",
            "\u001b[0;32m/usr/local/lib/python3.7/dist-packages/pandas/io/parsers.py\u001b[0m in \u001b[0;36m_read\u001b[0;34m(filepath_or_buffer, kwds)\u001b[0m\n\u001b[1;32m    435\u001b[0m     \u001b[0;31m# See https://github.com/python/mypy/issues/1297\u001b[0m\u001b[0;34m\u001b[0m\u001b[0;34m\u001b[0m\u001b[0;34m\u001b[0m\u001b[0m\n\u001b[1;32m    436\u001b[0m     fp_or_buf, _, compression, should_close = get_filepath_or_buffer(\n\u001b[0;32m--> 437\u001b[0;31m         \u001b[0mfilepath_or_buffer\u001b[0m\u001b[0;34m,\u001b[0m \u001b[0mencoding\u001b[0m\u001b[0;34m,\u001b[0m \u001b[0mcompression\u001b[0m\u001b[0;34m\u001b[0m\u001b[0;34m\u001b[0m\u001b[0m\n\u001b[0m\u001b[1;32m    438\u001b[0m     )\n\u001b[1;32m    439\u001b[0m     \u001b[0mkwds\u001b[0m\u001b[0;34m[\u001b[0m\u001b[0;34m\"compression\"\u001b[0m\u001b[0;34m]\u001b[0m \u001b[0;34m=\u001b[0m \u001b[0mcompression\u001b[0m\u001b[0;34m\u001b[0m\u001b[0;34m\u001b[0m\u001b[0m\n",
            "\u001b[0;32m/usr/local/lib/python3.7/dist-packages/pandas/io/common.py\u001b[0m in \u001b[0;36mget_filepath_or_buffer\u001b[0;34m(filepath_or_buffer, encoding, compression, mode, storage_options)\u001b[0m\n\u001b[1;32m    186\u001b[0m             \u001b[0;31m# Override compression based on Content-Encoding header\u001b[0m\u001b[0;34m\u001b[0m\u001b[0;34m\u001b[0m\u001b[0;34m\u001b[0m\u001b[0m\n\u001b[1;32m    187\u001b[0m             \u001b[0mcompression\u001b[0m \u001b[0;34m=\u001b[0m \u001b[0;34m\"gzip\"\u001b[0m\u001b[0;34m\u001b[0m\u001b[0;34m\u001b[0m\u001b[0m\n\u001b[0;32m--> 188\u001b[0;31m         \u001b[0mreader\u001b[0m \u001b[0;34m=\u001b[0m \u001b[0mBytesIO\u001b[0m\u001b[0;34m(\u001b[0m\u001b[0mreq\u001b[0m\u001b[0;34m.\u001b[0m\u001b[0mread\u001b[0m\u001b[0;34m(\u001b[0m\u001b[0;34m)\u001b[0m\u001b[0;34m)\u001b[0m\u001b[0;34m\u001b[0m\u001b[0;34m\u001b[0m\u001b[0m\n\u001b[0m\u001b[1;32m    189\u001b[0m         \u001b[0mreq\u001b[0m\u001b[0;34m.\u001b[0m\u001b[0mclose\u001b[0m\u001b[0;34m(\u001b[0m\u001b[0;34m)\u001b[0m\u001b[0;34m\u001b[0m\u001b[0;34m\u001b[0m\u001b[0m\n\u001b[1;32m    190\u001b[0m         \u001b[0;32mreturn\u001b[0m \u001b[0mreader\u001b[0m\u001b[0;34m,\u001b[0m \u001b[0mencoding\u001b[0m\u001b[0;34m,\u001b[0m \u001b[0mcompression\u001b[0m\u001b[0;34m,\u001b[0m \u001b[0;32mTrue\u001b[0m\u001b[0;34m\u001b[0m\u001b[0;34m\u001b[0m\u001b[0m\n",
            "\u001b[0;32m/usr/lib/python3.7/http/client.py\u001b[0m in \u001b[0;36mread\u001b[0;34m(self, amt)\u001b[0m\n\u001b[1;32m    472\u001b[0m             \u001b[0;32melse\u001b[0m\u001b[0;34m:\u001b[0m\u001b[0;34m\u001b[0m\u001b[0;34m\u001b[0m\u001b[0m\n\u001b[1;32m    473\u001b[0m                 \u001b[0;32mtry\u001b[0m\u001b[0;34m:\u001b[0m\u001b[0;34m\u001b[0m\u001b[0;34m\u001b[0m\u001b[0m\n\u001b[0;32m--> 474\u001b[0;31m                     \u001b[0ms\u001b[0m \u001b[0;34m=\u001b[0m \u001b[0mself\u001b[0m\u001b[0;34m.\u001b[0m\u001b[0m_safe_read\u001b[0m\u001b[0;34m(\u001b[0m\u001b[0mself\u001b[0m\u001b[0;34m.\u001b[0m\u001b[0mlength\u001b[0m\u001b[0;34m)\u001b[0m\u001b[0;34m\u001b[0m\u001b[0;34m\u001b[0m\u001b[0m\n\u001b[0m\u001b[1;32m    475\u001b[0m                 \u001b[0;32mexcept\u001b[0m \u001b[0mIncompleteRead\u001b[0m\u001b[0;34m:\u001b[0m\u001b[0;34m\u001b[0m\u001b[0;34m\u001b[0m\u001b[0m\n\u001b[1;32m    476\u001b[0m                     \u001b[0mself\u001b[0m\u001b[0;34m.\u001b[0m\u001b[0m_close_conn\u001b[0m\u001b[0;34m(\u001b[0m\u001b[0;34m)\u001b[0m\u001b[0;34m\u001b[0m\u001b[0;34m\u001b[0m\u001b[0m\n",
            "\u001b[0;32m/usr/lib/python3.7/http/client.py\u001b[0m in \u001b[0;36m_safe_read\u001b[0;34m(self, amt)\u001b[0m\n\u001b[1;32m    622\u001b[0m         \u001b[0ms\u001b[0m \u001b[0;34m=\u001b[0m \u001b[0;34m[\u001b[0m\u001b[0;34m]\u001b[0m\u001b[0;34m\u001b[0m\u001b[0;34m\u001b[0m\u001b[0m\n\u001b[1;32m    623\u001b[0m         \u001b[0;32mwhile\u001b[0m \u001b[0mamt\u001b[0m \u001b[0;34m>\u001b[0m \u001b[0;36m0\u001b[0m\u001b[0;34m:\u001b[0m\u001b[0;34m\u001b[0m\u001b[0;34m\u001b[0m\u001b[0m\n\u001b[0;32m--> 624\u001b[0;31m             \u001b[0mchunk\u001b[0m \u001b[0;34m=\u001b[0m \u001b[0mself\u001b[0m\u001b[0;34m.\u001b[0m\u001b[0mfp\u001b[0m\u001b[0;34m.\u001b[0m\u001b[0mread\u001b[0m\u001b[0;34m(\u001b[0m\u001b[0mmin\u001b[0m\u001b[0;34m(\u001b[0m\u001b[0mamt\u001b[0m\u001b[0;34m,\u001b[0m \u001b[0mMAXAMOUNT\u001b[0m\u001b[0;34m)\u001b[0m\u001b[0;34m)\u001b[0m\u001b[0;34m\u001b[0m\u001b[0;34m\u001b[0m\u001b[0m\n\u001b[0m\u001b[1;32m    625\u001b[0m             \u001b[0;32mif\u001b[0m \u001b[0;32mnot\u001b[0m \u001b[0mchunk\u001b[0m\u001b[0;34m:\u001b[0m\u001b[0;34m\u001b[0m\u001b[0;34m\u001b[0m\u001b[0m\n\u001b[1;32m    626\u001b[0m                 \u001b[0;32mraise\u001b[0m \u001b[0mIncompleteRead\u001b[0m\u001b[0;34m(\u001b[0m\u001b[0;34mb''\u001b[0m\u001b[0;34m.\u001b[0m\u001b[0mjoin\u001b[0m\u001b[0;34m(\u001b[0m\u001b[0ms\u001b[0m\u001b[0;34m)\u001b[0m\u001b[0;34m,\u001b[0m \u001b[0mamt\u001b[0m\u001b[0;34m)\u001b[0m\u001b[0;34m\u001b[0m\u001b[0;34m\u001b[0m\u001b[0m\n",
            "\u001b[0;32m/usr/lib/python3.7/socket.py\u001b[0m in \u001b[0;36mreadinto\u001b[0;34m(self, b)\u001b[0m\n\u001b[1;32m    587\u001b[0m         \u001b[0;32mwhile\u001b[0m \u001b[0;32mTrue\u001b[0m\u001b[0;34m:\u001b[0m\u001b[0;34m\u001b[0m\u001b[0;34m\u001b[0m\u001b[0m\n\u001b[1;32m    588\u001b[0m             \u001b[0;32mtry\u001b[0m\u001b[0;34m:\u001b[0m\u001b[0;34m\u001b[0m\u001b[0;34m\u001b[0m\u001b[0m\n\u001b[0;32m--> 589\u001b[0;31m                 \u001b[0;32mreturn\u001b[0m \u001b[0mself\u001b[0m\u001b[0;34m.\u001b[0m\u001b[0m_sock\u001b[0m\u001b[0;34m.\u001b[0m\u001b[0mrecv_into\u001b[0m\u001b[0;34m(\u001b[0m\u001b[0mb\u001b[0m\u001b[0;34m)\u001b[0m\u001b[0;34m\u001b[0m\u001b[0;34m\u001b[0m\u001b[0m\n\u001b[0m\u001b[1;32m    590\u001b[0m             \u001b[0;32mexcept\u001b[0m \u001b[0mtimeout\u001b[0m\u001b[0;34m:\u001b[0m\u001b[0;34m\u001b[0m\u001b[0;34m\u001b[0m\u001b[0m\n\u001b[1;32m    591\u001b[0m                 \u001b[0mself\u001b[0m\u001b[0;34m.\u001b[0m\u001b[0m_timeout_occurred\u001b[0m \u001b[0;34m=\u001b[0m \u001b[0;32mTrue\u001b[0m\u001b[0;34m\u001b[0m\u001b[0;34m\u001b[0m\u001b[0m\n",
            "\u001b[0;32m/usr/lib/python3.7/ssl.py\u001b[0m in \u001b[0;36mrecv_into\u001b[0;34m(self, buffer, nbytes, flags)\u001b[0m\n\u001b[1;32m   1069\u001b[0m                   \u001b[0;34m\"non-zero flags not allowed in calls to recv_into() on %s\"\u001b[0m \u001b[0;34m%\u001b[0m\u001b[0;34m\u001b[0m\u001b[0;34m\u001b[0m\u001b[0m\n\u001b[1;32m   1070\u001b[0m                   self.__class__)\n\u001b[0;32m-> 1071\u001b[0;31m             \u001b[0;32mreturn\u001b[0m \u001b[0mself\u001b[0m\u001b[0;34m.\u001b[0m\u001b[0mread\u001b[0m\u001b[0;34m(\u001b[0m\u001b[0mnbytes\u001b[0m\u001b[0;34m,\u001b[0m \u001b[0mbuffer\u001b[0m\u001b[0;34m)\u001b[0m\u001b[0;34m\u001b[0m\u001b[0;34m\u001b[0m\u001b[0m\n\u001b[0m\u001b[1;32m   1072\u001b[0m         \u001b[0;32melse\u001b[0m\u001b[0;34m:\u001b[0m\u001b[0;34m\u001b[0m\u001b[0;34m\u001b[0m\u001b[0m\n\u001b[1;32m   1073\u001b[0m             \u001b[0;32mreturn\u001b[0m \u001b[0msuper\u001b[0m\u001b[0;34m(\u001b[0m\u001b[0;34m)\u001b[0m\u001b[0;34m.\u001b[0m\u001b[0mrecv_into\u001b[0m\u001b[0;34m(\u001b[0m\u001b[0mbuffer\u001b[0m\u001b[0;34m,\u001b[0m \u001b[0mnbytes\u001b[0m\u001b[0;34m,\u001b[0m \u001b[0mflags\u001b[0m\u001b[0;34m)\u001b[0m\u001b[0;34m\u001b[0m\u001b[0;34m\u001b[0m\u001b[0m\n",
            "\u001b[0;32m/usr/lib/python3.7/ssl.py\u001b[0m in \u001b[0;36mread\u001b[0;34m(self, len, buffer)\u001b[0m\n\u001b[1;32m    927\u001b[0m         \u001b[0;32mtry\u001b[0m\u001b[0;34m:\u001b[0m\u001b[0;34m\u001b[0m\u001b[0;34m\u001b[0m\u001b[0m\n\u001b[1;32m    928\u001b[0m             \u001b[0;32mif\u001b[0m \u001b[0mbuffer\u001b[0m \u001b[0;32mis\u001b[0m \u001b[0;32mnot\u001b[0m \u001b[0;32mNone\u001b[0m\u001b[0;34m:\u001b[0m\u001b[0;34m\u001b[0m\u001b[0;34m\u001b[0m\u001b[0m\n\u001b[0;32m--> 929\u001b[0;31m                 \u001b[0;32mreturn\u001b[0m \u001b[0mself\u001b[0m\u001b[0;34m.\u001b[0m\u001b[0m_sslobj\u001b[0m\u001b[0;34m.\u001b[0m\u001b[0mread\u001b[0m\u001b[0;34m(\u001b[0m\u001b[0mlen\u001b[0m\u001b[0;34m,\u001b[0m \u001b[0mbuffer\u001b[0m\u001b[0;34m)\u001b[0m\u001b[0;34m\u001b[0m\u001b[0;34m\u001b[0m\u001b[0m\n\u001b[0m\u001b[1;32m    930\u001b[0m             \u001b[0;32melse\u001b[0m\u001b[0;34m:\u001b[0m\u001b[0;34m\u001b[0m\u001b[0;34m\u001b[0m\u001b[0m\n\u001b[1;32m    931\u001b[0m                 \u001b[0;32mreturn\u001b[0m \u001b[0mself\u001b[0m\u001b[0;34m.\u001b[0m\u001b[0m_sslobj\u001b[0m\u001b[0;34m.\u001b[0m\u001b[0mread\u001b[0m\u001b[0;34m(\u001b[0m\u001b[0mlen\u001b[0m\u001b[0;34m)\u001b[0m\u001b[0;34m\u001b[0m\u001b[0;34m\u001b[0m\u001b[0m\n",
            "\u001b[0;31mKeyboardInterrupt\u001b[0m: "
          ]
        }
      ]
    },
    {
      "cell_type": "code",
      "metadata": {
        "id": "cOJxWjnVID7E"
      },
      "source": [
        "from Numerai.EraSignature import EraToSignature\n",
        "ORTHODOX_FEATURE_PAIRS = pd.read_csv('/content/drive/MyDrive/othodox_feature_pairs.csv')\n",
        "def compute_signatures(sig_size: int, offset=0,ORTHODOX_FEATURE_PAIRS=ORTHODOX_FEATURE_PAIRS, df=TRAIN_DF ):\n",
        "  \"\"\" \n",
        "      Returns a dataframe of signatures. based on the list of feature pairs you pass into the dataframe.\n",
        "      sig_size: int: the number of feature pairs to use for the signature\n",
        "      offset: how many ints forward to move in the sample. \n",
        "      ORTHODOX_FEATURE_PAIRS: a list of feature pairs. Read from memory to have a fixed order. \n",
        "      df: the DataFrame with the order in it\n",
        "  \"\"\"\n",
        "  sig_writer = EraToSignature(ORTHODOX_FEATURE_PAIRS.loc[offset:offset+sig_size]) # init a sigWriter object\n",
        "  sig_dict = {}\n",
        "  for era_num in df['era'].unique():\n",
        "    sig_dict[era_num] = sig_writer.derive_era_signature(df[df['era']==era_num])\n",
        "  return sig_dict\n",
        " \n",
        " \n",
        "def compute_sum_square_residual(sig_a,sig_b) -> float:\n",
        "  \"\"\"\n",
        "    Returns the sum of the squared residual between sig_a and sig_b.\n",
        "    High residuals = dissimilar. \n",
        "  \"\"\"\n",
        "  if sig_a.shape != sig_b.shape:\n",
        "    raise ValueError('You cannot compute_sum_square_residual on different sized Era Signatures')\n",
        "  squre_residual_matrix = np.square(sig_a.values - sig_b.values)\n",
        "  return np.sum(squre_residual_matrix)\n",
        " \n",
        " \n",
        "def get_k_most_similar_eras(taget_sig: pd.DataFrame, sig_dict:dict, K=20) -> list:\n",
        "  \"\"\"\n",
        "    Returns a list of the K most similar era\n",
        "    taget_sig: a Signature df created by the same writer to the one that sig_dict.\n",
        "  \"\"\"\n",
        "  era_similarity = []\n",
        "\n",
        "  for era in sig_dict.keys():\n",
        "    era_similarity.append((era,compute_sum_square_residual(sig_dict[era], target_sig)))\n",
        "\n",
        "  era_similarity.sort(key= lambda x: x[1])\n",
        "  k_most_similar_eras = [x[0] for x in era_similarity[:K]]\n",
        "  return k_most_similar_eras\n",
        " \n",
        "\n"
      ],
      "execution_count": null,
      "outputs": []
    },
    {
      "cell_type": "code",
      "metadata": {
        "colab": {
          "base_uri": "https://localhost:8080/",
          "height": 315
        },
        "id": "KVtOBUvYSnps",
        "outputId": "e4ff79c2-e905-481f-f45f-ea3a0caa8f58"
      },
      "source": [
        "%%time\n",
        "import sklearn.cluster as cluster\n",
        "big_sig_writer = EraToSignature(ORTHODOX_FEATURE_PAIRS.loc[500:600])\n",
        "train_era_sigs = {}\n",
        "flat_sigs =[]\n",
        "for era in TRAIN_DF['era'].unique():\n",
        "  train_df_subset = TRAIN_DF[TRAIN_DF['era'] == era]\n",
        "  signature = big_sig_writer.derive_era_signature(train_df_subset)\n",
        "  flat_signature = signature.values.flatten()\n",
        "  train_era_sigs[era] = flat_signature\n",
        "  flat_sigs.append(flat_signature)\n",
        "\n",
        "model = cluster.KMeans(2) \n",
        "res = model.fit_transform(flat_sigs)\n",
        "plt.scatter(x=[a[0] for a in res], y=[a[1] for a in res])\n",
        "plt.xlabel('X Dimension embedding')\n",
        "plt.ylabel('Y Dimension embedding')\n",
        "plt.show()\n"
      ],
      "execution_count": null,
      "outputs": [
        {
          "output_type": "display_data",
          "data": {
            "image/png": "[encoded data removed]",
            "text/plain": [
              "<Figure size 432x288 with 1 Axes>"
            ]
          },
          "metadata": {
            "tags": [],
            "needs_background": "light"
          }
        },
        {
          "output_type": "stream",
          "text": [
            "CPU times: user 53.7 s, sys: 1.01 s, total: 54.7 s\n",
            "Wall time: 53.5 s\n"
          ],
          "name": "stdout"
        }
      ]
    },
    {
      "cell_type": "code",
      "metadata": {
        "colab": {
          "base_uri": "https://localhost:8080/",
          "height": 279
        },
        "id": "Fmweb5zFh4em",
        "outputId": "f1032b1d-d6f7-4c52-d808-e81726da8799"
      },
      "source": [
        "\n",
        "big_sig_writer = EraToSignature(ORTHODOX_FEATURE_PAIRS.loc[800:900])\n",
        "train_era_sigs = {}\n",
        "flat_sigs =[]\n",
        "for era in TRAIN_DF['era'].unique():\n",
        "  train_df_subset = TRAIN_DF[TRAIN_DF['era'] == era]\n",
        "  signature = big_sig_writer.derive_era_signature(train_df_subset)\n",
        "  flat_signature = signature.values.flatten()\n",
        "  train_era_sigs[era] = flat_signature\n",
        "  flat_sigs.append(flat_signature)\n",
        "\n",
        "model = cluster.KMeans(2) \n",
        "res = model.fit_transform(flat_sigs)\n",
        "plt.scatter(x=[a[0] for a in res], y=[a[1] for a in res])\n",
        "plt.xlabel('X Dimension embedding')\n",
        "plt.ylabel('Y Dimension embedding')\n",
        "plt.show()"
      ],
      "execution_count": null,
      "outputs": [
        {
          "output_type": "display_data",
          "data": {
            "image/png": "[encoded data removed]",
            "text/plain": [
              "<Figure size 432x288 with 1 Axes>"
            ]
          },
          "metadata": {
            "tags": [],
            "needs_background": "light"
          }
        }
      ]
    },
    {
      "cell_type": "code",
      "metadata": {
        "colab": {
          "base_uri": "https://localhost:8080/",
          "height": 279
        },
        "id": "sBudyC4bh74F",
        "outputId": "a1b10228-0afa-4e25-fcee-d1790944e44b"
      },
      "source": [
        "big_sig_writer = EraToSignature(ORTHODOX_FEATURE_PAIRS.loc[1200:1300])\n",
        "train_era_sigs = {}\n",
        "flat_sigs =[]\n",
        "for era in TRAIN_DF['era'].unique():\n",
        "  train_df_subset = TRAIN_DF[TRAIN_DF['era'] == era]\n",
        "  signature = big_sig_writer.derive_era_signature(train_df_subset)\n",
        "  flat_signature = signature.values.flatten()\n",
        "  train_era_sigs[era] = flat_signature\n",
        "  flat_sigs.append(flat_signature)\n",
        "\n",
        "model = cluster.KMeans(2) \n",
        "res = model.fit_transform(flat_sigs)\n",
        "plt.scatter(x=[a[0] for a in res], y=[a[1] for a in res])\n",
        "plt.xlabel('X Dimension embedding')\n",
        "plt.ylabel('Y Dimension embedding')\n",
        "plt.show()"
      ],
      "execution_count": null,
      "outputs": [
        {
          "output_type": "display_data",
          "data": {
            "image/png": "[encoded data removed]",
            "text/plain": [
              "<Figure size 432x288 with 1 Axes>"
            ]
          },
          "metadata": {
            "tags": [],
            "needs_background": "light"
          }
        }
      ]
    },
    {
      "cell_type": "code",
      "metadata": {
        "colab": {
          "base_uri": "https://localhost:8080/",
          "height": 315
        },
        "id": "7mOX0B1Ki_td",
        "outputId": "fecfcd5d-61c1-4b0d-c983-8c292763ad60"
      },
      "source": [
        "%%time\n",
        "big_sig_writer = EraToSignature(ORTHODOX_FEATURE_PAIRS.loc[1200:2300])\n",
        "train_era_sigs = {}\n",
        "flat_sigs =[]\n",
        "for era in TRAIN_DF['era'].unique():\n",
        "  train_df_subset = TRAIN_DF[TRAIN_DF['era'] == era]\n",
        "  signature = big_sig_writer.derive_era_signature(train_df_subset)\n",
        "  flat_signature = signature.values.flatten()\n",
        "  train_era_sigs[era] = flat_signature\n",
        "  flat_sigs.append(flat_signature)\n",
        "\n",
        "model = cluster.KMeans(2,precompute_distances=True) \n",
        "res = model.fit_transform(flat_sigs)\n",
        "plt.scatter(x=[a[0] for a in res], y=[a[1] for a in res])\n",
        "plt.xlabel('X Dimension embedding')\n",
        "plt.ylabel('Y Dimension embedding')\n",
        "plt.show()"
      ],
      "execution_count": null,
      "outputs": [
        {
          "output_type": "display_data",
          "data": {
            "image/png": "[encoded data removed]",
            "text/plain": [
              "<Figure size 432x288 with 1 Axes>"
            ]
          },
          "metadata": {
            "tags": [],
            "needs_background": "light"
          }
        },
        {
          "output_type": "stream",
          "text": [
            "CPU times: user 9min 55s, sys: 6.68 s, total: 10min 2s\n",
            "Wall time: 9min 55s\n"
          ],
          "name": "stdout"
        }
      ]
    },
    {
      "cell_type": "code",
      "metadata": {
        "colab": {
          "base_uri": "https://localhost:8080/",
          "height": 269
        },
        "id": "DHUcO1oFm7wX",
        "outputId": "5c9ac86d-8131-4730-c1d0-79103f1b1420"
      },
      "source": [
        "cluster_centers  = model.cluster_centers_\n",
        "plt.scatter(x=[a for a in cluster_centers[0]], y =[a for a in cluster_centers[1]] )\n",
        "plt.show()"
      ],
      "execution_count": null,
      "outputs": [
        {
          "output_type": "display_data",
          "data": {
            "image/png": "[encoded data removed]",
            "text/plain": [
              "<Figure size 432x288 with 1 Axes>"
            ]
          },
          "metadata": {
            "tags": [],
            "needs_background": "light"
          }
        }
      ]
    },
    {
      "cell_type": "code",
      "metadata": {
        "colab": {
          "base_uri": "https://localhost:8080/"
        },
        "id": "UIBPOwVOnnHm",
        "outputId": "170bd0e6-c9aa-400d-c393-01342408162c"
      },
      "source": [
        "cluster_centers # these are the points in the 'center' of N-demensional space. \n"
      ],
      "execution_count": null,
      "outputs": [
        {
          "output_type": "execute_result",
          "data": {
            "text/plain": [
              "array([[0.03160426, 0.02470133, 0.07860758, ..., 0.04116986, 0.03947272,\n",
              "        0.03619059],\n",
              "       [0.01465858, 0.01359942, 0.12103563, ..., 0.03721521, 0.03321123,\n",
              "        0.0306226 ]])"
            ]
          },
          "metadata": {
            "tags": []
          },
          "execution_count": 25
        }
      ]
    },
    {
      "cell_type": "markdown",
      "metadata": {
        "id": "-mNtpyY8g6fm"
      },
      "source": [
        "### See where the Live Tournament Eras get embedded into the 2d clustering space. "
      ]
    },
    {
      "cell_type": "code",
      "metadata": {
        "colab": {
          "base_uri": "https://localhost:8080/"
        },
        "id": "HP7I_vb7hCxy",
        "outputId": "3199e705-6f31-4146-b016-927c11108def"
      },
      "source": [
        "%%time\n",
        "TOURNAMENT_DF = dl.ping_tournament_data()"
      ],
      "execution_count": null,
      "outputs": [
        {
          "output_type": "stream",
          "text": [
            "Traceback (most recent call last):\n",
            "  File \"/content/Numerai/SimpleScoreCalculator.py\", line 364, in ping_tournament_data\n",
            "    valid_df[\"era\"] = valid_df[\"era\"].apply(lambda x: int(x[3:])) # strip the word 'era' from the era column and cast as an int\n",
            "  File \"/usr/local/lib/python3.7/dist-packages/pandas/core/series.py\", line 4213, in apply\n",
            "    mapped = lib.map_infer(values, f, convert=convert_dtype)\n",
            "  File \"pandas/_libs/lib.pyx\", line 2403, in pandas._libs.lib.map_infer\n",
            "  File \"/content/Numerai/SimpleScoreCalculator.py\", line 364, in <lambda>\n",
            "    valid_df[\"era\"] = valid_df[\"era\"].apply(lambda x: int(x[3:])) # strip the word 'era' from the era column and cast as an int\n",
            "ValueError: invalid literal for int() with base 10: 'X'\n"
          ],
          "name": "stderr"
        },
        {
          "output_type": "stream",
          "text": [
            "CPU times: user 4min 36s, sys: 22 s, total: 4min 58s\n",
            "Wall time: 5min 2s\n"
          ],
          "name": "stdout"
        }
      ]
    },
    {
      "cell_type": "code",
      "metadata": {
        "colab": {
          "base_uri": "https://localhost:8080/"
        },
        "id": "T0FWx-q0q1DQ",
        "outputId": "a0fe0cba-17d9-4ec2-fdba-e76ebb3e00d0"
      },
      "source": [
        "TOURNAMENT_DF['era'].unique()"
      ],
      "execution_count": null,
      "outputs": [
        {
          "output_type": "execute_result",
          "data": {
            "text/plain": [
              "array(['era121', 'era122', 'era123', 'era124', 'era125', 'era126',\n",
              "       'era127', 'era128', 'era129', 'era130', 'era131', 'era132',\n",
              "       'era575', 'era576', 'era577', 'era578', 'era579', 'era580',\n",
              "       'era581', 'era582', 'era583', 'era584', 'era585', 'era586',\n",
              "       'era587', 'era588', 'era589', 'era590', 'era591', 'era592',\n",
              "       'era593', 'era594', 'era595', 'era596', 'era597', 'era598',\n",
              "       'era599', 'era600', 'era601', 'era602', 'era603', 'era604',\n",
              "       'era605', 'era606', 'era607', 'era608', 'era609', 'era610',\n",
              "       'era611', 'era612', 'era613', 'era614', 'era615', 'era616',\n",
              "       'era617', 'era618', 'era619', 'era620', 'era621', 'era622',\n",
              "       'era623', 'era624', 'era625', 'era626', 'era627', 'era628',\n",
              "       'era629', 'era630', 'era631', 'era632', 'era633', 'era634',\n",
              "       'era635', 'era636', 'era637', 'era638', 'era639', 'era640',\n",
              "       'era641', 'era642', 'era643', 'era644', 'era645', 'era646',\n",
              "       'era647', 'era648', 'era649', 'era650', 'era651', 'era652',\n",
              "       'era653', 'era654', 'era655', 'era656', 'era657', 'era658',\n",
              "       'era659', 'era660', 'era661', 'era662', 'era663', 'era664',\n",
              "       'era665', 'era666', 'era667', 'era668', 'era669', 'era670',\n",
              "       'era671', 'era672', 'era673', 'era674', 'era675', 'era676',\n",
              "       'era677', 'era678', 'era679', 'era680', 'era681', 'era682',\n",
              "       'era683', 'era684', 'era685', 'era686', 'era687', 'era688',\n",
              "       'era689', 'era690', 'era691', 'era692', 'era693', 'era694',\n",
              "       'era695', 'era696', 'era697', 'era698', 'era699', 'era700',\n",
              "       'era701', 'era702', 'era703', 'era704', 'era705', 'era706',\n",
              "       'era707', 'era708', 'era709', 'era710', 'era711', 'era712',\n",
              "       'era713', 'era714', 'era715', 'era716', 'era717', 'era718',\n",
              "       'era719', 'era720', 'era721', 'era722', 'era723', 'era724',\n",
              "       'era725', 'era726', 'era727', 'era728', 'era729', 'era730',\n",
              "       'era731', 'era732', 'era733', 'era734', 'era735', 'era736',\n",
              "       'era737', 'era738', 'era739', 'era740', 'era741', 'era742',\n",
              "       'era743', 'era744', 'era745', 'era746', 'era747', 'era748',\n",
              "       'era749', 'era750', 'era751', 'era752', 'era753', 'era754',\n",
              "       'era755', 'era756', 'era757', 'era758', 'era759', 'era760',\n",
              "       'era761', 'era762', 'era763', 'era764', 'era765', 'era766',\n",
              "       'era767', 'era768', 'era769', 'era770', 'era771', 'era772',\n",
              "       'era773', 'era774', 'era775', 'era776', 'era777', 'era778',\n",
              "       'era779', 'era780', 'era781', 'era782', 'era783', 'era784',\n",
              "       'era785', 'era786', 'era787', 'era788', 'era789', 'era790',\n",
              "       'era791', 'era792', 'era793', 'era794', 'era795', 'era796',\n",
              "       'era797', 'era798', 'era799', 'era800', 'era801', 'era802',\n",
              "       'era803', 'era804', 'era805', 'era806', 'era807', 'era808',\n",
              "       'era809', 'era810', 'era811', 'era812', 'era813', 'era814',\n",
              "       'era815', 'era816', 'era817', 'era818', 'era819', 'era820',\n",
              "       'era821', 'era822', 'era823', 'era824', 'era825', 'era826',\n",
              "       'era827', 'era828', 'era829', 'era830', 'era831', 'era832',\n",
              "       'era833', 'era834', 'era835', 'era836', 'era837', 'era838',\n",
              "       'era839', 'era840', 'era841', 'era842', 'era843', 'era844',\n",
              "       'era845', 'era846', 'era847', 'era848', 'era849', 'era850',\n",
              "       'era851', 'era852', 'era197', 'era198', 'era199', 'era200',\n",
              "       'era201', 'era202', 'era203', 'era204', 'era205', 'era206',\n",
              "       'era207', 'era208', 'era209', 'era210', 'era211', 'era212',\n",
              "       'era927', 'era928', 'era929', 'era930', 'era931', 'era932',\n",
              "       'era933', 'era934', 'era935', 'era936', 'era937', 'era938',\n",
              "       'era939', 'era940', 'era941', 'era942', 'era943', 'era944',\n",
              "       'era945', 'era946', 'era947', 'era948', 'era949', 'era950',\n",
              "       'era951', 'era952', 'era953', 'era954', 'era955', 'era956',\n",
              "       'era957', 'era958', 'era959', 'era960', 'era961', 'era962',\n",
              "       'era963', 'era964', 'era965', 'eraX'], dtype=object)"
            ]
          },
          "metadata": {
            "tags": []
          },
          "execution_count": 27
        }
      ]
    },
    {
      "cell_type": "code",
      "metadata": {
        "colab": {
          "base_uri": "https://localhost:8080/"
        },
        "id": "3J6jIVBVqt5Z",
        "outputId": "93b58aaa-4484-4c87-c520-eae9b772cc9c"
      },
      "source": [
        "a_era = TOURNAMENT_DF[TOURNAMENT_DF['era'] == 'era602']\n",
        "tournament_sig = big_sig_writer.derive_era_signature(a_era)\n",
        "flat_tournament_signature = tournament_sig.values.flatten()\n",
        "point = model.transform([flat_tournament_signature])\n",
        "\n",
        "plt.scatter(x=[a[0] for a in res], y=[a[1] for a in res])\n",
        "plt.xlabel('X Dimension embedding')\n",
        "plt.ylabel('Y Dimension embedding')\n",
        "plt.show()\n",
        "\n",
        "#https://stackoverflow.com/questions/53630158/add-points-to-the-existing-matplotlib-scatter-plot \n"
      ],
      "execution_count": null,
      "outputs": [
        {
          "output_type": "execute_result",
          "data": {
            "text/plain": [
              "array([[1.06879604, 2.64178831]])"
            ]
          },
          "metadata": {
            "tags": []
          },
          "execution_count": 35
        }
      ]
    },
    {
      "cell_type": "code",
      "metadata": {
        "colab": {
          "base_uri": "https://localhost:8080/"
        },
        "id": "a4aL1XOoscup",
        "outputId": "9569f6cd-dbbc-402c-84c5-bfc83e25328b"
      },
      "source": [
        "%%time\n",
        "x_list = []\n",
        "y_list = []\n",
        "for i , t in enumerate(TOURNAMENT_DF['era'].unique()):\n",
        "  tournament_era_subset = TOURNAMENT_DF[TOURNAMENT_DF['era'] == t]\n",
        "  tournament_sig = big_sig_writer.derive_era_signature(tournament_era_subset)\n",
        "  flat_tournament_signature = tournament_sig.values.flatten()\n",
        "  point = model.transform(flat_tournament_signature.reshape(1,-1)) # this embeddes it in the cluster distance space\n",
        "  x_list.append(point[0][0])\n",
        "  y_list.append(point[0][1])\n",
        "  if i % 10 == 0:\n",
        "    print(f'call {i} of 340 ish')\n",
        "\n",
        "\n",
        "plt.scatter(x=[a[0] for a in res], y=[a[1] for a in res], color='blue', alpha=.2) # res stores the embedding of the training data\n",
        "plt.scatter(x=x_list, y=y_list, color='red', alpha=.2)\n",
        "plt.xlabel('X Dimension embedding')\n",
        "plt.ylabel('Y Dimension embedding')\n",
        "plt.legend('Red are embedded Training Data, Blue is embeded Tournament Data')\n",
        "plt.show() # should take 25 minutes to run\n"
      ],
      "execution_count": null,
      "outputs": [
        {
          "output_type": "stream",
          "text": [
            "call 0 of 340 ish\n",
            "call 10 of 340 ish\n",
            "call 20 of 340 ish\n",
            "call 30 of 340 ish\n",
            "call 40 of 340 ish\n",
            "call 50 of 340 ish\n",
            "call 60 of 340 ish\n",
            "call 70 of 340 ish\n",
            "call 80 of 340 ish\n",
            "call 90 of 340 ish\n",
            "call 100 of 340 ish\n",
            "call 110 of 340 ish\n",
            "call 120 of 340 ish\n",
            "call 130 of 340 ish\n",
            "call 140 of 340 ish\n",
            "call 150 of 340 ish\n",
            "call 160 of 340 ish\n",
            "call 170 of 340 ish\n",
            "call 180 of 340 ish\n",
            "call 190 of 340 ish\n",
            "call 200 of 340 ish\n",
            "call 210 of 340 ish\n",
            "call 220 of 340 ish\n",
            "call 230 of 340 ish\n",
            "call 240 of 340 ish\n",
            "call 250 of 340 ish\n",
            "call 260 of 340 ish\n",
            "call 270 of 340 ish\n",
            "call 280 of 340 ish\n",
            "call 290 of 340 ish\n",
            "call 300 of 340 ish\n",
            "call 310 of 340 ish\n",
            "call 320 of 340 ish\n",
            "call 330 of 340 ish\n",
            "call 340 of 340 ish\n"
          ],
          "name": "stdout"
        },
        {
          "output_type": "display_data",
          "data": {
            "image/png": "[encoded data removed]",
            "text/plain": [
              "<Figure size 432x288 with 1 Axes>"
            ]
          },
          "metadata": {
            "tags": [],
            "needs_background": "light"
          }
        },
        {
          "output_type": "stream",
          "text": [
            "CPU times: user 29min 43s, sys: 8.95 s, total: 29min 52s\n",
            "Wall time: 29min 41s\n"
          ],
          "name": "stdout"
        }
      ]
    },
    {
      "cell_type": "code",
      "metadata": {
        "colab": {
          "base_uri": "https://localhost:8080/"
        },
        "id": "r2a_mKV7tOXx",
        "outputId": "2aa7c5af-7525-4ccf-afa2-8397718723f2"
      },
      "source": [
        "\n"
      ],
      "execution_count": null,
      "outputs": [
        {
          "output_type": "execute_result",
          "data": {
            "text/plain": [
              "[2.6081892736149093, 2.6232196162715606]"
            ]
          },
          "metadata": {
            "tags": []
          },
          "execution_count": 66
        }
      ]
    },
    {
      "cell_type": "code",
      "metadata": {
        "colab": {
          "base_uri": "https://localhost:8080/",
          "height": 132
        },
        "id": "gUNwSx-is2ni",
        "outputId": "69ef54a1-a95a-4f0b-95e6-ad2b5520f707"
      },
      "source": [
        ""
      ],
      "execution_count": null,
      "outputs": [
        {
          "output_type": "error",
          "ename": "SyntaxError",
          "evalue": "ignored",
          "traceback": [
            "\u001b[0;36m  File \u001b[0;32m\"<ipython-input-69-4a9d214c661a>\"\u001b[0;36m, line \u001b[0;32m2\u001b[0m\n\u001b[0;31m    plt.scatter(x=x_list, y=y_list, color='red'alpha=.2)\u001b[0m\n\u001b[0m                                                   ^\u001b[0m\n\u001b[0;31mSyntaxError\u001b[0m\u001b[0;31m:\u001b[0m invalid syntax\n"
          ]
        }
      ]
    },
    {
      "cell_type": "markdown",
      "metadata": {
        "id": "s1aWk5gMrTY3"
      },
      "source": [
        "# Jaccard Similarity between K most similar eras\n",
        "\n",
        "This is to see how good the signatures are accross different eras.\n",
        "\n",
        "\n",
        "\n",
        "\n",
        "\n",
        "\n",
        "\n",
        "\n",
        "\n",
        "\n",
        "\n",
        "\n",
        "a\n",
        "a\n",
        "a\n",
        "\n",
        "a\n",
        "aa\n",
        "a\n",
        "a\n",
        "\n",
        "a\n",
        "a\n",
        "aa\n",
        "a\n",
        "a\n",
        "da"
      ]
    },
    {
      "cell_type": "code",
      "metadata": {
        "id": "P8KZY0auOHs5"
      },
      "source": [
        "%%time\n",
        "\n",
        "k_most_similar_first_sig_dict = {}\n",
        "\n",
        "for target_era in TRAIN_DF['era'].unique():\n",
        "  target_sig = sig_dict[target_era]\n",
        "  k_most_similar_first_sig_dict[target_era] = get_k_most_similar_eras(target_sig, sig_dict,K=30)\n",
        "\n",
        "k_most_similar_second_sig_dict = {}\n",
        "\n",
        "for target_era in TRAIN_DF['era'].unique():\n",
        "  target_sig = sig_dict_v2[target_era]\n",
        "  k_most_similar_second_sig_dict[target_era] = get_k_most_similar_eras(target_sig, sig_dict_v2, K=30)\n",
        "  # print(get_k_most_similar_eras(target_sig, sig_dict))"
      ],
      "execution_count": null,
      "outputs": []
    },
    {
      "cell_type": "code",
      "metadata": {
        "id": "LOCjobuAV67v"
      },
      "source": [
        "jaccards = []\n",
        "for era in TRAIN_DF['era'].unique():\n",
        "  sig_1_similar_eras = set(k_most_similar_second_sig_dict[era])\n",
        "  sig_2_similar_eras = set(k_most_similar_first_sig_dict[era])\n",
        "  # print(sig_1_similar_eras)\n",
        "  # print(sig_2_similar_eras)\n",
        "  num_interection = len(sig_1_similar_eras.intersection(sig_2_similar_eras))\n",
        "  num_union = len(sig_1_similar_eras.union(sig_2_similar_eras))\n",
        "  jaccard_sim = num_interection / num_union\n",
        "  jaccards.append([era,jaccard_sim])\n",
        "\n",
        "pd.DataFrame(jaccards)[1].mean() # average on training set jaccard similiarty of 30 most similar eras. "
      ],
      "execution_count": null,
      "outputs": []
    },
    {
      "cell_type": "code",
      "metadata": {
        "id": "ECJIafs-SOnd"
      },
      "source": [
        "%%time\n",
        "TOURNAMENT_DF = dl.ping_tournament_data()"
      ],
      "execution_count": null,
      "outputs": []
    },
    {
      "cell_type": "markdown",
      "metadata": {
        "id": "pkQwhuBTgo__"
      },
      "source": [
        "### lets look at the Jaccard sim on the Tournament Dataset\n"
      ]
    },
    {
      "cell_type": "code",
      "metadata": {
        "id": "1q-kKzpMgunj"
      },
      "source": [
        "%%time\n",
        "tournament_sig_dict = compute_signatures(sig_size=1000, df=TOURNAMENT_DF) # signatures take 25 minutes when len is 1_000  I don't really have to optimized this. \n",
        "tournament_sig_dict_v2 = compute_signatures(sig_size=1000,offset=2000, df=TOURNAMENT_DF) # these are done with st"
      ],
      "execution_count": null,
      "outputs": []
    },
    {
      "cell_type": "code",
      "metadata": {
        "id": "cSf4o4wAtOgG"
      },
      "source": [
        "tournament_sig_dict.keys()"
      ],
      "execution_count": null,
      "outputs": []
    },
    {
      "cell_type": "code",
      "metadata": {
        "id": "Sy-JeuykuY8u"
      },
      "source": [
        "\n",
        "tournament_era = 'era759'\n",
        "line_points = []\n",
        "eras = []\n",
        "for i in range(1,100):\n",
        "  point = compute_sum_square_residual(sig_dict[i], tournament_sig_dict[tournament_era])\n",
        "  line_points.append(point)\n",
        "  eras.append(i)\n",
        "\n",
        "\n",
        "\n",
        "plt.plot(x=np.array(line_points),y=np.array(eras), linestyle = 'dotted', kind='scatter')\n",
        "plt.xlabel('TrainingEra')\n",
        "plt.ylabel('Sum Square Residule')\n",
        "plt.title(f'residual with training era signautres for trounament era {tournament_era}')\n",
        "plt.show()\n"
      ],
      "execution_count": null,
      "outputs": []
    },
    {
      "cell_type": "code",
      "metadata": {
        "id": "QYR64866zNgu"
      },
      "source": [
        "from matplotlib.pyplot import figure\n",
        "\n",
        "figure(figsize=(8, 6), dpi=80)"
      ],
      "execution_count": null,
      "outputs": []
    },
    {
      "cell_type": "code",
      "metadata": {
        "id": "CkvdMOdlwCwC"
      },
      "source": [
        "%%time\n",
        "\n",
        "all_lines = []\n",
        "for tournament_era in TOURNAMENT_DF['era'].unique():\n",
        "  line_points = []\n",
        "  for i in range(1,120):\n",
        "    point = compute_sum_square_residual(sig_dict[i], tournament_sig_dict[tournament_era])\n",
        "    line_points.append(point)\n",
        "    \n",
        "  plt.plot(np.array(line_points), linestyle = 'dotted')\n",
        "  plt.xlabel('TrainingEra')\n",
        "  plt.ylabel('Sum Square Residule')\n",
        "  plt.title(f'residual with training era signautres for trounament era {tournament_era}')\n",
        "  plt.show()\n",
        "  all_lines.append(line_points)\n",
        "\n",
        "all_residuals = pd.DataFrame(all_lines)"
      ],
      "execution_count": null,
      "outputs": []
    },
    {
      "cell_type": "code",
      "metadata": {
        "id": "qnMLyV6My6_j"
      },
      "source": [
        "len(TOURNAMENT_DF['era'].unique())"
      ],
      "execution_count": null,
      "outputs": []
    },
    {
      "cell_type": "code",
      "metadata": {
        "id": "TZUSd8T2yFS_"
      },
      "source": [
        "all_residuals.index # index is the tournament\n"
      ],
      "execution_count": null,
      "outputs": []
    },
    {
      "cell_type": "code",
      "metadata": {
        "id": "7L9p9ivOwYcf"
      },
      "source": [
        "\n",
        "\n",
        "fig = plt.gcf()\n",
        "fig.set_size_inches(18.5, 10.5)\n",
        "plt.plot(all_residuals)"
      ],
      "execution_count": null,
      "outputs": []
    },
    {
      "cell_type": "markdown",
      "metadata": {
        "id": "I44nBgdp1EM5"
      },
      "source": [
        "These lines have essentialy the same slope just a shift up or a shift down. I don't know why this happens. \n",
        "\n",
        "The X-axis is the tournament df era, the Y-axis is the Residual\n",
        "\n",
        "In all_residuals the Columns are The Training Eras. The rows are the Trounament Eras. "
      ]
    },
    {
      "cell_type": "code",
      "metadata": {
        "id": "KkUfP5AV0oZz"
      },
      "source": [
        "import seaborn as sns\n",
        "sample_all_res = all_residuals.loc[50,:] # residule for a \n",
        "\n",
        "sns.scatterplot(data=sample_all_res)"
      ],
      "execution_count": null,
      "outputs": []
    },
    {
      "cell_type": "code",
      "metadata": {
        "id": "ohS9yom63Vb5"
      },
      "source": [
        "plt.plot(all_residuals.mean())"
      ],
      "execution_count": null,
      "outputs": []
    },
    {
      "cell_type": "markdown",
      "metadata": {
        "id": "-I0NoTL2P4P6"
      },
      "source": [
        "# Signature Emeddings\n"
      ]
    },
    {
      "cell_type": "code",
      "metadata": {
        "id": "7kb05nwvs9Wb"
      },
      "source": [
        "import sklearn.cluster as cluster\n",
        "\n",
        "small_sig_writer = EraToSignature(ORTHODOX_FEATURE_PAIRS.loc[0:10])\n",
        "\n",
        "train_era_sigs = {}\n",
        "flat_sigs =[]\n",
        "for era in TRAIN_DF['era'].unique():\n",
        "  train_df_subset = TRAIN_DF[TRAIN_DF['era'] == era]\n",
        "  signature = small_sig_writer.derive_era_signature(train_df_subset)\n",
        "  flat_signature = signature.values.flatten()\n",
        "  train_era_sigs[era] = flat_signature\n",
        "  flat_sigs.append(flat_signature)\n",
        "  \n",
        "model = cluster.KMeans(2) \n",
        "res = model.fit_transform(flat_sigs)\n",
        "plt.scatter(x=[a[0] for a in res], y=[a[1] for a in res])\n",
        "plt.show()"
      ],
      "execution_count": null,
      "outputs": []
    },
    {
      "cell_type": "code",
      "metadata": {
        "id": "klLS57g6RtBq"
      },
      "source": [
        ""
      ],
      "execution_count": null,
      "outputs": []
    },
    {
      "cell_type": "code",
      "metadata": {
        "id": "g1oySuS9Ut3y"
      },
      "source": [
        "big_sig_writer = EraToSignature(ORTHODOX_FEATURE_PAIRS.loc[100:300])\n",
        "\n",
        "train_era_sigs = {}\n",
        "flat_sigs =[]\n",
        "for era in TRAIN_DF['era'].unique():\n",
        "  train_df_subset = TRAIN_DF[TRAIN_DF['era'] == era]\n",
        "  signature = big_sig_writer.derive_era_signature(train_df_subset)\n",
        "  flat_signature = signature.values.flatten()\n",
        "  train_era_sigs[era] = flat_signature\n",
        "  flat_sigs.append(flat_signature)\n",
        "\n",
        "model = cluster.KMeans(8) \n",
        "res = model.fit_transform(flat_sigs)\n",
        "plt.scatter(x=[a[0] for a in res], y=[a[1] for a in res])\n",
        "plt.show()\n",
        "plt.scatter(x=[a[0] for a in res], y=[a[2] for a in res])\n",
        "plt.show()\n",
        "plt.scatter(x=[a[1] for a in res], y=[a[2] for a in res])\n",
        "plt.show()\n"
      ],
      "execution_count": null,
      "outputs": []
    }
  ]
}