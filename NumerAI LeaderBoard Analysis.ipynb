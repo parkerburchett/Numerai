{
 "cells": [
  {
   "cell_type": "markdown",
   "metadata": {},
   "source": [
    "# Exploring the stats on the leaderboard\r\n",
    "\r\n",
    "# REWRITE THIS TO BE CLEARER\r\n",
    "\r\n",
    "Hi everybody I'm MRQUANTSALOT and made this nodebook to do some data analysis on the leaderboard. \r\n",
    "\r\n",
    "If you have any feedback or suggestions please let me know in this forum post \"link to forum\"\r\n",
    "\r\n",
    "This notebook does the following:\r\n",
    "\r\n",
    "1. Ping the Leaderboard and cast it as a Pandas Dataframe\r\n",
    "2. Graph of the distribtion of, and corrilation between different varialble.\r\n",
    "3. OLS regression on between CORR, FNC, MMC, Stake and Returns\r\n"
   ]
  },
  {
   "cell_type": "code",
   "execution_count": 1,
   "metadata": {},
   "outputs": [
    {
     "name": "stdout",
     "output_type": "stream",
     "text": [
      "Requirement already satisfied: numpy in c:\\users\\parke\\appdata\\local\\packages\\pythonsoftwarefoundation.python.3.9_qbz5n2kfra8p0\\localcache\\local-packages\\python39\\site-packages (1.20.1)\n"
     ]
    },
    {
     "name": "stderr",
     "output_type": "stream",
     "text": [
      "WARNING: You are using pip version 20.2.3; however, version 21.0.1 is available.\n",
      "You should consider upgrading via the 'C:\\Users\\parke\\AppData\\Local\\Microsoft\\WindowsApps\\PythonSoftwareFoundation.Python.3.9_qbz5n2kfra8p0\\python.exe -m pip install --upgrade pip' command.\n"
     ]
    },
    {
     "name": "stdout",
     "output_type": "stream",
     "text": [
      "Requirement already satisfied: pandas in c:\\users\\parke\\appdata\\local\\packages\\pythonsoftwarefoundation.python.3.9_qbz5n2kfra8p0\\localcache\\local-packages\\python39\\site-packages (1.2.3)\n",
      "Requirement already satisfied: pytz>=2017.3 in c:\\users\\parke\\appdata\\local\\packages\\pythonsoftwarefoundation.python.3.9_qbz5n2kfra8p0\\localcache\\local-packages\\python39\\site-packages (from pandas) (2021.1)\n",
      "Requirement already satisfied: numpy>=1.16.5 in c:\\users\\parke\\appdata\\local\\packages\\pythonsoftwarefoundation.python.3.9_qbz5n2kfra8p0\\localcache\\local-packages\\python39\\site-packages (from pandas) (1.20.1)\n",
      "Requirement already satisfied: python-dateutil>=2.7.3 in c:\\users\\parke\\appdata\\local\\packages\\pythonsoftwarefoundation.python.3.9_qbz5n2kfra8p0\\localcache\\local-packages\\python39\\site-packages (from pandas) (2.8.1)\n",
      "Requirement already satisfied: six>=1.5 in c:\\users\\parke\\appdata\\local\\packages\\pythonsoftwarefoundation.python.3.9_qbz5n2kfra8p0\\localcache\\local-packages\\python39\\site-packages (from python-dateutil>=2.7.3->pandas) (1.15.0)\n"
     ]
    },
    {
     "name": "stderr",
     "output_type": "stream",
     "text": [
      "WARNING: You are using pip version 20.2.3; however, version 21.0.1 is available.\n",
      "You should consider upgrading via the 'C:\\Users\\parke\\AppData\\Local\\Microsoft\\WindowsApps\\PythonSoftwareFoundation.Python.3.9_qbz5n2kfra8p0\\python.exe -m pip install --upgrade pip' command.\n",
      "ERROR: Could not find a version that satisfies the requirement json (from versions: none)\n",
      "ERROR: No matching distribution found for json\n",
      "WARNING: You are using pip version 20.2.3; however, version 21.0.1 is available.\n",
      "You should consider upgrading via the 'C:\\Users\\parke\\AppData\\Local\\Microsoft\\WindowsApps\\PythonSoftwareFoundation.Python.3.9_qbz5n2kfra8p0\\python.exe -m pip install --upgrade pip' command.\n"
     ]
    },
    {
     "name": "stdout",
     "output_type": "stream",
     "text": [
      "Requirement already satisfied: requests in c:\\users\\parke\\appdata\\local\\packages\\pythonsoftwarefoundation.python.3.9_qbz5n2kfra8p0\\localcache\\local-packages\\python39\\site-packages (2.25.1)\n",
      "Requirement already satisfied: certifi>=2017.4.17 in c:\\users\\parke\\appdata\\local\\packages\\pythonsoftwarefoundation.python.3.9_qbz5n2kfra8p0\\localcache\\local-packages\\python39\\site-packages (from requests) (2020.12.5)\n",
      "Requirement already satisfied: urllib3<1.27,>=1.21.1 in c:\\users\\parke\\appdata\\local\\packages\\pythonsoftwarefoundation.python.3.9_qbz5n2kfra8p0\\localcache\\local-packages\\python39\\site-packages (from requests) (1.26.3)\n",
      "Requirement already satisfied: chardet<5,>=3.0.2 in c:\\users\\parke\\appdata\\local\\packages\\pythonsoftwarefoundation.python.3.9_qbz5n2kfra8p0\\localcache\\local-packages\\python39\\site-packages (from requests) (4.0.0)\n",
      "Requirement already satisfied: idna<3,>=2.5 in c:\\users\\parke\\appdata\\local\\packages\\pythonsoftwarefoundation.python.3.9_qbz5n2kfra8p0\\localcache\\local-packages\\python39\\site-packages (from requests) (2.10)\n"
     ]
    },
    {
     "name": "stderr",
     "output_type": "stream",
     "text": [
      "WARNING: You are using pip version 20.2.3; however, version 21.0.1 is available.\n",
      "You should consider upgrading via the 'C:\\Users\\parke\\AppData\\Local\\Microsoft\\WindowsApps\\PythonSoftwareFoundation.Python.3.9_qbz5n2kfra8p0\\python.exe -m pip install --upgrade pip' command.\n",
      "ERROR: Could not find a version that satisfies the requirement matplotlit (from versions: none)\n",
      "ERROR: No matching distribution found for matplotlit\n",
      "WARNING: You are using pip version 20.2.3; however, version 21.0.1 is available.\n",
      "You should consider upgrading via the 'C:\\Users\\parke\\AppData\\Local\\Microsoft\\WindowsApps\\PythonSoftwareFoundation.Python.3.9_qbz5n2kfra8p0\\python.exe -m pip install --upgrade pip' command.\n"
     ]
    },
    {
     "name": "stdout",
     "output_type": "stream",
     "text": [
      "Requirement already satisfied: statsmodels in c:\\users\\parke\\appdata\\local\\packages\\pythonsoftwarefoundation.python.3.9_qbz5n2kfra8p0\\localcache\\local-packages\\python39\\site-packages (0.12.2)\n",
      "Requirement already satisfied: scipy>=1.1 in c:\\users\\parke\\appdata\\local\\packages\\pythonsoftwarefoundation.python.3.9_qbz5n2kfra8p0\\localcache\\local-packages\\python39\\site-packages (from statsmodels) (1.6.1)\n",
      "Requirement already satisfied: patsy>=0.5 in c:\\users\\parke\\appdata\\local\\packages\\pythonsoftwarefoundation.python.3.9_qbz5n2kfra8p0\\localcache\\local-packages\\python39\\site-packages (from statsmodels) (0.5.1)\n",
      "Requirement already satisfied: numpy>=1.15 in c:\\users\\parke\\appdata\\local\\packages\\pythonsoftwarefoundation.python.3.9_qbz5n2kfra8p0\\localcache\\local-packages\\python39\\site-packages (from statsmodels) (1.20.1)\n",
      "Requirement already satisfied: pandas>=0.21 in c:\\users\\parke\\appdata\\local\\packages\\pythonsoftwarefoundation.python.3.9_qbz5n2kfra8p0\\localcache\\local-packages\\python39\\site-packages (from statsmodels) (1.2.3)\n",
      "Requirement already satisfied: six in c:\\users\\parke\\appdata\\local\\packages\\pythonsoftwarefoundation.python.3.9_qbz5n2kfra8p0\\localcache\\local-packages\\python39\\site-packages (from patsy>=0.5->statsmodels) (1.15.0)\n",
      "Requirement already satisfied: python-dateutil>=2.7.3 in c:\\users\\parke\\appdata\\local\\packages\\pythonsoftwarefoundation.python.3.9_qbz5n2kfra8p0\\localcache\\local-packages\\python39\\site-packages (from pandas>=0.21->statsmodels) (2.8.1)\n",
      "Requirement already satisfied: pytz>=2017.3 in c:\\users\\parke\\appdata\\local\\packages\\pythonsoftwarefoundation.python.3.9_qbz5n2kfra8p0\\localcache\\local-packages\\python39\\site-packages (from pandas>=0.21->statsmodels) (2021.1)\n"
     ]
    },
    {
     "name": "stderr",
     "output_type": "stream",
     "text": [
      "WARNING: You are using pip version 20.2.3; however, version 21.0.1 is available.\n",
      "You should consider upgrading via the 'C:\\Users\\parke\\AppData\\Local\\Microsoft\\WindowsApps\\PythonSoftwareFoundation.Python.3.9_qbz5n2kfra8p0\\python.exe -m pip install --upgrade pip' command.\n"
     ]
    }
   ],
   "source": [
    "!pip install numpy\r\n",
    "!pip install pandas \r\n",
    "!pip install json \r\n",
    "!pip install requests \r\n",
    "!pip install matplotlit\r\n",
    "!pip install statsmodels "
   ]
  },
  {
   "cell_type": "markdown",
   "metadata": {},
   "source": [
    "# Import packages"
   ]
  },
  {
   "cell_type": "code",
   "execution_count": 2,
   "metadata": {},
   "outputs": [],
   "source": [
    "import requests\r\n",
    "import json\r\n",
    "import numpy as np\r\n",
    "import pandas as pd\r\n",
    "import matplotlib.pyplot as plt\r\n",
    "import statsmodels.api as sm"
   ]
  },
  {
   "cell_type": "markdown",
   "metadata": {},
   "source": [
    "# Ping the Leaderboard"
   ]
  },
  {
   "cell_type": "code",
   "execution_count": 3,
   "metadata": {},
   "outputs": [
    {
     "name": "stdout",
     "output_type": "stream",
     "text": [
      "corrRep       5126\n",
      "fncRep        5126\n",
      "mmcRep        5126\n",
      "nmrStaked     5126\n",
      "rank          5126\n",
      "3M_returns    1871\n",
      "1Y_returns     398\n",
      "1D_returns    2395\n",
      "username      5126\n",
      "dtype: int64\n"
     ]
    },
    {
     "data": {
      "text/html": "<div>\n<style scoped>\n    .dataframe tbody tr th:only-of-type {\n        vertical-align: middle;\n    }\n\n    .dataframe tbody tr th {\n        vertical-align: top;\n    }\n\n    .dataframe thead th {\n        text-align: right;\n    }\n</style>\n<table border=\"1\" class=\"dataframe\">\n  <thead>\n    <tr style=\"text-align: right;\">\n      <th></th>\n      <th>corrRep</th>\n      <th>fncRep</th>\n      <th>mmcRep</th>\n      <th>nmrStaked</th>\n      <th>rank</th>\n      <th>3M_returns</th>\n      <th>1Y_returns</th>\n      <th>1D_returns</th>\n      <th>username</th>\n    </tr>\n  </thead>\n  <tbody>\n    <tr>\n      <th>0</th>\n      <td>0.051299</td>\n      <td>0.013977</td>\n      <td>0.023419</td>\n      <td>775.855097</td>\n      <td>1</td>\n      <td>161.226172</td>\n      <td>NaN</td>\n      <td>-2.208261</td>\n      <td>quantyquant</td>\n    </tr>\n    <tr>\n      <th>1</th>\n      <td>0.048649</td>\n      <td>0.008177</td>\n      <td>0.021808</td>\n      <td>931.557869</td>\n      <td>2</td>\n      <td>156.947646</td>\n      <td>509.068926</td>\n      <td>-3.127175</td>\n      <td>benben11</td>\n    </tr>\n    <tr>\n      <th>2</th>\n      <td>0.048194</td>\n      <td>0.025251</td>\n      <td>0.019872</td>\n      <td>95.382757</td>\n      <td>3</td>\n      <td>55.924323</td>\n      <td>217.778678</td>\n      <td>-2.875499</td>\n      <td>labrat</td>\n    </tr>\n    <tr>\n      <th>3</th>\n      <td>0.042151</td>\n      <td>0.018633</td>\n      <td>0.014259</td>\n      <td>0.000000</td>\n      <td>4</td>\n      <td>NaN</td>\n      <td>NaN</td>\n      <td>NaN</td>\n      <td>ezekiel_47_v12</td>\n    </tr>\n    <tr>\n      <th>4</th>\n      <td>0.041467</td>\n      <td>0.015879</td>\n      <td>0.016793</td>\n      <td>0.000000</td>\n      <td>5</td>\n      <td>NaN</td>\n      <td>NaN</td>\n      <td>0.912701</td>\n      <td>uuazed4</td>\n    </tr>\n  </tbody>\n</table>\n</div>",
      "text/plain": "    corrRep    fncRep    mmcRep   nmrStaked  rank  3M_returns  1Y_returns  \\\n0  0.051299  0.013977  0.023419  775.855097     1  161.226172         NaN   \n1  0.048649  0.008177  0.021808  931.557869     2  156.947646  509.068926   \n2  0.048194  0.025251  0.019872   95.382757     3   55.924323  217.778678   \n3  0.042151  0.018633  0.014259    0.000000     4         NaN         NaN   \n4  0.041467  0.015879  0.016793    0.000000     5         NaN         NaN   \n\n   1D_returns        username  \n0   -2.208261     quantyquant  \n1   -3.127175        benben11  \n2   -2.875499          labrat  \n3         NaN  ezekiel_47_v12  \n4    0.912701         uuazed4  "
     },
     "execution_count": 3,
     "metadata": {},
     "output_type": "execute_result"
    }
   ],
   "source": [
    "def get_leaderboard() -> pd.DataFrame:\r\n",
    "    \"\"\"\r\n",
    "        Ping the Numerai leaderboard and return a Pandas DataFrame of the contents.\r\n",
    "        https://numer.ai/tournament\r\n",
    "\r\n",
    "    \"\"\"\r\n",
    "    url = 'https://api-tournament.numer.ai/'\r\n",
    "    # this is a graph QL query, that lets me get exaclty and only the data I want. \r\n",
    "    query = \"\"\"{ \r\n",
    "\tv2Leaderboard {\r\n",
    "\t    returns\r\n",
    "        corrRep\r\n",
    "        fncRep\r\n",
    "        mmcRep\r\n",
    "        username\r\n",
    "        nmrStaked\r\n",
    "        returns \r\n",
    "        return_52Weeks\r\n",
    "        return_13Weeks\r\n",
    "        rank\r\n",
    "\t    }  \r\n",
    "    }\"\"\"\r\n",
    "    r = requests.post(url=url, json={'query': query})\r\n",
    "    json_data = json.loads(r.text)\r\n",
    "    df_data = json_data['data']['v2Leaderboard']\r\n",
    "    df = pd.DataFrame(df_data)\r\n",
    "    df.convert_dtypes() # the auto casts the columns into what it thinks is the most appropriate \r\n",
    "    df['nmrStaked'] = pd.to_numeric(df['nmrStaked'])\r\n",
    "    df = df.rename(columns={'returns': '1D_returns', 'return_13Weeks': '3M_returns', 'return_52Weeks': '1Y_returns'})\r\n",
    "    return df\r\n",
    "\r\n",
    "df =  get_leaderboard()\r\n",
    "print(df.count())\r\n",
    "df.head()\r\n"
   ]
  },
  {
   "cell_type": "markdown",
   "metadata": {},
   "source": [
    "# Methods to create plots\r\n",
    "\r\n",
    "### Each method has the optional param min_stake. Use it to exclude smaller stakeing users. \r\n"
   ]
  },
  {
   "cell_type": "code",
   "execution_count": 4,
   "metadata": {},
   "outputs": [],
   "source": [
    "def create_box_plot(df, col='corrRep', min_stake=0):\r\n",
    "    x = df[(df[col].notnull()) & (df['nmrStaked'] > min_stake)][col]\r\n",
    "    is_null = df[(df[col].notnull() == False)][col]\r\n",
    "    print(is_null.head())\r\n",
    "    plt.boxplot(x, vert=False)\r\n",
    "    num_elements = x.count()\r\n",
    "    plt.title(\r\n",
    "        f'Distribution of {col} nmrStaked>{min_stake}\\n Number of Elements:{num_elements}'\r\n",
    "    )\r\n",
    "    plt.xlabel(col)\r\n",
    "    plt.show()\r\n",
    "\r\n",
    "\r\n",
    "def create_scatter_plot(df, x_name='corrRep', y_name='fncRep', min_stake=0):\r\n",
    "    x = df[(df[x_name].notnull()) & (df['nmrStaked'] > min_stake)][x_name]\r\n",
    "    y = df[(df[x_name].notnull()) & (df['nmrStaked'] > min_stake)][y_name]\r\n",
    "    plt.scatter(x, y, s=.5)\r\n",
    "    plt.xlabel(x_name)\r\n",
    "    plt.ylabel(y_name)\r\n",
    "    num_elements = x.count()\r\n",
    "    plt.title(\r\n",
    "        f'{y_name} v {x_name} when nmrStaked>{min_stake}\\n Number of Elements:{num_elements}'\r\n",
    "    )\r\n",
    "    plt.show()\r\n",
    "\r\n",
    "\r\n",
    "def create_histogram(df, col='corrRep', bins=50, min_stake=0):\r\n",
    "    x = df[(df[col].notnull()) & (df['nmrStaked'] > min_stake)][col]\r\n",
    "    plt.hist(x, bins)\r\n",
    "    plt.xlabel(col)\r\n",
    "    plt.ylabel('Count')\r\n",
    "    num_elements = x.count()\r\n",
    "    plt.title(\r\n",
    "        f'Histogram of {col} when nmrStaked>{min_stake}\\n Number of Elements:{num_elements}'\r\n",
    "    )\r\n",
    "    plt.show()\r\n",
    "\r\n",
    "\r\n",
    "# Change the plot sizes to fit your screen\r\n",
    "plt.rcParams[\"figure.figsize\"] = (6,6)"
   ]
  },
  {
   "cell_type": "code",
   "execution_count": 15,
   "metadata": {},
   "outputs": [
    {
     "data": {
      "image/png": "[encoded data removed]",
      "text/plain": "<Figure size 432x432 with 1 Axes>"
     },
     "metadata": {
      "needs_background": "light"
     },
     "output_type": "display_data"
    },
    {
     "data": {
      "image/png": "[encoded data removed]",
      "text/plain": "<Figure size 432x432 with 1 Axes>"
     },
     "metadata": {
      "needs_background": "light"
     },
     "output_type": "display_data"
    },
    {
     "data": {
      "image/png": "[encoded data removed]",
      "text/plain": "<Figure size 432x432 with 1 Axes>"
     },
     "metadata": {
      "needs_background": "light"
     },
     "output_type": "display_data"
    },
    {
     "data": {
      "image/png": "[encoded data removed]",
      "text/plain": "<Figure size 432x432 with 1 Axes>"
     },
     "metadata": {
      "needs_background": "light"
     },
     "output_type": "display_data"
    }
   ],
   "source": [
    "stake_size = 0 \r\n",
    "create_histogram(df,col='3M_returns', min_stake=0)\r\n",
    "create_histogram(df,col='3M_returns', min_stake=1)\r\n",
    "create_histogram(df,col='3M_returns', min_stake=10)\r\n",
    "create_histogram(df, col='3M_returns',min_stake=100)"
   ]
  },
  {
   "cell_type": "markdown",
   "metadata": {},
   "source": [
    "# Graphs of only the Users with a stake >100"
   ]
  },
  {
   "cell_type": "code",
   "execution_count": 6,
   "metadata": {},
   "outputs": [
    {
     "name": "stdout",
     "output_type": "stream",
     "text": [
      "Series([], Name: corrRep, dtype: float64)\n"
     ]
    },
    {
     "data": {
      "image/png": "[encoded data removed]",
      "text/plain": "<Figure size 432x432 with 1 Axes>"
     },
     "metadata": {
      "needs_background": "light"
     },
     "output_type": "display_data"
    },
    {
     "data": {
      "image/png": "[encoded data removed]",
      "text/plain": "<Figure size 432x432 with 1 Axes>"
     },
     "metadata": {
      "needs_background": "light"
     },
     "output_type": "display_data"
    },
    {
     "data": {
      "image/png": "[encoded data removed]",
      "text/plain": "<Figure size 432x432 with 1 Axes>"
     },
     "metadata": {
      "needs_background": "light"
     },
     "output_type": "display_data"
    }
   ],
   "source": [
    "\r\n",
    "\r\n",
    "create_box_plot(df, min_stake=stake_size)\r\n",
    "create_histogram(df, min_stake=stake_size)\r\n",
    "create_scatter_plot(df, min_stake=stake_size)"
   ]
  },
  {
   "cell_type": "markdown",
   "metadata": {},
   "source": [
    "This makes intutive sense the people who are staking larger amounts of money on their models probobly have better models than your average Joe."
   ]
  },
  {
   "cell_type": "markdown",
   "metadata": {},
   "source": [
    "## Methods to compute Ordinary Least Squares regresssion. \r\n"
   ]
  },
  {
   "cell_type": "code",
   "execution_count": 7,
   "metadata": {},
   "outputs": [],
   "source": [
    "def compute_single_regression(df,\r\n",
    "                              independent_variable='corrRep',\r\n",
    "                              dependent_variable='3M_returns',\r\n",
    "                              min_stake=0):\r\n",
    "\r\n",
    "    x = df[(df[dependent_variable].notnull())\r\n",
    "           & (df['nmrStaked'] > min_stake)][independent_variable]\r\n",
    "    y = df[(df[dependent_variable].notnull())\r\n",
    "           & (df['nmrStaked'] > min_stake)][dependent_variable]\r\n",
    "    model = sm.OLS(y, x)\r\n",
    "    results = model.fit()\r\n",
    "    print(results.summary())\r\n",
    "\r\n",
    "\r\n",
    "def compute_multiple_regression(\r\n",
    "        df,\r\n",
    "        indepenent_variables=['corrRep', 'fncRep', 'mmcRep', 'nmrStaked'],\r\n",
    "        dependent_variable='3M_returns',\r\n",
    "        min_stake=0):\r\n",
    "    x = df[(df[dependent_variable].notnull())\r\n",
    "           & (df['nmrStaked'] > min_stake)][indepenent_variables]\r\n",
    "    y = df[(df[dependent_variable].notnull())\r\n",
    "           & (df['nmrStaked'] > min_stake)][dependent_variable]\r\n",
    "    model = sm.OLS(y, x)\r\n",
    "    results = model.fit()\r\n",
    "    print(results.summary())\r\n"
   ]
  },
  {
   "cell_type": "markdown",
   "metadata": {},
   "source": [
    "## Single regression on impact of NMR stake on 3 Month returns"
   ]
  },
  {
   "cell_type": "code",
   "execution_count": 8,
   "metadata": {},
   "outputs": [
    {
     "name": "stdout",
     "output_type": "stream",
     "text": [
      "                                 OLS Regression Results                                \n",
      "=======================================================================================\n",
      "Dep. Variable:             3M_returns   R-squared (uncentered):                   0.024\n",
      "Model:                            OLS   Adj. R-squared (uncentered):              0.023\n",
      "Method:                 Least Squares   F-statistic:                              45.94\n",
      "Date:                Fri, 05 Mar 2021   Prob (F-statistic):                    1.63e-11\n",
      "Time:                        14:46:03   Log-Likelihood:                         -9008.2\n",
      "No. Observations:                1870   AIC:                                  1.802e+04\n",
      "Df Residuals:                    1869   BIC:                                  1.802e+04\n",
      "Df Model:                           1                                                  \n",
      "Covariance Type:            nonrobust                                                  \n",
      "==============================================================================\n",
      "                 coef    std err          t      P>|t|      [0.025      0.975]\n",
      "------------------------------------------------------------------------------\n",
      "nmrStaked      0.0086      0.001      6.778      0.000       0.006       0.011\n",
      "==============================================================================\n",
      "Omnibus:                      584.421   Durbin-Watson:                   0.774\n",
      "Prob(Omnibus):                  0.000   Jarque-Bera (JB):             2402.665\n",
      "Skew:                           1.463   Prob(JB):                         0.00\n",
      "Kurtosis:                       7.720   Cond. No.                         1.00\n",
      "==============================================================================\n",
      "\n",
      "Notes:\n",
      "[1] R² is computed without centering (uncentered) since the model does not contain a constant.\n",
      "[2] Standard Errors assume that the covariance matrix of the errors is correctly specified.\n"
     ]
    }
   ],
   "source": [
    "compute_single_regression(df,independent_variable='nmrStaked',dependent_variable='3M_returns', min_stake=0)\r\n"
   ]
  },
  {
   "cell_type": "markdown",
   "metadata": {},
   "source": [
    "## Comentary on relationship between NMR and 3 month returns \r\n",
    "\r\n",
    "# There is a small positive relationsihp, but it does not explain much of the varience in the 3 Month Returns.\r\n",
    "\r\n",
    "- The R^2 value is .024, I thought this would be much larger.\r\n",
    "- On explanation is that having access to a lot of capital to stake is not indicitive of being good at model building. "
   ]
  },
  {
   "cell_type": "markdown",
   "metadata": {},
   "source": [
    "## Multiple Regression on 1D returns. "
   ]
  },
  {
   "cell_type": "code",
   "execution_count": 9,
   "metadata": {},
   "outputs": [
    {
     "name": "stdout",
     "output_type": "stream",
     "text": [
      "                                 OLS Regression Results                                \n",
      "=======================================================================================\n",
      "Dep. Variable:             1D_returns   R-squared (uncentered):                   0.270\n",
      "Model:                            OLS   Adj. R-squared (uncentered):              0.269\n",
      "Method:                 Least Squares   F-statistic:                              218.7\n",
      "Date:                Fri, 05 Mar 2021   Prob (F-statistic):                   7.94e-160\n",
      "Time:                        14:46:03   Log-Likelihood:                         -7160.6\n",
      "No. Observations:                2364   AIC:                                  1.433e+04\n",
      "Df Residuals:                    2360   BIC:                                  1.435e+04\n",
      "Df Model:                           4                                                  \n",
      "Covariance Type:            nonrobust                                                  \n",
      "==============================================================================\n",
      "                 coef    std err          t      P>|t|      [0.025      0.975]\n",
      "------------------------------------------------------------------------------\n",
      "corrRep     -145.1446      9.880    -14.691      0.000    -164.519    -125.770\n",
      "fncRep         0.9373     19.094      0.049      0.961     -36.505      38.380\n",
      "mmcRep       176.2144     13.401     13.149      0.000     149.936     202.493\n",
      "nmrStaked  -2.028e-05      0.000     -0.092      0.927      -0.000       0.000\n",
      "==============================================================================\n",
      "Omnibus:                      352.562   Durbin-Watson:                   1.876\n",
      "Prob(Omnibus):                  0.000   Jarque-Bera (JB):             3701.265\n",
      "Skew:                          -0.342   Prob(JB):                         0.00\n",
      "Kurtosis:                       9.092   Cond. No.                     1.12e+05\n",
      "==============================================================================\n",
      "\n",
      "Notes:\n",
      "[1] R² is computed without centering (uncentered) since the model does not contain a constant.\n",
      "[2] Standard Errors assume that the covariance matrix of the errors is correctly specified.\n",
      "[3] The condition number is large, 1.12e+05. This might indicate that there are\n",
      "strong multicollinearity or other numerical problems.\n"
     ]
    }
   ],
   "source": [
    "compute_multiple_regression(df,dependent_variable='1D_returns')\r\n"
   ]
  },
  {
   "cell_type": "markdown",
   "metadata": {},
   "source": [
    "\r\n",
    "## Multiple Regression on 3 Month Returns"
   ]
  },
  {
   "cell_type": "code",
   "execution_count": 10,
   "metadata": {},
   "outputs": [
    {
     "name": "stdout",
     "output_type": "stream",
     "text": [
      "                                 OLS Regression Results                                \n",
      "=======================================================================================\n",
      "Dep. Variable:             3M_returns   R-squared (uncentered):                   0.766\n",
      "Model:                            OLS   Adj. R-squared (uncentered):              0.766\n",
      "Method:                 Least Squares   F-statistic:                              1528.\n",
      "Date:                Fri, 05 Mar 2021   Prob (F-statistic):                        0.00\n",
      "Time:                        14:46:03   Log-Likelihood:                         -7672.3\n",
      "No. Observations:                1870   AIC:                                  1.535e+04\n",
      "Df Residuals:                    1866   BIC:                                  1.537e+04\n",
      "Df Model:                           4                                                  \n",
      "Covariance Type:            nonrobust                                                  \n",
      "==============================================================================\n",
      "                 coef    std err          t      P>|t|      [0.025      0.975]\n",
      "------------------------------------------------------------------------------\n",
      "corrRep     2411.6458     32.441     74.339      0.000    2348.021    2475.271\n",
      "fncRep     -3051.4532     63.108    -48.353      0.000   -3175.223   -2927.683\n",
      "mmcRep       639.8370     41.414     15.450      0.000     558.614     721.060\n",
      "nmrStaked      0.0002      0.001      0.328      0.743      -0.001       0.001\n",
      "==============================================================================\n",
      "Omnibus:                      526.600   Durbin-Watson:                   1.737\n",
      "Prob(Omnibus):                  0.000   Jarque-Bera (JB):             4025.119\n",
      "Skew:                           1.108   Prob(JB):                         0.00\n",
      "Kurtosis:                       9.838   Cond. No.                     1.24e+05\n",
      "==============================================================================\n",
      "\n",
      "Notes:\n",
      "[1] R² is computed without centering (uncentered) since the model does not contain a constant.\n",
      "[2] Standard Errors assume that the covariance matrix of the errors is correctly specified.\n",
      "[3] The condition number is large, 1.24e+05. This might indicate that there are\n",
      "strong multicollinearity or other numerical problems.\n"
     ]
    }
   ],
   "source": [
    "compute_multiple_regression(df,dependent_variable='3M_returns')\r\n"
   ]
  },
  {
   "cell_type": "markdown",
   "metadata": {},
   "source": [
    "# Multiple Regression on 1 Year returns"
   ]
  },
  {
   "cell_type": "code",
   "execution_count": 11,
   "metadata": {},
   "outputs": [
    {
     "name": "stdout",
     "output_type": "stream",
     "text": [
      "                                 OLS Regression Results                                \n",
      "=======================================================================================\n",
      "Dep. Variable:             1Y_returns   R-squared (uncentered):                   0.841\n",
      "Model:                            OLS   Adj. R-squared (uncentered):              0.839\n",
      "Method:                 Least Squares   F-statistic:                              518.7\n",
      "Date:                Fri, 05 Mar 2021   Prob (F-statistic):                   2.72e-155\n",
      "Time:                        14:46:03   Log-Likelihood:                         -2240.0\n",
      "No. Observations:                 397   AIC:                                      4488.\n",
      "Df Residuals:                     393   BIC:                                      4504.\n",
      "Df Model:                           4                                                  \n",
      "Covariance Type:            nonrobust                                                  \n",
      "==============================================================================\n",
      "                 coef    std err          t      P>|t|      [0.025      0.975]\n",
      "------------------------------------------------------------------------------\n",
      "corrRep     8116.9628    349.356     23.234      0.000    7430.123    8803.803\n",
      "fncRep     -1588.9692    699.447     -2.272      0.024   -2964.095    -213.844\n",
      "mmcRep     -6597.0302    443.160    -14.886      0.000   -7468.290   -5725.770\n",
      "nmrStaked      0.0131      0.004      3.406      0.001       0.006       0.021\n",
      "==============================================================================\n",
      "Omnibus:                       46.429   Durbin-Watson:                   1.911\n",
      "Prob(Omnibus):                  0.000   Jarque-Bera (JB):               92.100\n",
      "Skew:                           0.658   Prob(JB):                     1.00e-20\n",
      "Kurtosis:                       4.958   Cond. No.                     2.49e+05\n",
      "==============================================================================\n",
      "\n",
      "Notes:\n",
      "[1] R² is computed without centering (uncentered) since the model does not contain a constant.\n",
      "[2] Standard Errors assume that the covariance matrix of the errors is correctly specified.\n",
      "[3] The condition number is large, 2.49e+05. This might indicate that there are\n",
      "strong multicollinearity or other numerical problems.\n"
     ]
    }
   ],
   "source": [
    "compute_multiple_regression(df, dependent_variable='1Y_returns')"
   ]
  },
  {
   "cell_type": "markdown",
   "metadata": {},
   "source": [
    "## These numbers are drawn in real time from Numerai. The specific values will be different if you run this file on a different day than 3/5/2021\r\n",
    "\r\n",
    "1. I was suprised that there is a negative relationship between FNC and 3M and 1Y returns. I would have expected each of those paramaters to have postive coeffients. \r\n",
    "2. The R^2 increases when you look at larger time frames. This makes intutive sense because as you widen the time frame the random noise will tend to even out. "
   ]
  }
 ],
 "metadata": {
  "kernelspec": {
   "display_name": "Python 3.9.2 64-bit",
   "metadata": {
    "interpreter": {
     "hash": "6f6d64a7ba9cd062c59eea959ce2d8fc2832d4e9d0b0a9d5e546a142dd474f01"
    }
   },
   "name": "python3"
  },
  "language_info": {
   "codemirror_mode": {
    "name": "ipython",
    "version": 3
   },
   "file_extension": ".py",
   "mimetype": "text/x-python",
   "name": "python",
   "nbconvert_exporter": "python",
   "pygments_lexer": "ipython3",
   "version": "3.9.2"
  },
  "orig_nbformat": 2
 },
 "nbformat": 4,
 "nbformat_minor": 2
}