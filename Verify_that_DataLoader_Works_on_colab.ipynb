{
  "nbformat": 4,
  "nbformat_minor": 0,
  "metadata": {
    "colab": {
      "name": "Verify that DataLoader Works on colab.ipynb",
      "provenance": [],
      "collapsed_sections": []
    },
    "kernelspec": {
      "name": "python3",
      "display_name": "Python 3"
    },
    "language_info": {
      "name": "python"
    }
  },
  "cells": [
    {
      "cell_type": "code",
      "metadata": {
        "colab": {
          "base_uri": "https://localhost:8080/"
        },
        "id": "K-ND_wEon7KX",
        "outputId": "a4c61703-bb2d-41cd-bdbf-b052b805a5d8"
      },
      "source": [
        "!git clone https://github.com/parkerburchett/Numerai"
      ],
      "execution_count": 1,
      "outputs": [
        {
          "output_type": "stream",
          "text": [
            "Cloning into 'Numerai'...\n",
            "remote: Enumerating objects: 1522, done.\u001b[K\n",
            "remote: Counting objects: 100% (1522/1522), done.\u001b[K\n",
            "remote: Compressing objects: 100% (1341/1341), done.\u001b[K\n",
            "remote: Total 1522 (delta 241), reused 1434 (delta 161), pack-reused 0\u001b[K\n",
            "Receiving objects: 100% (1522/1522), 76.08 MiB | 26.81 MiB/s, done.\n",
            "Resolving deltas: 100% (241/241), done.\n"
          ],
          "name": "stdout"
        }
      ]
    },
    {
      "cell_type": "code",
      "metadata": {
        "colab": {
          "base_uri": "https://localhost:8080/"
        },
        "id": "8BHNmSBKoLqv",
        "outputId": "23c9524c-20e9-4e4e-fe0e-3d250a5bae02"
      },
      "source": [
        "from Numerai.SimpleScoreCalculator import NumeraiDataLoader\n",
        "# this works.\n",
        "help(NumeraiDataLoader)"
      ],
      "execution_count": 2,
      "outputs": [
        {
          "output_type": "stream",
          "text": [
            "Help on class NumeraiDataLoader in module Numerai.SimpleScoreCalculator:\n",
            "\n",
            "class NumeraiDataLoader(builtins.object)\n",
            " |  Pings and cleans the raw data from Numerai. Each method returns a DataFrame that is optimized for saving memory space.\n",
            " |  \n",
            " |  Much of the code is copy pasted. You can replace fix that later.\n",
            " |  \n",
            " |  Methods defined here:\n",
            " |  \n",
            " |  ping_example_predictions(self) -> pandas.core.frame.DataFrame\n",
            " |      Create a dataframe of id, Prediction, rank_prediction. Run time is ~2 second\n",
            " |      \n",
            " |      \n",
            " |      id              : The unique identifier for a row in the tournament data provided by Numerai\n",
            " |      prediction      : A float (0,1) that the example model predicts for that row. \n",
            " |      rank_prediction : 'prediction' after it is rank normalized.\n",
            " |      \n",
            " |      \n",
            " |      \n",
            " |      Example : \n",
            " |      \n",
            " |                                prediction  rank_prediction\n",
            " |      id              \n",
            " |      n0003aa52cab36c2        0.49    0.097334\n",
            " |      n000920ed083903f        0.49    0.097335\n",
            " |      n0038e640522c4a6        0.53    0.969455\n",
            " |      n004ac94a87dc54b        0.51    0.656894\n",
            " |      n0052fe97ea0c05f        0.50    0.332613\n",
            " |  \n",
            " |  ping_tournament_data(self) -> pandas.core.frame.DataFrame\n",
            " |      Returns a Dataframe of this round, live tournament data.\n",
            " |      \n",
            " |      Adapted from : https://www.kaggle.com/code1110/numerai-tournament | May 3, 2021\n",
            " |  \n",
            " |  ping_training_data(self) -> pandas.core.frame.DataFrame\n",
            " |      Get the live training Data from numerai. Adds a Rank_target column to make the score calc faster.\n",
            " |  \n",
            " |  ping_validation_data(self) -> pandas.core.frame.DataFrame\n",
            " |      Ping Numerai to create get the live tournament data and extact all the validation data.\n",
            " |      \n",
            " |      Adapted from : https://www.kaggle.com/code1110/numerai-tournament | May 3, 2021\n",
            " |  \n",
            " |  ----------------------------------------------------------------------\n",
            " |  Data descriptors defined here:\n",
            " |  \n",
            " |  __dict__\n",
            " |      dictionary for instance variables (if defined)\n",
            " |  \n",
            " |  __weakref__\n",
            " |      list of weak references to the object (if defined)\n",
            "\n"
          ],
          "name": "stdout"
        }
      ]
    },
    {
      "cell_type": "code",
      "metadata": {
        "id": "81S27R8FbWGG"
      },
      "source": [
        "dl = NumeraiDataLoader()"
      ],
      "execution_count": 3,
      "outputs": []
    },
    {
      "cell_type": "code",
      "metadata": {
        "colab": {
          "base_uri": "https://localhost:8080/"
        },
        "id": "KtZXM1jBojc5",
        "outputId": "3d818fc9-f5ba-4341-c97a-b8b819c90cf9"
      },
      "source": [
        "%%time\n",
        "example_preds = dl.ping_example_predictions()\n",
        "print(example_preds.shape)\n",
        "print(example_preds.head())"
      ],
      "execution_count": 4,
      "outputs": [
        {
          "output_type": "stream",
          "text": [
            "(1736405, 2)\n",
            "                  prediction  rank_example_prediction\n",
            "id                                                   \n",
            "n0003aa52cab36c2        0.49                 0.097364\n",
            "n000920ed083903f        0.49                 0.097364\n",
            "n0038e640522c4a6        0.53                 0.969351\n",
            "n004ac94a87dc54b        0.51                 0.656619\n",
            "n0052fe97ea0c05f        0.50                 0.332463\n",
            "CPU times: user 3.25 s, sys: 279 ms, total: 3.53 s\n",
            "Wall time: 4.87 s\n"
          ],
          "name": "stdout"
        }
      ]
    },
    {
      "cell_type": "code",
      "metadata": {
        "colab": {
          "base_uri": "https://localhost:8080/"
        },
        "id": "RYwBkQZDZ4s4",
        "outputId": "272384f2-5e71-4085-b99b-1ec6714ad70f"
      },
      "source": [
        "len(example_preds['rank_example_prediction'].unique()) # looks good each id has a unique prediction"
      ],
      "execution_count": 5,
      "outputs": [
        {
          "output_type": "execute_result",
          "data": {
            "text/plain": [
              "1736405"
            ]
          },
          "metadata": {
            "tags": []
          },
          "execution_count": 5
        }
      ]
    },
    {
      "cell_type": "code",
      "metadata": {
        "colab": {
          "base_uri": "https://localhost:8080/"
        },
        "id": "vWe-9SHyvT37",
        "outputId": "400e26d1-4a31-4164-be5b-3b3ed544e6a3"
      },
      "source": [
        "%%time\n",
        "valid_df = dl.ping_validation_data()\n",
        "print(valid_df.shape)\n",
        "print(valid_df.head())"
      ],
      "execution_count": 6,
      "outputs": [
        {
          "output_type": "stream",
          "text": [
            "(137779, 313)\n",
            "   era  feature_intelligence1  ...  target  rank_target\n",
            "0  121                      1  ...    0.25     0.049935\n",
            "1  121                      3  ...    0.50     0.249755\n",
            "2  121                      4  ...    1.00     0.950058\n",
            "3  121                      3  ...    0.50     0.249762\n",
            "4  121                      1  ...    0.75     0.750223\n",
            "\n",
            "[5 rows x 313 columns]\n",
            "CPU times: user 1min 21s, sys: 12.6 s, total: 1min 34s\n",
            "Wall time: 1min 39s\n"
          ],
          "name": "stdout"
        }
      ]
    },
    {
      "cell_type": "code",
      "metadata": {
        "colab": {
          "base_uri": "https://localhost:8080/"
        },
        "id": "p1XdXdcMh97V",
        "outputId": "df49fcd3-3a67-4093-8446-6335a55c4e84"
      },
      "source": [
        "valid_df['era'].value_counts()"
      ],
      "execution_count": 17,
      "outputs": [
        {
          "output_type": "execute_result",
          "data": {
            "text/plain": [
              "210    5227\n",
              "211    5197\n",
              "212    5191\n",
              "209    5164\n",
              "205    5161\n",
              "204    5152\n",
              "206    5143\n",
              "203    5119\n",
              "208    5114\n",
              "202    5090\n",
              "201    5083\n",
              "199    5006\n",
              "207    4991\n",
              "198    4981\n",
              "197    4970\n",
              "200    4929\n",
              "131    4814\n",
              "132    4812\n",
              "130    4756\n",
              "129    4705\n",
              "125    4698\n",
              "127    4688\n",
              "126    4682\n",
              "122    4658\n",
              "128    4636\n",
              "124    4630\n",
              "123    4609\n",
              "121    4573\n",
              "Name: era, dtype: int64"
            ]
          },
          "metadata": {
            "tags": []
          },
          "execution_count": 17
        }
      ]
    },
    {
      "cell_type": "code",
      "metadata": {
        "colab": {
          "base_uri": "https://localhost:8080/"
        },
        "id": "KPob_J3aZztS",
        "outputId": "3794d2d4-73fc-4e23-a90c-3aaf77b9b4b3"
      },
      "source": [
        "%%time\n",
        "tournament_df = dl.ping_tournament_data() \n",
        "print(tournament_df.shape)\n",
        "print(tournament_df.head())"
      ],
      "execution_count": 7,
      "outputs": [
        {
          "output_type": "stream",
          "text": [
            "Traceback (most recent call last):\n",
            "  File \"/content/Numerai/SimpleScoreCalculator.py\", line 363, in ping_tournament_data\n",
            "    valid_df[\"era\"] = valid_df[\"era\"].apply(lambda x: int(x[3:])) # strip the word 'era' from the era column and cast as an int\n",
            "  File \"/usr/local/lib/python3.7/dist-packages/pandas/core/series.py\", line 4213, in apply\n",
            "    mapped = lib.map_infer(values, f, convert=convert_dtype)\n",
            "  File \"pandas/_libs/lib.pyx\", line 2403, in pandas._libs.lib.map_infer\n",
            "  File \"/content/Numerai/SimpleScoreCalculator.py\", line 363, in <lambda>\n",
            "    valid_df[\"era\"] = valid_df[\"era\"].apply(lambda x: int(x[3:])) # strip the word 'era' from the era column and cast as an int\n",
            "ValueError: invalid literal for int() with base 10: 'X'\n"
          ],
          "name": "stderr"
        },
        {
          "output_type": "stream",
          "text": [
            "(1736405, 311)\n",
            "                     era  ...  feature_wisdom46\n",
            "id                        ...                  \n",
            "n0003aa52cab36c2  era121  ...                 0\n",
            "n000920ed083903f  era121  ...                 2\n",
            "n0038e640522c4a6  era121  ...                 0\n",
            "n004ac94a87dc54b  era121  ...                 1\n",
            "n0052fe97ea0c05f  era121  ...                 4\n",
            "\n",
            "[5 rows x 311 columns]\n",
            "CPU times: user 4min 46s, sys: 27.8 s, total: 5min 13s\n",
            "Wall time: 5min 17s\n"
          ],
          "name": "stdout"
        }
      ]
    },
    {
      "cell_type": "code",
      "metadata": {
        "colab": {
          "base_uri": "https://localhost:8080/"
        },
        "id": "vHJoDAKoaIfL",
        "outputId": "8df42851-3d8d-44cf-a42e-cc5b762837b8"
      },
      "source": [
        "%%time\n",
        "train_df = dl.ping_training_data()\n",
        "print(train_df.shape)\n",
        "print(train_df.head())"
      ],
      "execution_count": 8,
      "outputs": [
        {
          "output_type": "stream",
          "text": [
            "(501808, 314)\n",
            "                  era data_type  ...  target  rank_target\n",
            "id                               ...                     \n",
            "n000315175b67977    1     train  ...    0.50     0.249239\n",
            "n0014af834a96cdd    1     train  ...    0.25     0.049854\n",
            "n001c93979ac41d4    1     train  ...    0.25     0.049856\n",
            "n0034e4143f22a13    1     train  ...    0.25     0.049858\n",
            "n00679d1a636062f    1     train  ...    0.75     0.750779\n",
            "\n",
            "[5 rows x 314 columns]\n",
            "CPU times: user 1min 22s, sys: 12.2 s, total: 1min 34s\n",
            "Wall time: 1min 36s\n"
          ],
          "name": "stdout"
        }
      ]
    },
    {
      "cell_type": "markdown",
      "metadata": {
        "id": "-zwG3t9Ab_NR"
      },
      "source": [
        "### See how much memory each dataframe uses"
      ]
    },
    {
      "cell_type": "code",
      "metadata": {
        "colab": {
          "base_uri": "https://localhost:8080/"
        },
        "id": "Dk9MLrKGbAKq",
        "outputId": "012b63c7-2eb0-4108-e754-c9e47c32537a"
      },
      "source": [
        "print('Example Prediction DataFrame')\n",
        "print(example_preds.info(memory_usage=\"deep\"))"
      ],
      "execution_count": 9,
      "outputs": [
        {
          "output_type": "stream",
          "text": [
            "Example Prediction DataFrame\n",
            "<class 'pandas.core.frame.DataFrame'>\n",
            "Index: 1736405 entries, n0003aa52cab36c2 to nffe50a4328f828a\n",
            "Data columns (total 2 columns):\n",
            " #   Column                   Dtype  \n",
            "---  ------                   -----  \n",
            " 0   prediction               float64\n",
            " 1   rank_example_prediction  float64\n",
            "dtypes: float64(2)\n",
            "memory usage: 147.4 MB\n",
            "None\n"
          ],
          "name": "stdout"
        }
      ]
    },
    {
      "cell_type": "code",
      "metadata": {
        "colab": {
          "base_uri": "https://localhost:8080/"
        },
        "id": "p55g6S7AcTaz",
        "outputId": "811858a2-df7a-4f68-ca76-ba07b2b9e53f"
      },
      "source": [
        "print('Tournament_data DataFrame')\n",
        "print(tournament_df.info(memory_usage=\"deep\"))"
      ],
      "execution_count": 10,
      "outputs": [
        {
          "output_type": "stream",
          "text": [
            "Tournament_data DataFrame\n",
            "<class 'pandas.core.frame.DataFrame'>\n",
            "Index: 1736405 entries, n0003aa52cab36c2 to nffe50a4328f828a\n",
            "Columns: 311 entries, era to feature_wisdom46\n",
            "dtypes: object(1), uint8(310)\n",
            "memory usage: 738.6 MB\n",
            "None\n"
          ],
          "name": "stdout"
        }
      ]
    },
    {
      "cell_type": "code",
      "metadata": {
        "colab": {
          "base_uri": "https://localhost:8080/"
        },
        "id": "gJO9uR_beBOE",
        "outputId": "6ba2ba92-22e9-4284-9944-ddafda303e42"
      },
      "source": [
        "print('Validation Data DataFrame')\n",
        "print(valid_df.info(memory_usage=\"deep\"))"
      ],
      "execution_count": 11,
      "outputs": [
        {
          "output_type": "stream",
          "text": [
            "Validation Data DataFrame\n",
            "<class 'pandas.core.frame.DataFrame'>\n",
            "RangeIndex: 137779 entries, 0 to 137778\n",
            "Columns: 313 entries, era to rank_target\n",
            "dtypes: float64(2), int64(1), uint8(310)\n",
            "memory usage: 43.9 MB\n",
            "None\n"
          ],
          "name": "stdout"
        }
      ]
    },
    {
      "cell_type": "code",
      "metadata": {
        "colab": {
          "base_uri": "https://localhost:8080/"
        },
        "id": "VHQtOZRaeGQR",
        "outputId": "f8556d12-40a2-41d1-edae-41f94e778ccd"
      },
      "source": [
        "print('Train DataFrame')\n",
        "print(train_df.info(memory_usage=\"deep\"))"
      ],
      "execution_count": 12,
      "outputs": [
        {
          "output_type": "stream",
          "text": [
            "Train DataFrame\n",
            "<class 'pandas.core.frame.DataFrame'>\n",
            "Index: 501808 entries, n000315175b67977 to nffba5460b572cfa\n",
            "Columns: 314 entries, era to rank_target\n",
            "dtypes: float64(2), int64(1), object(1), uint8(310)\n",
            "memory usage: 224.4 MB\n",
            "None\n"
          ],
          "name": "stdout"
        }
      ]
    },
    {
      "cell_type": "markdown",
      "metadata": {
        "id": "MSl88Ib1jkuN"
      },
      "source": [
        "### Total memory usage\n",
        "\n",
        "1.1 GB.\n",
        "\n",
        "If you just want the training Data:\n",
        ".22 GB.\n",
        "\n",
        "If you want train and valid:\n",
        ".26 GB\n",
        "\n",
        "If you want train and valid and tournament:\n",
        "1GB"
      ]
    },
    {
      "cell_type": "code",
      "metadata": {
        "id": "2Hd0OoTJjj4c"
      },
      "source": [
        ""
      ],
      "execution_count": null,
      "outputs": []
    }
  ]
}