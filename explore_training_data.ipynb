{
 "cells": [
  {
   "cell_type": "code",
   "execution_count": 3,
   "metadata": {},
   "outputs": [],
   "source": [
    "import pandas as pd\r\n"
   ]
  },
  {
   "cell_type": "code",
   "execution_count": 4,
   "metadata": {},
   "outputs": [],
   "source": [
    "def load_training_data():\r\n",
    "    df = pd.read_csv('numerai_training_data.csv')\r\n",
    "    return df\r\n",
    "\r\n",
    "def load_tournament_data():\r\n",
    "    df = pd.read_csv('numerai_tournament_data.csv')\r\n",
    "    return df\r\n",
    "    \r\n",
    "def load_ticker_data():\r\n",
    "    tickers = pd.read_csv('latest.csv')\r\n",
    "    return tickers\r\n"
   ]
  },
  {
   "cell_type": "code",
   "execution_count": 5,
   "metadata": {},
   "outputs": [],
   "source": [
    "df = load_tournament_data()"
   ]
  },
  {
   "cell_type": "code",
   "execution_count": 6,
   "metadata": {},
   "outputs": [
    {
     "data": {
      "text/plain": "Index(['id', 'era', 'data_type', 'feature_intelligence1',\n       'feature_intelligence2', 'feature_intelligence3',\n       'feature_intelligence4', 'feature_intelligence5',\n       'feature_intelligence6', 'feature_intelligence7',\n       ...\n       'feature_wisdom38', 'feature_wisdom39', 'feature_wisdom40',\n       'feature_wisdom41', 'feature_wisdom42', 'feature_wisdom43',\n       'feature_wisdom44', 'feature_wisdom45', 'feature_wisdom46', 'target'],\n      dtype='object', length=314)"
     },
     "execution_count": 6,
     "metadata": {},
     "output_type": "execute_result"
    }
   ],
   "source": [
    "df.columns"
   ]
  },
  {
   "cell_type": "markdown",
   "metadata": {},
   "source": [
    "# See what the targets are for the tournment data."
   ]
  },
  {
   "cell_type": "code",
   "execution_count": 10,
   "metadata": {},
   "outputs": [
    {
     "data": {
      "text/plain": "0.50    68954\n0.75    27533\n0.25    27531\n1.00     6882\n0.00     6879\nName: target, dtype: int64"
     },
     "execution_count": 10,
     "metadata": {},
     "output_type": "execute_result"
    }
   ],
   "source": [
    "df['target'].value_counts()\r\n"
   ]
  },
  {
   "cell_type": "code",
   "execution_count": 12,
   "metadata": {},
   "outputs": [
    {
     "data": {
      "text/plain": "id                             0\nera                            0\ndata_type                      0\nfeature_intelligence1          0\nfeature_intelligence2          0\n                          ...   \nfeature_wisdom43               0\nfeature_wisdom44               0\nfeature_wisdom45               0\nfeature_wisdom46               0\ntarget                   1522723\nLength: 314, dtype: int64"
     },
     "execution_count": 12,
     "metadata": {},
     "output_type": "execute_result"
    }
   ],
   "source": [
    "df.isna().sum() # it looks like you have 1,522,723 Nan values for the targets.\r\n",
    "\r\n",
    "#There are ~120,000 validation vectors that are stored in the dataset. They have values assoicated with them. You use them to test the CORR of your models. \r\n",
    "\r\n",
    "# that means there are ~1,500,000 real world vectors that your model will be tested on."
   ]
  },
  {
   "cell_type": "code",
   "execution_count": null,
   "metadata": {},
   "outputs": [],
   "source": [
    "df.count() # this takes to long"
   ]
  },
  {
   "cell_type": "markdown",
   "metadata": {},
   "source": [
    "## There are 501808 unique ids in the training data.\r\n",
    "\r\n",
    "This means that they do not uniquely refer to a stock. You cannot take the id and use it to determine what stock it is. "
   ]
  },
  {
   "cell_type": "code",
   "execution_count": 80,
   "metadata": {},
   "outputs": [
    {
     "data": {
      "text/plain": "array(['era1', 'era2', 'era3', 'era4', 'era5', 'era6', 'era7', 'era8',\n       'era9', 'era10', 'era11', 'era12', 'era13', 'era14', 'era15',\n       'era16', 'era17', 'era18', 'era19', 'era20', 'era21', 'era22',\n       'era23', 'era24', 'era25', 'era26', 'era27', 'era28', 'era29',\n       'era30', 'era31', 'era32', 'era33', 'era34', 'era35', 'era36',\n       'era37', 'era38', 'era39', 'era40', 'era41', 'era42', 'era43',\n       'era44', 'era45', 'era46', 'era47', 'era48', 'era49', 'era50',\n       'era51', 'era52', 'era53', 'era54', 'era55', 'era56', 'era57',\n       'era58', 'era59', 'era60', 'era61', 'era62', 'era63', 'era64',\n       'era65', 'era66', 'era67', 'era68', 'era69', 'era70', 'era71',\n       'era72', 'era73', 'era74', 'era75', 'era76', 'era77', 'era78',\n       'era79', 'era80', 'era81', 'era82', 'era83', 'era84', 'era85',\n       'era86', 'era87', 'era88', 'era89', 'era90', 'era91', 'era92',\n       'era93', 'era94', 'era95', 'era96', 'era97', 'era98', 'era99',\n       'era100', 'era101', 'era102', 'era103', 'era104', 'era105',\n       'era106', 'era107', 'era108', 'era109', 'era110', 'era111',\n       'era112', 'era113', 'era114', 'era115', 'era116', 'era117',\n       'era118', 'era119', 'era120'], dtype=object)"
     },
     "execution_count": 80,
     "metadata": {},
     "output_type": "execute_result"
    }
   ],
   "source": [
    "df.era.unique() \r\n",
    "# in this instance of the training data there are 120 eras\r\n",
    "# For each era there are the same features\r\n",
    "# different eras have differnt readid in them. The number of these ids varies by era usally between 2k and 4.5k unique ids in the training data\r\n",
    "# you cannot take a vector of a stock from one era and use it to predict the vector of a target in a different era.\r\n",
    "\r\n"
   ]
  },
  {
   "cell_type": "code",
   "execution_count": 81,
   "metadata": {},
   "outputs": [
    {
     "data": {
      "text/html": "<div>\n<style scoped>\n    .dataframe tbody tr th:only-of-type {\n        vertical-align: middle;\n    }\n\n    .dataframe tbody tr th {\n        vertical-align: top;\n    }\n\n    .dataframe thead th {\n        text-align: right;\n    }\n</style>\n<table border=\"1\" class=\"dataframe\">\n  <thead>\n    <tr style=\"text-align: right;\">\n      <th></th>\n      <th>readid</th>\n      <th>era</th>\n      <th>data_type</th>\n      <th>feature_intelligence1</th>\n      <th>feature_intelligence2</th>\n      <th>feature_intelligence3</th>\n      <th>feature_intelligence4</th>\n      <th>feature_intelligence5</th>\n      <th>feature_intelligence6</th>\n      <th>feature_intelligence7</th>\n      <th>...</th>\n      <th>feature_wisdom38</th>\n      <th>feature_wisdom39</th>\n      <th>feature_wisdom40</th>\n      <th>feature_wisdom41</th>\n      <th>feature_wisdom42</th>\n      <th>feature_wisdom43</th>\n      <th>feature_wisdom44</th>\n      <th>feature_wisdom45</th>\n      <th>feature_wisdom46</th>\n      <th>target</th>\n    </tr>\n  </thead>\n  <tbody>\n    <tr>\n      <th>0</th>\n      <td>n000315175b67977</td>\n      <td>era1</td>\n      <td>train</td>\n      <td>0.00</td>\n      <td>0.5</td>\n      <td>0.25</td>\n      <td>0.00</td>\n      <td>0.5</td>\n      <td>0.25</td>\n      <td>0.25</td>\n      <td>...</td>\n      <td>1.00</td>\n      <td>1.0</td>\n      <td>0.75</td>\n      <td>0.5</td>\n      <td>0.75</td>\n      <td>0.50</td>\n      <td>1.0</td>\n      <td>0.50</td>\n      <td>0.75</td>\n      <td>0.50</td>\n    </tr>\n    <tr>\n      <th>1</th>\n      <td>n0014af834a96cdd</td>\n      <td>era1</td>\n      <td>train</td>\n      <td>0.00</td>\n      <td>0.0</td>\n      <td>0.00</td>\n      <td>0.25</td>\n      <td>0.5</td>\n      <td>0.00</td>\n      <td>0.00</td>\n      <td>...</td>\n      <td>1.00</td>\n      <td>1.0</td>\n      <td>0.00</td>\n      <td>0.0</td>\n      <td>0.75</td>\n      <td>0.25</td>\n      <td>0.0</td>\n      <td>0.25</td>\n      <td>1.00</td>\n      <td>0.25</td>\n    </tr>\n    <tr>\n      <th>2</th>\n      <td>n001c93979ac41d4</td>\n      <td>era1</td>\n      <td>train</td>\n      <td>0.25</td>\n      <td>0.5</td>\n      <td>0.25</td>\n      <td>0.25</td>\n      <td>1.0</td>\n      <td>0.75</td>\n      <td>0.75</td>\n      <td>...</td>\n      <td>0.25</td>\n      <td>0.5</td>\n      <td>0.00</td>\n      <td>0.0</td>\n      <td>0.50</td>\n      <td>1.00</td>\n      <td>0.0</td>\n      <td>0.25</td>\n      <td>0.75</td>\n      <td>0.25</td>\n    </tr>\n  </tbody>\n</table>\n<p>3 rows × 314 columns</p>\n</div>",
      "text/plain": "             readid   era data_type  feature_intelligence1  \\\n0  n000315175b67977  era1     train                   0.00   \n1  n0014af834a96cdd  era1     train                   0.00   \n2  n001c93979ac41d4  era1     train                   0.25   \n\n   feature_intelligence2  feature_intelligence3  feature_intelligence4  \\\n0                    0.5                   0.25                   0.00   \n1                    0.0                   0.00                   0.25   \n2                    0.5                   0.25                   0.25   \n\n   feature_intelligence5  feature_intelligence6  feature_intelligence7  ...  \\\n0                    0.5                   0.25                   0.25  ...   \n1                    0.5                   0.00                   0.00  ...   \n2                    1.0                   0.75                   0.75  ...   \n\n   feature_wisdom38  feature_wisdom39  feature_wisdom40  feature_wisdom41  \\\n0              1.00               1.0              0.75               0.5   \n1              1.00               1.0              0.00               0.0   \n2              0.25               0.5              0.00               0.0   \n\n   feature_wisdom42  feature_wisdom43  feature_wisdom44  feature_wisdom45  \\\n0              0.75              0.50               1.0              0.50   \n1              0.75              0.25               0.0              0.25   \n2              0.50              1.00               0.0              0.25   \n\n   feature_wisdom46  target  \n0              0.75    0.50  \n1              1.00    0.25  \n2              0.75    0.25  \n\n[3 rows x 314 columns]"
     },
     "execution_count": 81,
     "metadata": {},
     "output_type": "execute_result"
    }
   ],
   "source": [
    "df.head(3)# interestingly this takes a non trival amount of time. "
   ]
  },
  {
   "cell_type": "code",
   "execution_count": 82,
   "metadata": {},
   "outputs": [
    {
     "name": "stdout",
     "output_type": "stream",
     "text": [
      "{'train'}\n"
     ]
    }
   ],
   "source": [
    "eras_labeled = df[['era','data_type']] # the data type column only contains the string 'train'\r\n",
    "data_types = eras_labeled['data_type']\r\n",
    "n = data_types.to_numpy()\r\n",
    "n = list(n)\r\n",
    "n = print(set(n))"
   ]
  },
  {
   "cell_type": "code",
   "execution_count": 83,
   "metadata": {},
   "outputs": [
    {
     "data": {
      "text/plain": "readid                   4532\nera                      4532\ndata_type                4532\nfeature_intelligence1    4532\nfeature_intelligence2    4532\n                         ... \nfeature_wisdom43         4532\nfeature_wisdom44         4532\nfeature_wisdom45         4532\nfeature_wisdom46         4532\ntarget                   4532\nLength: 314, dtype: int64"
     },
     "execution_count": 83,
     "metadata": {},
     "output_type": "execute_result"
    }
   ],
   "source": [
    "df[df['era']=='era120'].count()"
   ]
  },
  {
   "cell_type": "markdown",
   "metadata": {},
   "source": [
    "### Notes:\r\n",
    "1. The payout function is payout = stake_value * payout_factor * (corr * corr_multiplier + mmc * mmc_multiplier)\r\n",
    "\r\n",
    "Where stake value is a base amount of NMR. Payout factor is 1. It approaches 0 when you start staking 300k NMR. For your purposes, the payout factor is 1.\r\n",
    "\r\n",
    "corr_multiplier is always 1.\r\n",
    "\r\n",
    "MMC multiplyer is your choice of one of these options: 0.0x, 0.5x, 1.0x, 2.0x\r\n",
    "\r\n",
    "\r\n",
    "You get a daily update on your payout \"These daily payouts are also just updates and only the final payout of a round counts\" but are only actually paid once per week.\r\n",
    "\r\n",
    "So this is what the payout really looks like: \r\n",
    "\r\n",
    "    You are only actaully paid and scored over 4 weeks.\r\n",
    "#Payout(Round_N) = For Day in Range(0,20)\r\n",
    "\r\n",
    "Compute_today_payout = stake_value(This is a constant for 4 weeks.) * corr + mmc*(0 or 2) (most people that are profitable make money on MMCx2)\r\n",
    "\r\n",
    "\r\n",
    "corr_list = an arry of floats bounded between -.1 an 1 (). You are paid = the sum of stake_value*CORR[i] for i in corr_list. \r\n",
    "\r\n",
    "What you reall have is overlapping 4 week ROIs Lets simulate this in numpy\r\n",
    "\r\n",
    "\r\n",
    "    So far it is unclear what distribtuion corr_list typically follows. My guess is it decreases over time. or is normal or depends on the algo you use. \r\n",
    "\r\n",
    "    I might be able to cluster algos by the distribtuion type of their corr scores. \r\n",
    "\r\n",
    "\r\n",
    "Pre(rou)\r\n",
    "\r\n",
    "2. \"When you decrease your stake, NMR is transferred from the staking contract back into your wallet after a ~4 week delay.\" -https://docs.numer.ai/tournament/learn \r\n",
    " They make you wait 4 weeks to get your NMR out. This (might) makes you less likly to pull money in and out as NMR to USD changes.\r\n",
    "    I don't know what it would look like to set up automatic payments for this system. It would need to be profitable in the long term to pay for itself. You cannot take today's payout and use it to buy time on the cloud."
   ]
  },
  {
   "cell_type": "markdown",
   "metadata": {},
   "source": [
    "## Types of analysis\r\n",
    "\r\n",
    "1. One thing you can do is train on a subset of the eras and test on the other. \r\n",
    "2. You should find an algorithmic way to determine the stdev between your normalized(predictions)= target(normalized) predictions. this corrosponds to the 'Validation SD' entry in the diagnositics.  \r\n",
    "3.\r\n"
   ]
  },
  {
   "cell_type": "markdown",
   "metadata": {},
   "source": [
    "## Simple ROI Projectinos with numpy and matplot lib\r\n",
    "\r\n",
    "monte carlo simulation\r\n",
    "\r\n",
    "1. Assumptions. ignore MMC. Multiplyer = 0.0\r\n",
    "2. Play with different corr distibutions. distribtuions.\r\n",
    "\r\n",
    "3. Simulate this 10k times and look at the freqency distribtuion.\r\n",
    "4. Put this notebook on the forum.\r\n",
    "\r\n",
    "\r\n"
   ]
  },
  {
   "cell_type": "code",
   "execution_count": 84,
   "metadata": {},
   "outputs": [],
   "source": [
    "import matplotlib.pyplot as plt\r\n",
    "import numpy as np"
   ]
  },
  {
   "cell_type": "code",
   "execution_count": 115,
   "metadata": {},
   "outputs": [
    {
     "name": "stdout",
     "output_type": "stream",
     "text": [
      "<class 'list'>\n",
      "<class 'numpy.float64'>\n",
      " Assuming mean corr of 0.02 and std_dev corr 0.02, and a stake value 100: 24.581041368447984\n"
     ]
    }
   ],
   "source": [
    "CORR_MEAN =.02\r\n",
    "CORR_STDDEV = .02 # sharpe ratio of 1.\r\n",
    "STAKE_VALUE =100 # Arbritary stake value\r\n",
    "\r\n",
    "# A array of floats representing your 20 round corr scores assuming a normal distribution\r\n",
    "sample_scores_normal = np.random.normal(loc=CORR_MEAN,scale=CORR_STDDEV,size=(1,20))\r\n",
    "payouts = [score * STAKE_VALUE for score in sample_scores_normal]\r\n",
    "total_payout = np.sum(payouts)\r\n",
    "\r\n",
    "print(f' Assuming mean corr of {CORR_MEAN} and std_dev corr {CORR_STDDEV}, and a stake value {STAKE_VALUE}: Your payout is {total_payout}')\r\n",
    "\r\n"
   ]
  },
  {
   "cell_type": "code",
   "execution_count": 116,
   "metadata": {},
   "outputs": [],
   "source": [
    "def compute_payout_normal(mean,std_dev,stake):\r\n",
    "    \"\"\"\r\n",
    "    Assuming a normal distribution, MMC multiplier of 0 this computes your payout after 20 rounds. \r\n",
    "    \"\"\"\r\n",
    "    scores = np.random.normal(loc=mean,scale=std_dev,size=(1,20))\r\n",
    "    payouts = [score * stake for score in scores]\r\n",
    "    total_payout = np.sum(payouts)\r\n",
    "    return total_payout"
   ]
  },
  {
   "cell_type": "markdown",
   "metadata": {},
   "source": [
    "## Monte Carlo Payouts over 20 days"
   ]
  },
  {
   "cell_type": "code",
   "execution_count": 117,
   "metadata": {},
   "outputs": [],
   "source": [
    "def monte_carlo_normal_payouts(num_simulations, mean, std_dev, stake):\r\n",
    "    total_payouts = [compute_payout_normal(mean,std_dev,stake) for i in range(num_simulations)]\r\n",
    "    return total_payouts"
   ]
  },
  {
   "cell_type": "code",
   "execution_count": 140,
   "metadata": {},
   "outputs": [
    {
     "name": "stdout",
     "output_type": "stream",
     "text": [
      "0.5008 of simulations Had a payout greater than 0\n",
      "average outcome of simulation -0.01890874938262996\n"
     ]
    },
    {
     "data": {
      "image/png": "[encoded data removed]",
      "text/plain": "<Figure size 432x288 with 1 Axes>"
     },
     "metadata": {
      "needs_background": "light"
     },
     "output_type": "display_data"
    }
   ],
   "source": [
    "outcomes = monte_carlo_normal_payouts(10000,.00,.02,100)\r\n",
    "plt.hist(outcomes)\r\n",
    "percent_net_positive = len(list(filter(lambda x: x >0, outcomes)))/len(outcomes)\r\n",
    "print(f'{percent_net_positive} of simulations Had a payout greater than 0')\r\n",
    "average_outcome = np.average(outcomes)\r\n",
    "print(f'average outcome of simulation {average_outcome}')"
   ]
  }
 ],
 "metadata": {
  "kernelspec": {
   "display_name": "Python 3.9.2 64-bit",
   "metadata": {
    "interpreter": {
     "hash": "6f6d64a7ba9cd062c59eea959ce2d8fc2832d4e9d0b0a9d5e546a142dd474f01"
    }
   },
   "name": "python3"
  },
  "language_info": {
   "codemirror_mode": {
    "name": "ipython",
    "version": 3
   },
   "file_extension": ".py",
   "mimetype": "text/x-python",
   "name": "python",
   "nbconvert_exporter": "python",
   "pygments_lexer": "ipython3",
   "version": "3.9.2"
  },
  "orig_nbformat": 2
 },
 "nbformat": 4,
 "nbformat_minor": 2
}