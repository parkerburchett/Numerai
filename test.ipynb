{
 "cells": [
  {
   "cell_type": "code",
   "execution_count": 4,
   "metadata": {},
   "outputs": [],
   "source": [
    "import pandas as pd\r\n",
    "\r\n",
    "example_pred = pd.read_csv(\"https://numerai-public-datasets.s3-us-west-2.amazonaws.com/latest_numerai_example_predictions_data.csv.xz\", index_col=0)\r\n"
   ]
  },
  {
   "cell_type": "code",
   "execution_count": 6,
   "metadata": {},
   "outputs": [
    {
     "data": {
      "text/html": "<div>\n<style scoped>\n    .dataframe tbody tr th:only-of-type {\n        vertical-align: middle;\n    }\n\n    .dataframe tbody tr th {\n        vertical-align: top;\n    }\n\n    .dataframe thead th {\n        text-align: right;\n    }\n</style>\n<table border=\"1\" class=\"dataframe\">\n  <thead>\n    <tr style=\"text-align: right;\">\n      <th></th>\n      <th>prediction</th>\n    </tr>\n    <tr>\n      <th>id</th>\n      <th></th>\n    </tr>\n  </thead>\n  <tbody>\n    <tr>\n      <th>n0003aa52cab36c2</th>\n      <td>0.49</td>\n    </tr>\n    <tr>\n      <th>n000920ed083903f</th>\n      <td>0.49</td>\n    </tr>\n    <tr>\n      <th>n0038e640522c4a6</th>\n      <td>0.53</td>\n    </tr>\n    <tr>\n      <th>n004ac94a87dc54b</th>\n      <td>0.51</td>\n    </tr>\n    <tr>\n      <th>n0052fe97ea0c05f</th>\n      <td>0.50</td>\n    </tr>\n    <tr>\n      <th>...</th>\n      <td>...</td>\n    </tr>\n    <tr>\n      <th>nffe60faae42d3c2</th>\n      <td>0.51</td>\n    </tr>\n    <tr>\n      <th>nffe9b02e07ab272</th>\n      <td>0.52</td>\n    </tr>\n    <tr>\n      <th>nffe9f5eb263211c</th>\n      <td>0.51</td>\n    </tr>\n    <tr>\n      <th>nfff507dae8c8e6c</th>\n      <td>0.50</td>\n    </tr>\n    <tr>\n      <th>nfffababc1a40e36</th>\n      <td>0.54</td>\n    </tr>\n  </tbody>\n</table>\n<p>1709335 rows × 1 columns</p>\n</div>",
      "text/plain": "                  prediction\nid                          \nn0003aa52cab36c2        0.49\nn000920ed083903f        0.49\nn0038e640522c4a6        0.53\nn004ac94a87dc54b        0.51\nn0052fe97ea0c05f        0.50\n...                      ...\nnffe60faae42d3c2        0.51\nnffe9b02e07ab272        0.52\nnffe9f5eb263211c        0.51\nnfff507dae8c8e6c        0.50\nnfffababc1a40e36        0.54\n\n[1709335 rows x 1 columns]"
     },
     "execution_count": 6,
     "metadata": {},
     "output_type": "execute_result"
    }
   ],
   "source": [
    "example_pred\r\n"
   ]
  }
 ],
 "metadata": {
  "kernelspec": {
   "display_name": "Python 3.9.4 64-bit",
   "name": "python394jvsc74a57bd06f6d64a7ba9cd062c59eea959ce2d8fc2832d4e9d0b0a9d5e546a142dd474f01"
  },
  "language_info": {
   "codemirror_mode": {
    "name": "ipython",
    "version": 3
   },
   "file_extension": ".py",
   "mimetype": "text/x-python",
   "name": "python",
   "nbconvert_exporter": "python",
   "pygments_lexer": "ipython3",
   "version": "3.9.4"
  },
  "metadata": {
   "interpreter": {
    "hash": "6f6d64a7ba9cd062c59eea959ce2d8fc2832d4e9d0b0a9d5e546a142dd474f01"
   }
  },
  "orig_nbformat": 2
 },
 "nbformat": 4,
 "nbformat_minor": 2
}